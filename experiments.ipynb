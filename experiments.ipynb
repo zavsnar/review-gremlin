{
 "cells": [
  {
   "cell_type": "code",
   "execution_count": 2,
   "id": "d4171003",
   "metadata": {},
   "outputs": [],
   "source": [
    "from pymongo import MongoClient\n",
    "from langchain_core.documents import Document # Keep Document as it's used in the query function signature if needed later\n",
    "from langchain_ollama import ChatOllama\n",
    "\n",
    "from app.chroma_client import chroma_client"
   ]
  },
  {
   "cell_type": "code",
   "execution_count": 3,
   "id": "4a494bce-f8a1-479c-886c-f8cf3250becc",
   "metadata": {},
   "outputs": [],
   "source": [
    "MONGODB_URI = \"mongodb://127.0.0.1:27017/mydb\"  # Use the service name 'mongo'\n",
    "mongo_client = MongoClient(MONGODB_URI)\n",
    "mdb = mongo_client.mydb\n",
    "mongo_collection = mdb.mycollection"
   ]
  },
  {
   "cell_type": "code",
   "execution_count": 87,
   "id": "ec9677ea-d3e1-44e7-ab39-8644a185ed97",
   "metadata": {},
   "outputs": [],
   "source": [
    "user_query = \"What is the most negative comments?\"\n",
    "separator = \"#next_question#\"\n",
    "expand_to_n = 5"
   ]
  },
  {
   "cell_type": "code",
   "execution_count": 95,
   "id": "d26f4b37-fd9a-414f-9f7f-8cce2d56fce5",
   "metadata": {},
   "outputs": [],
   "source": [
    "llm_model = ChatOllama(\n",
    "    model=\"llama3.2:3b\",\n",
    ")\n",
    "\n",
    "EXPANTION_PROMPT_TEMPLATE = f\"\"\"You are an AI language model assistant.\n",
    "Your task is to generate {expand_to_n} different versions of the given user question or sentence to \n",
    "retrieve relevant documents from a vector database.\n",
    "By generating multiple perspectives on the user question or sentence, your goal is to help\n",
    "the user overcome some of the limitations of the distance-based similarity search.\n",
    "Database stores comments to pull-requests.\n",
    "Provide these alternative questions or sentences seperated by '{separator}'. \n",
    "Don't add to your answer additional information.\n",
    "Original question: {user_query}\n",
    "\n",
    "Additional questions:\n",
    "\"\"\"\n",
    "\n",
    "EXPANTION_WITH_EXAMPLES_PROMPT_TEMPLATE = f\"\"\"You are an AI language model assistant.\n",
    "Your task is to generate {expand_to_n} examples of answers to the given user question to \n",
    "retrieve relevant documents from a vector database.\n",
    "The database stores comments for pull-requests.\n",
    "Provide these answers separated by '{separator}'.\n",
    "Don't add additional information.\n",
    "Original question: {user_query}\n",
    "\n",
    "Example responses:\n",
    "\"\"\"\n",
    "\n",
    "prompt = EXPANTION_WITH_EXAMPLES_PROMPT_TEMPLATE"
   ]
  },
  {
   "cell_type": "code",
   "execution_count": 96,
   "id": "0c426e58-ebbc-473f-9592-0bd0522524d7",
   "metadata": {},
   "outputs": [],
   "source": [
    "_llm_response = llm_model.invoke(prompt)\n",
    "additional_questions = _llm_response.content.split(separator)[1:]"
   ]
  },
  {
   "cell_type": "code",
   "execution_count": 97,
   "id": "7164faa3-a77e-40d9-a652-9aa4d4b629bf",
   "metadata": {},
   "outputs": [
    {
     "data": {
      "text/plain": [
       "AIMessage(content='#1 The most negative comment in the vector database could be retrieved using a query such as \"negativity score > 0.8 AND sentiment label = \\'negative\\'\".\\n\\n#2 To find the most negative comments, we can use a natural language processing (NLP) technique like sentiment analysis to calculate the negativity score of each comment.\\n\\n#3 We can also consider using a ranking algorithm that takes into account the frequency and severity of negative comments in the database.\\n\\n#4 Another approach would be to apply machine learning techniques such as clustering or deep learning models trained on sentiment analysis tasks.\\n\\n#5 Additionally, we could utilize vector similarity search algorithms like an embedding-based method to find comments with similar negative sentiments.', additional_kwargs={}, response_metadata={'model': 'llama3.2:3b', 'created_at': '2025-04-22T07:26:09.036185Z', 'done': True, 'done_reason': 'stop', 'total_duration': 3614089291, 'load_duration': 26263125, 'prompt_eval_count': 96, 'prompt_eval_duration': 195326209, 'eval_count': 142, 'eval_duration': 3392081250, 'model_name': 'llama3.2:3b'}, id='run-07279f66-e08d-4771-8010-e34411ec5ad7-0', usage_metadata={'input_tokens': 96, 'output_tokens': 142, 'total_tokens': 238})"
      ]
     },
     "execution_count": 97,
     "metadata": {},
     "output_type": "execute_result"
    }
   ],
   "source": [
    "_llm_response"
   ]
  },
  {
   "cell_type": "code",
   "execution_count": 98,
   "id": "fe787772-90cc-47f3-ac46-07fd499c8a13",
   "metadata": {},
   "outputs": [],
   "source": [
    "for question in additional_questions:\n",
    "    print(question)\n",
    "\n",
    "additional_questions_str = \" \".join(additional_questions).replace('\\n\\n', ' ')"
   ]
  },
  {
   "cell_type": "code",
   "execution_count": 80,
   "id": "4ae91711-d191-4b64-909d-0a952f7a84ac",
   "metadata": {},
   "outputs": [
    {
     "name": "stdout",
     "output_type": "stream",
     "text": [
      "Get the most negative comments. \n"
     ]
    }
   ],
   "source": [
    "augmented_query = f\"{user_query} {additional_questions_str}\"\n",
    "print(augmented_query)"
   ]
  },
  {
   "cell_type": "code",
   "execution_count": 81,
   "id": "fa41395f-1d9b-46d9-90b2-50ebc29919d2",
   "metadata": {},
   "outputs": [],
   "source": [
    "results = chroma_client.similarity_search(augmented_query)\n",
    "\n",
    "context_comments = \"\\n\\n --- \\n\\n\".join([doc.page_content for doc in results])"
   ]
  },
  {
   "cell_type": "code",
   "execution_count": 82,
   "id": "8687ec80-26a3-4e7d-853b-94de3dc4d3f4",
   "metadata": {},
   "outputs": [
    {
     "data": {
      "text/plain": [
       "'Add a comment explaining why this specific approach was taken.\\n\\n --- \\n\\nThe performance of this query could be improved.\\n\\n --- \\n\\nPlease reformat this section to adhere to PEP 8 guidelines.\\n\\n --- \\n\\nThis function could benefit from some inline comments explaining the logic.'"
      ]
     },
     "execution_count": 82,
     "metadata": {},
     "output_type": "execute_result"
    }
   ],
   "source": [
    "context_comments"
   ]
  },
  {
   "cell_type": "code",
   "execution_count": null,
   "id": "7c7b94b4-2670-4049-a781-c943f714131b",
   "metadata": {},
   "outputs": [],
   "source": []
  }
 ],
 "metadata": {
  "kernelspec": {
   "display_name": "Python 3 (ipykernel)",
   "language": "python",
   "name": "python3"
  },
  "language_info": {
   "codemirror_mode": {
    "name": "ipython",
    "version": 3
   },
   "file_extension": ".py",
   "mimetype": "text/x-python",
   "name": "python",
   "nbconvert_exporter": "python",
   "pygments_lexer": "ipython3",
   "version": "3.12.9"
  }
 },
 "nbformat": 4,
 "nbformat_minor": 5
}
