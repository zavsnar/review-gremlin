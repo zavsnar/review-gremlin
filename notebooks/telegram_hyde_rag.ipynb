{
 "cells": [
  {
   "cell_type": "code",
   "execution_count": 1,
   "id": "8f317781-b2c4-4d16-959f-bd9f46670712",
   "metadata": {
    "ExecuteTime": {
     "end_time": "2025-05-04T07:55:10.502652Z",
     "start_time": "2025-05-04T07:55:02.794293Z"
    }
   },
   "outputs": [],
   "source": [
    "import os\n",
    "import sys\n",
    "app_path = os.path.abspath('..')\n",
    "sys.path.insert(0, app_path)\n",
    "\n",
    "from datetime import datetime, UTC\n",
    "\n",
    "from langchain import PromptTemplate\n",
    "from langchain_ollama import ChatOllama\n",
    "\n",
    "from app.chroma_client import get_embeddings, get_client"
   ]
  },
  {
   "cell_type": "code",
   "execution_count": 2,
   "id": "2726e596170995ec",
   "metadata": {
    "ExecuteTime": {
     "end_time": "2025-05-04T07:55:10.509815Z",
     "start_time": "2025-05-04T07:55:10.507032Z"
    }
   },
   "outputs": [],
   "source": [
    "channel_name = 'go_to_vilnius'\n",
    "channel_id = -1133953167"
   ]
  },
  {
   "cell_type": "code",
   "execution_count": 3,
   "id": "c07b9ed61b941097",
   "metadata": {
    "ExecuteTime": {
     "end_time": "2025-05-04T07:55:16.186604Z",
     "start_time": "2025-05-04T07:55:10.558038Z"
    }
   },
   "outputs": [],
   "source": [
    "# ru_model_name = \"cointegrated/rubert-tiny2\"\n",
    "ru_model_name = \"intfloat/multilingual-e5-large\"\n",
    "embeddings = get_embeddings(ru_model_name)\n",
    "\n",
    "chroma_client_from_telegram = get_client(f'telegram_{channel_name}', embeddings)"
   ]
  },
  {
   "cell_type": "code",
   "execution_count": 4,
   "id": "28b19e1229e17113",
   "metadata": {
    "ExecuteTime": {
     "end_time": "2025-05-04T07:55:16.236495Z",
     "start_time": "2025-05-04T07:55:16.194253Z"
    }
   },
   "outputs": [],
   "source": [
    "llm_qwen3_8b = ChatOllama(\n",
    "    model=\"qwen3:8b\",\n",
    ")"
   ]
  },
  {
   "cell_type": "code",
   "execution_count": 5,
   "id": "e297c8c001160326",
   "metadata": {
    "ExecuteTime": {
     "end_time": "2025-05-04T07:55:16.251087Z",
     "start_time": "2025-05-04T07:55:16.248043Z"
    }
   },
   "outputs": [],
   "source": [
    "user_query = \"Выведи самые токсичные сообщения в чате.\"\n",
    "user_query = \"Выведи самые позитивные сообщения в чате.\"\n",
    "user_query = \"Выведи самые негативные сообщения с Литве и Вильнюсе в чате.\"\n",
    "# user_query = \"Можно ли компенсировать отель или аквапарк через велнес/БТА/бта/BTA?\"\n",
    "# user_query = \"Как получить детские деньги или компенсацию по уходу за ребенком.\""
   ]
  },
  {
   "cell_type": "code",
   "execution_count": 6,
   "id": "22ee47275f8e0136",
   "metadata": {
    "ExecuteTime": {
     "end_time": "2025-05-04T07:55:55.021476Z",
     "start_time": "2025-05-04T07:55:48.218293Z"
    }
   },
   "outputs": [
    {
     "ename": "ResponseError",
     "evalue": "llama runner process has terminated: error loading model: unable to allocate CUDA0 buffer\nllama_model_load_from_file_impl: failed to load model (status code: 500)",
     "output_type": "error",
     "traceback": [
      "\u001b[31m---------------------------------------------------------------------------\u001b[39m",
      "\u001b[31mResponseError\u001b[39m                             Traceback (most recent call last)",
      "\u001b[36mCell\u001b[39m\u001b[36m \u001b[39m\u001b[32mIn[6]\u001b[39m\u001b[32m, line 41\u001b[39m\n\u001b[32m     14\u001b[39m ru_telegram_prompt_expanding = PromptTemplate(\n\u001b[32m     15\u001b[39m     input_variables=[\u001b[33m\"\u001b[39m\u001b[33muser_query\u001b[39m\u001b[33m\"\u001b[39m, \u001b[33m\"\u001b[39m\u001b[33mn\u001b[39m\u001b[33m\"\u001b[39m],\n\u001b[32m     16\u001b[39m     template=\u001b[33m\"\"\"\u001b[39m\n\u001b[32m   (...)\u001b[39m\u001b[32m     37\u001b[39m \u001b[33m\"\"\"\u001b[39m,\n\u001b[32m     38\u001b[39m )\n\u001b[32m     40\u001b[39m hyde_chain_r1_8b = ru_telegram_prompt_expanding | llm_qwen3_8b\n\u001b[32m---> \u001b[39m\u001b[32m41\u001b[39m raw_hypothetical_answers = \u001b[43mhyde_chain_r1_8b\u001b[49m\u001b[43m.\u001b[49m\u001b[43minvoke\u001b[49m\u001b[43m(\u001b[49m\u001b[43m{\u001b[49m\u001b[33;43m\"\u001b[39;49m\u001b[33;43muser_query\u001b[39;49m\u001b[33;43m\"\u001b[39;49m\u001b[43m:\u001b[49m\u001b[43m \u001b[49m\u001b[43muser_query\u001b[49m\u001b[43m,\u001b[49m\u001b[43m \u001b[49m\u001b[33;43m\"\u001b[39;49m\u001b[33;43mn\u001b[39;49m\u001b[33;43m\"\u001b[39;49m\u001b[43m:\u001b[49m\u001b[43m \u001b[49m\u001b[32;43m15\u001b[39;49m\u001b[43m}\u001b[49m\u001b[43m)\u001b[49m.content\n\u001b[32m     42\u001b[39m raw_hypothetical_answers\n",
      "\u001b[36mFile \u001b[39m\u001b[32m~/.pyenv/versions/3.12.9/envs/review_gremlin/lib/python3.12/site-packages/langchain_core/runnables/base.py:3034\u001b[39m, in \u001b[36mRunnableSequence.invoke\u001b[39m\u001b[34m(self, input, config, **kwargs)\u001b[39m\n\u001b[32m   3032\u001b[39m                 \u001b[38;5;28minput\u001b[39m = context.run(step.invoke, \u001b[38;5;28minput\u001b[39m, config, **kwargs)\n\u001b[32m   3033\u001b[39m             \u001b[38;5;28;01melse\u001b[39;00m:\n\u001b[32m-> \u001b[39m\u001b[32m3034\u001b[39m                 \u001b[38;5;28minput\u001b[39m = \u001b[43mcontext\u001b[49m\u001b[43m.\u001b[49m\u001b[43mrun\u001b[49m\u001b[43m(\u001b[49m\u001b[43mstep\u001b[49m\u001b[43m.\u001b[49m\u001b[43minvoke\u001b[49m\u001b[43m,\u001b[49m\u001b[43m \u001b[49m\u001b[38;5;28;43minput\u001b[39;49m\u001b[43m,\u001b[49m\u001b[43m \u001b[49m\u001b[43mconfig\u001b[49m\u001b[43m)\u001b[49m\n\u001b[32m   3035\u001b[39m \u001b[38;5;66;03m# finish the root run\u001b[39;00m\n\u001b[32m   3036\u001b[39m \u001b[38;5;28;01mexcept\u001b[39;00m \u001b[38;5;167;01mBaseException\u001b[39;00m \u001b[38;5;28;01mas\u001b[39;00m e:\n",
      "\u001b[36mFile \u001b[39m\u001b[32m~/.pyenv/versions/3.12.9/envs/review_gremlin/lib/python3.12/site-packages/langchain_core/language_models/chat_models.py:368\u001b[39m, in \u001b[36mBaseChatModel.invoke\u001b[39m\u001b[34m(self, input, config, stop, **kwargs)\u001b[39m\n\u001b[32m    356\u001b[39m \u001b[38;5;129m@override\u001b[39m\n\u001b[32m    357\u001b[39m \u001b[38;5;28;01mdef\u001b[39;00m\u001b[38;5;250m \u001b[39m\u001b[34minvoke\u001b[39m(\n\u001b[32m    358\u001b[39m     \u001b[38;5;28mself\u001b[39m,\n\u001b[32m   (...)\u001b[39m\u001b[32m    363\u001b[39m     **kwargs: Any,\n\u001b[32m    364\u001b[39m ) -> BaseMessage:\n\u001b[32m    365\u001b[39m     config = ensure_config(config)\n\u001b[32m    366\u001b[39m     \u001b[38;5;28;01mreturn\u001b[39;00m cast(\n\u001b[32m    367\u001b[39m         \u001b[33m\"\u001b[39m\u001b[33mChatGeneration\u001b[39m\u001b[33m\"\u001b[39m,\n\u001b[32m--> \u001b[39m\u001b[32m368\u001b[39m         \u001b[38;5;28;43mself\u001b[39;49m\u001b[43m.\u001b[49m\u001b[43mgenerate_prompt\u001b[49m\u001b[43m(\u001b[49m\n\u001b[32m    369\u001b[39m \u001b[43m            \u001b[49m\u001b[43m[\u001b[49m\u001b[38;5;28;43mself\u001b[39;49m\u001b[43m.\u001b[49m\u001b[43m_convert_input\u001b[49m\u001b[43m(\u001b[49m\u001b[38;5;28;43minput\u001b[39;49m\u001b[43m)\u001b[49m\u001b[43m]\u001b[49m\u001b[43m,\u001b[49m\n\u001b[32m    370\u001b[39m \u001b[43m            \u001b[49m\u001b[43mstop\u001b[49m\u001b[43m=\u001b[49m\u001b[43mstop\u001b[49m\u001b[43m,\u001b[49m\n\u001b[32m    371\u001b[39m \u001b[43m            \u001b[49m\u001b[43mcallbacks\u001b[49m\u001b[43m=\u001b[49m\u001b[43mconfig\u001b[49m\u001b[43m.\u001b[49m\u001b[43mget\u001b[49m\u001b[43m(\u001b[49m\u001b[33;43m\"\u001b[39;49m\u001b[33;43mcallbacks\u001b[39;49m\u001b[33;43m\"\u001b[39;49m\u001b[43m)\u001b[49m\u001b[43m,\u001b[49m\n\u001b[32m    372\u001b[39m \u001b[43m            \u001b[49m\u001b[43mtags\u001b[49m\u001b[43m=\u001b[49m\u001b[43mconfig\u001b[49m\u001b[43m.\u001b[49m\u001b[43mget\u001b[49m\u001b[43m(\u001b[49m\u001b[33;43m\"\u001b[39;49m\u001b[33;43mtags\u001b[39;49m\u001b[33;43m\"\u001b[39;49m\u001b[43m)\u001b[49m\u001b[43m,\u001b[49m\n\u001b[32m    373\u001b[39m \u001b[43m            \u001b[49m\u001b[43mmetadata\u001b[49m\u001b[43m=\u001b[49m\u001b[43mconfig\u001b[49m\u001b[43m.\u001b[49m\u001b[43mget\u001b[49m\u001b[43m(\u001b[49m\u001b[33;43m\"\u001b[39;49m\u001b[33;43mmetadata\u001b[39;49m\u001b[33;43m\"\u001b[39;49m\u001b[43m)\u001b[49m\u001b[43m,\u001b[49m\n\u001b[32m    374\u001b[39m \u001b[43m            \u001b[49m\u001b[43mrun_name\u001b[49m\u001b[43m=\u001b[49m\u001b[43mconfig\u001b[49m\u001b[43m.\u001b[49m\u001b[43mget\u001b[49m\u001b[43m(\u001b[49m\u001b[33;43m\"\u001b[39;49m\u001b[33;43mrun_name\u001b[39;49m\u001b[33;43m\"\u001b[39;49m\u001b[43m)\u001b[49m\u001b[43m,\u001b[49m\n\u001b[32m    375\u001b[39m \u001b[43m            \u001b[49m\u001b[43mrun_id\u001b[49m\u001b[43m=\u001b[49m\u001b[43mconfig\u001b[49m\u001b[43m.\u001b[49m\u001b[43mpop\u001b[49m\u001b[43m(\u001b[49m\u001b[33;43m\"\u001b[39;49m\u001b[33;43mrun_id\u001b[39;49m\u001b[33;43m\"\u001b[39;49m\u001b[43m,\u001b[49m\u001b[43m \u001b[49m\u001b[38;5;28;43;01mNone\u001b[39;49;00m\u001b[43m)\u001b[49m\u001b[43m,\u001b[49m\n\u001b[32m    376\u001b[39m \u001b[43m            \u001b[49m\u001b[43m*\u001b[49m\u001b[43m*\u001b[49m\u001b[43mkwargs\u001b[49m\u001b[43m,\u001b[49m\n\u001b[32m    377\u001b[39m \u001b[43m        \u001b[49m\u001b[43m)\u001b[49m.generations[\u001b[32m0\u001b[39m][\u001b[32m0\u001b[39m],\n\u001b[32m    378\u001b[39m     ).message\n",
      "\u001b[36mFile \u001b[39m\u001b[32m~/.pyenv/versions/3.12.9/envs/review_gremlin/lib/python3.12/site-packages/langchain_core/language_models/chat_models.py:937\u001b[39m, in \u001b[36mBaseChatModel.generate_prompt\u001b[39m\u001b[34m(self, prompts, stop, callbacks, **kwargs)\u001b[39m\n\u001b[32m    928\u001b[39m \u001b[38;5;129m@override\u001b[39m\n\u001b[32m    929\u001b[39m \u001b[38;5;28;01mdef\u001b[39;00m\u001b[38;5;250m \u001b[39m\u001b[34mgenerate_prompt\u001b[39m(\n\u001b[32m    930\u001b[39m     \u001b[38;5;28mself\u001b[39m,\n\u001b[32m   (...)\u001b[39m\u001b[32m    934\u001b[39m     **kwargs: Any,\n\u001b[32m    935\u001b[39m ) -> LLMResult:\n\u001b[32m    936\u001b[39m     prompt_messages = [p.to_messages() \u001b[38;5;28;01mfor\u001b[39;00m p \u001b[38;5;129;01min\u001b[39;00m prompts]\n\u001b[32m--> \u001b[39m\u001b[32m937\u001b[39m     \u001b[38;5;28;01mreturn\u001b[39;00m \u001b[38;5;28;43mself\u001b[39;49m\u001b[43m.\u001b[49m\u001b[43mgenerate\u001b[49m\u001b[43m(\u001b[49m\u001b[43mprompt_messages\u001b[49m\u001b[43m,\u001b[49m\u001b[43m \u001b[49m\u001b[43mstop\u001b[49m\u001b[43m=\u001b[49m\u001b[43mstop\u001b[49m\u001b[43m,\u001b[49m\u001b[43m \u001b[49m\u001b[43mcallbacks\u001b[49m\u001b[43m=\u001b[49m\u001b[43mcallbacks\u001b[49m\u001b[43m,\u001b[49m\u001b[43m \u001b[49m\u001b[43m*\u001b[49m\u001b[43m*\u001b[49m\u001b[43mkwargs\u001b[49m\u001b[43m)\u001b[49m\n",
      "\u001b[36mFile \u001b[39m\u001b[32m~/.pyenv/versions/3.12.9/envs/review_gremlin/lib/python3.12/site-packages/langchain_core/language_models/chat_models.py:759\u001b[39m, in \u001b[36mBaseChatModel.generate\u001b[39m\u001b[34m(self, messages, stop, callbacks, tags, metadata, run_name, run_id, **kwargs)\u001b[39m\n\u001b[32m    756\u001b[39m \u001b[38;5;28;01mfor\u001b[39;00m i, m \u001b[38;5;129;01min\u001b[39;00m \u001b[38;5;28menumerate\u001b[39m(messages):\n\u001b[32m    757\u001b[39m     \u001b[38;5;28;01mtry\u001b[39;00m:\n\u001b[32m    758\u001b[39m         results.append(\n\u001b[32m--> \u001b[39m\u001b[32m759\u001b[39m             \u001b[38;5;28;43mself\u001b[39;49m\u001b[43m.\u001b[49m\u001b[43m_generate_with_cache\u001b[49m\u001b[43m(\u001b[49m\n\u001b[32m    760\u001b[39m \u001b[43m                \u001b[49m\u001b[43mm\u001b[49m\u001b[43m,\u001b[49m\n\u001b[32m    761\u001b[39m \u001b[43m                \u001b[49m\u001b[43mstop\u001b[49m\u001b[43m=\u001b[49m\u001b[43mstop\u001b[49m\u001b[43m,\u001b[49m\n\u001b[32m    762\u001b[39m \u001b[43m                \u001b[49m\u001b[43mrun_manager\u001b[49m\u001b[43m=\u001b[49m\u001b[43mrun_managers\u001b[49m\u001b[43m[\u001b[49m\u001b[43mi\u001b[49m\u001b[43m]\u001b[49m\u001b[43m \u001b[49m\u001b[38;5;28;43;01mif\u001b[39;49;00m\u001b[43m \u001b[49m\u001b[43mrun_managers\u001b[49m\u001b[43m \u001b[49m\u001b[38;5;28;43;01melse\u001b[39;49;00m\u001b[43m \u001b[49m\u001b[38;5;28;43;01mNone\u001b[39;49;00m\u001b[43m,\u001b[49m\n\u001b[32m    763\u001b[39m \u001b[43m                \u001b[49m\u001b[43m*\u001b[49m\u001b[43m*\u001b[49m\u001b[43mkwargs\u001b[49m\u001b[43m,\u001b[49m\n\u001b[32m    764\u001b[39m \u001b[43m            \u001b[49m\u001b[43m)\u001b[49m\n\u001b[32m    765\u001b[39m         )\n\u001b[32m    766\u001b[39m     \u001b[38;5;28;01mexcept\u001b[39;00m \u001b[38;5;167;01mBaseException\u001b[39;00m \u001b[38;5;28;01mas\u001b[39;00m e:\n\u001b[32m    767\u001b[39m         \u001b[38;5;28;01mif\u001b[39;00m run_managers:\n",
      "\u001b[36mFile \u001b[39m\u001b[32m~/.pyenv/versions/3.12.9/envs/review_gremlin/lib/python3.12/site-packages/langchain_core/language_models/chat_models.py:1002\u001b[39m, in \u001b[36mBaseChatModel._generate_with_cache\u001b[39m\u001b[34m(self, messages, stop, run_manager, **kwargs)\u001b[39m\n\u001b[32m   1000\u001b[39m     result = generate_from_stream(\u001b[38;5;28miter\u001b[39m(chunks))\n\u001b[32m   1001\u001b[39m \u001b[38;5;28;01melif\u001b[39;00m inspect.signature(\u001b[38;5;28mself\u001b[39m._generate).parameters.get(\u001b[33m\"\u001b[39m\u001b[33mrun_manager\u001b[39m\u001b[33m\"\u001b[39m):\n\u001b[32m-> \u001b[39m\u001b[32m1002\u001b[39m     result = \u001b[38;5;28;43mself\u001b[39;49m\u001b[43m.\u001b[49m\u001b[43m_generate\u001b[49m\u001b[43m(\u001b[49m\n\u001b[32m   1003\u001b[39m \u001b[43m        \u001b[49m\u001b[43mmessages\u001b[49m\u001b[43m,\u001b[49m\u001b[43m \u001b[49m\u001b[43mstop\u001b[49m\u001b[43m=\u001b[49m\u001b[43mstop\u001b[49m\u001b[43m,\u001b[49m\u001b[43m \u001b[49m\u001b[43mrun_manager\u001b[49m\u001b[43m=\u001b[49m\u001b[43mrun_manager\u001b[49m\u001b[43m,\u001b[49m\u001b[43m \u001b[49m\u001b[43m*\u001b[49m\u001b[43m*\u001b[49m\u001b[43mkwargs\u001b[49m\n\u001b[32m   1004\u001b[39m \u001b[43m    \u001b[49m\u001b[43m)\u001b[49m\n\u001b[32m   1005\u001b[39m \u001b[38;5;28;01melse\u001b[39;00m:\n\u001b[32m   1006\u001b[39m     result = \u001b[38;5;28mself\u001b[39m._generate(messages, stop=stop, **kwargs)\n",
      "\u001b[36mFile \u001b[39m\u001b[32m~/.pyenv/versions/3.12.9/envs/review_gremlin/lib/python3.12/site-packages/langchain_ollama/chat_models.py:715\u001b[39m, in \u001b[36mChatOllama._generate\u001b[39m\u001b[34m(self, messages, stop, run_manager, **kwargs)\u001b[39m\n\u001b[32m    708\u001b[39m \u001b[38;5;28;01mdef\u001b[39;00m\u001b[38;5;250m \u001b[39m\u001b[34m_generate\u001b[39m(\n\u001b[32m    709\u001b[39m     \u001b[38;5;28mself\u001b[39m,\n\u001b[32m    710\u001b[39m     messages: \u001b[38;5;28mlist\u001b[39m[BaseMessage],\n\u001b[32m   (...)\u001b[39m\u001b[32m    713\u001b[39m     **kwargs: Any,\n\u001b[32m    714\u001b[39m ) -> ChatResult:\n\u001b[32m--> \u001b[39m\u001b[32m715\u001b[39m     final_chunk = \u001b[38;5;28;43mself\u001b[39;49m\u001b[43m.\u001b[49m\u001b[43m_chat_stream_with_aggregation\u001b[49m\u001b[43m(\u001b[49m\n\u001b[32m    716\u001b[39m \u001b[43m        \u001b[49m\u001b[43mmessages\u001b[49m\u001b[43m,\u001b[49m\u001b[43m \u001b[49m\u001b[43mstop\u001b[49m\u001b[43m,\u001b[49m\u001b[43m \u001b[49m\u001b[43mrun_manager\u001b[49m\u001b[43m,\u001b[49m\u001b[43m \u001b[49m\u001b[43mverbose\u001b[49m\u001b[43m=\u001b[49m\u001b[38;5;28;43mself\u001b[39;49m\u001b[43m.\u001b[49m\u001b[43mverbose\u001b[49m\u001b[43m,\u001b[49m\u001b[43m \u001b[49m\u001b[43m*\u001b[49m\u001b[43m*\u001b[49m\u001b[43mkwargs\u001b[49m\n\u001b[32m    717\u001b[39m \u001b[43m    \u001b[49m\u001b[43m)\u001b[49m\n\u001b[32m    718\u001b[39m     generation_info = final_chunk.generation_info\n\u001b[32m    719\u001b[39m     chat_generation = ChatGeneration(\n\u001b[32m    720\u001b[39m         message=AIMessage(\n\u001b[32m    721\u001b[39m             content=final_chunk.text,\n\u001b[32m   (...)\u001b[39m\u001b[32m    726\u001b[39m         generation_info=generation_info,\n\u001b[32m    727\u001b[39m     )\n",
      "\u001b[36mFile \u001b[39m\u001b[32m~/.pyenv/versions/3.12.9/envs/review_gremlin/lib/python3.12/site-packages/langchain_ollama/chat_models.py:652\u001b[39m, in \u001b[36mChatOllama._chat_stream_with_aggregation\u001b[39m\u001b[34m(self, messages, stop, run_manager, verbose, **kwargs)\u001b[39m\n\u001b[32m    643\u001b[39m \u001b[38;5;28;01mdef\u001b[39;00m\u001b[38;5;250m \u001b[39m\u001b[34m_chat_stream_with_aggregation\u001b[39m(\n\u001b[32m    644\u001b[39m     \u001b[38;5;28mself\u001b[39m,\n\u001b[32m    645\u001b[39m     messages: \u001b[38;5;28mlist\u001b[39m[BaseMessage],\n\u001b[32m   (...)\u001b[39m\u001b[32m    649\u001b[39m     **kwargs: Any,\n\u001b[32m    650\u001b[39m ) -> ChatGenerationChunk:\n\u001b[32m    651\u001b[39m     final_chunk = \u001b[38;5;28;01mNone\u001b[39;00m\n\u001b[32m--> \u001b[39m\u001b[32m652\u001b[39m \u001b[43m    \u001b[49m\u001b[38;5;28;43;01mfor\u001b[39;49;00m\u001b[43m \u001b[49m\u001b[43mchunk\u001b[49m\u001b[43m \u001b[49m\u001b[38;5;129;43;01min\u001b[39;49;00m\u001b[43m \u001b[49m\u001b[38;5;28;43mself\u001b[39;49m\u001b[43m.\u001b[49m\u001b[43m_iterate_over_stream\u001b[49m\u001b[43m(\u001b[49m\u001b[43mmessages\u001b[49m\u001b[43m,\u001b[49m\u001b[43m \u001b[49m\u001b[43mstop\u001b[49m\u001b[43m,\u001b[49m\u001b[43m \u001b[49m\u001b[43m*\u001b[49m\u001b[43m*\u001b[49m\u001b[43mkwargs\u001b[49m\u001b[43m)\u001b[49m\u001b[43m:\u001b[49m\n\u001b[32m    653\u001b[39m \u001b[43m        \u001b[49m\u001b[38;5;28;43;01mif\u001b[39;49;00m\u001b[43m \u001b[49m\u001b[43mfinal_chunk\u001b[49m\u001b[43m \u001b[49m\u001b[38;5;129;43;01mis\u001b[39;49;00m\u001b[43m \u001b[49m\u001b[38;5;28;43;01mNone\u001b[39;49;00m\u001b[43m:\u001b[49m\n\u001b[32m    654\u001b[39m \u001b[43m            \u001b[49m\u001b[43mfinal_chunk\u001b[49m\u001b[43m \u001b[49m\u001b[43m=\u001b[49m\u001b[43m \u001b[49m\u001b[43mchunk\u001b[49m\n",
      "\u001b[36mFile \u001b[39m\u001b[32m~/.pyenv/versions/3.12.9/envs/review_gremlin/lib/python3.12/site-packages/langchain_ollama/chat_models.py:737\u001b[39m, in \u001b[36mChatOllama._iterate_over_stream\u001b[39m\u001b[34m(self, messages, stop, **kwargs)\u001b[39m\n\u001b[32m    730\u001b[39m \u001b[38;5;28;01mdef\u001b[39;00m\u001b[38;5;250m \u001b[39m\u001b[34m_iterate_over_stream\u001b[39m(\n\u001b[32m    731\u001b[39m     \u001b[38;5;28mself\u001b[39m,\n\u001b[32m    732\u001b[39m     messages: \u001b[38;5;28mlist\u001b[39m[BaseMessage],\n\u001b[32m    733\u001b[39m     stop: Optional[\u001b[38;5;28mlist\u001b[39m[\u001b[38;5;28mstr\u001b[39m]] = \u001b[38;5;28;01mNone\u001b[39;00m,\n\u001b[32m    734\u001b[39m     **kwargs: Any,\n\u001b[32m    735\u001b[39m ) -> Iterator[ChatGenerationChunk]:\n\u001b[32m    736\u001b[39m     is_thinking = \u001b[38;5;28;01mFalse\u001b[39;00m\n\u001b[32m--> \u001b[39m\u001b[32m737\u001b[39m \u001b[43m    \u001b[49m\u001b[38;5;28;43;01mfor\u001b[39;49;00m\u001b[43m \u001b[49m\u001b[43mstream_resp\u001b[49m\u001b[43m \u001b[49m\u001b[38;5;129;43;01min\u001b[39;49;00m\u001b[43m \u001b[49m\u001b[38;5;28;43mself\u001b[39;49m\u001b[43m.\u001b[49m\u001b[43m_create_chat_stream\u001b[49m\u001b[43m(\u001b[49m\u001b[43mmessages\u001b[49m\u001b[43m,\u001b[49m\u001b[43m \u001b[49m\u001b[43mstop\u001b[49m\u001b[43m,\u001b[49m\u001b[43m \u001b[49m\u001b[43m*\u001b[49m\u001b[43m*\u001b[49m\u001b[43mkwargs\u001b[49m\u001b[43m)\u001b[49m\u001b[43m:\u001b[49m\n\u001b[32m    738\u001b[39m \u001b[43m        \u001b[49m\u001b[38;5;28;43;01mif\u001b[39;49;00m\u001b[43m \u001b[49m\u001b[38;5;129;43;01mnot\u001b[39;49;00m\u001b[43m \u001b[49m\u001b[38;5;28;43misinstance\u001b[39;49m\u001b[43m(\u001b[49m\u001b[43mstream_resp\u001b[49m\u001b[43m,\u001b[49m\u001b[43m \u001b[49m\u001b[38;5;28;43mstr\u001b[39;49m\u001b[43m)\u001b[49m\u001b[43m:\u001b[49m\n\u001b[32m    739\u001b[39m \u001b[43m            \u001b[49m\u001b[38;5;28;43;01mif\u001b[39;49;00m\u001b[43m \u001b[49m\u001b[43mstream_resp\u001b[49m\u001b[43m.\u001b[49m\u001b[43mget\u001b[49m\u001b[43m(\u001b[49m\u001b[33;43m\"\u001b[39;49m\u001b[33;43mdone\u001b[39;49m\u001b[33;43m\"\u001b[39;49m\u001b[43m)\u001b[49m\u001b[43m \u001b[49m\u001b[38;5;129;43;01mis\u001b[39;49;00m\u001b[43m \u001b[49m\u001b[38;5;28;43;01mTrue\u001b[39;49;00m\u001b[43m:\u001b[49m\n",
      "\u001b[36mFile \u001b[39m\u001b[32m~/.pyenv/versions/3.12.9/envs/review_gremlin/lib/python3.12/site-packages/langchain_ollama/chat_models.py:639\u001b[39m, in \u001b[36mChatOllama._create_chat_stream\u001b[39m\u001b[34m(self, messages, stop, **kwargs)\u001b[39m\n\u001b[32m    636\u001b[39m chat_params = \u001b[38;5;28mself\u001b[39m._chat_params(messages, stop, **kwargs)\n\u001b[32m    638\u001b[39m \u001b[38;5;28;01mif\u001b[39;00m chat_params[\u001b[33m\"\u001b[39m\u001b[33mstream\u001b[39m\u001b[33m\"\u001b[39m]:\n\u001b[32m--> \u001b[39m\u001b[32m639\u001b[39m     \u001b[38;5;28;01myield from\u001b[39;00m \u001b[38;5;28mself\u001b[39m._client.chat(**chat_params)\n\u001b[32m    640\u001b[39m \u001b[38;5;28;01melse\u001b[39;00m:\n\u001b[32m    641\u001b[39m     \u001b[38;5;28;01myield\u001b[39;00m \u001b[38;5;28mself\u001b[39m._client.chat(**chat_params)\n",
      "\u001b[36mFile \u001b[39m\u001b[32m~/.pyenv/versions/3.12.9/envs/review_gremlin/lib/python3.12/site-packages/ollama/_client.py:168\u001b[39m, in \u001b[36mClient._request.<locals>.inner\u001b[39m\u001b[34m()\u001b[39m\n\u001b[32m    166\u001b[39m \u001b[38;5;28;01mexcept\u001b[39;00m httpx.HTTPStatusError \u001b[38;5;28;01mas\u001b[39;00m e:\n\u001b[32m    167\u001b[39m   e.response.read()\n\u001b[32m--> \u001b[39m\u001b[32m168\u001b[39m   \u001b[38;5;28;01mraise\u001b[39;00m ResponseError(e.response.text, e.response.status_code) \u001b[38;5;28;01mfrom\u001b[39;00m\u001b[38;5;250m \u001b[39m\u001b[38;5;28;01mNone\u001b[39;00m\n\u001b[32m    170\u001b[39m \u001b[38;5;28;01mfor\u001b[39;00m line \u001b[38;5;129;01min\u001b[39;00m r.iter_lines():\n\u001b[32m    171\u001b[39m   part = json.loads(line)\n",
      "\u001b[31mResponseError\u001b[39m: llama runner process has terminated: error loading model: unable to allocate CUDA0 buffer\nllama_model_load_from_file_impl: failed to load model (status code: 500)"
     ]
    }
   ],
   "source": [
    "ru_telegram_prompt_expanding = PromptTemplate(\n",
    "    input_variables=[\"user_query\", \"n\"],\n",
    "    template=\"\"\"\n",
    "    Напиши {n} гипотетических ответов на запрос пользователя.\n",
    "    Не добавляй заголовков, авторов и другой дополнительной информации к твоим ответам.\n",
    "\n",
    "    Вопрос пользователя:\n",
    "    {user_query}\n",
    "\n",
    "    Гипотетические ответы:\n",
    "    \"\"\",\n",
    ")\n",
    "\n",
    "ru_telegram_prompt_expanding = PromptTemplate(\n",
    "    input_variables=[\"user_query\", \"n\"],\n",
    "    template=\"\"\"\n",
    "Контекст данных:\n",
    "  – Пользовательский запрос: {user_query}\n",
    "\n",
    "Задача:\n",
    "  Сгенерировать ровно {n} гипотетических, но практически релевантных ответов на основе вышеуказанных сообщений.\n",
    "\n",
    "Требования к каждому ответу:\n",
    "  1. Длина не более 2–3 предложений.\n",
    "  2. Строгая релевантность: использовать только смысловую информацию из сообщений, без «галлюцинаций».\n",
    "  4. Формат выходных данных: маркированный.\n",
    "  5. Не добавлять заголовки, авторов, ссылки или другие метаданные.\n",
    "\n",
    "Пример:\n",
    "  Вопрос: «Какие самые позитивные сообщения в чате?»\n",
    "  Ответ:\n",
    "  - Ого, какая замечательная идея! Это точно поднимет настроение всем!\n",
    "  - Спасибо за вашу помощь — вы просто спасли мой день!\n",
    "  - Мне очень нравится, как вы подходите к решению задач: вдохновляет!\n",
    "  - Ваше сообщение заставило меня улыбнуться — вы лучик света в этом чате!\n",
    "  - Благодарю за поддержку, с вами так легко общаться!\n",
    "\"\"\",\n",
    ")\n",
    "\n",
    "hyde_chain_r1_8b = ru_telegram_prompt_expanding | llm_qwen3_8b\n",
    "raw_hypothetical_answers = hyde_chain_r1_8b.invoke({\"user_query\": user_query, \"n\": 15}).content\n",
    "raw_hypothetical_answers"
   ]
  },
  {
   "cell_type": "code",
   "execution_count": 11,
   "id": "6101aae10854f429",
   "metadata": {
    "ExecuteTime": {
     "end_time": "2025-05-04T07:33:04.514108Z",
     "start_time": "2025-05-04T07:33:04.510508Z"
    }
   },
   "outputs": [],
   "source": [
    "hypothetical_answers = raw_hypothetical_answers.split('</think>', maxsplit=1)[-1]\n",
    "user_query_expanded = f'{user_query}\\n\\n{hypothetical_answers}'"
   ]
  },
  {
   "cell_type": "code",
   "execution_count": 12,
   "id": "8725e1806b105426",
   "metadata": {
    "ExecuteTime": {
     "end_time": "2025-05-04T07:33:04.993630Z",
     "start_time": "2025-05-04T07:33:04.570043Z"
    }
   },
   "outputs": [
    {
     "data": {
      "text/plain": [
       "[(Document(id='6244d880-9a47-47e6-ad6c-e1cdf1515659', metadata={'date': 1673898460.0, 'id': 79574, 'sender_name': 'stivo32'}, page_content='По приезде в Вильнюс вы можете получить сим-карту. Она выдаётся в отеле. Сотрудник самостоятельно может сменить тариф при необходимости и пополнить баланс. \\nДелается это (смена тарифа или пополнение баланса) на сайте оператора или в мобильном приложении.\\n\\nПредоплаченные сим-карты с планами за передачу данных, звонков и СМС стоят 3–10 евро. Сим-карты доступны в газетных киосках Narvesen и Lietuvos Spauda, а также в большинстве крупных супермаркетов на кассах. \\n\\nОператоры мобильной связи в Литве:\\nLabas - https://www.labas.lt/\\nPildyk - https://pildyk.lt/\\nEžys - https://www.ezys.lt/\\n(чем они отличаются пока загадка, одинаково хорошее покрытие, странные сайты и тарифы)\\n❗ тут нет ерипа, пополнить счёт можно след способами:\\n- с сайта оператора\\n- с приложения оператора\\n- в магазине на кассе\\n\\nИнтернет-провайдеры в Литве:\\nI would like to share some general information:\\n\\nAbout the internet for home. As we recommended TELIA service for the internet. Please note, TELIA is one of the biggest telecommunication service companies in LTU, They provide high quality service. But the price for service is pretty high too.  \\n\\n If you would decide to choose TELIA as supplier for home internet, and will have questions, please contact persons below instead of calling in general number:\\n\\n Agnė Didelevičienė\\n+370 686 74507\\nAgne.Dideleviciene@telia.lt\\n \\nPaulius Burba\\n+370 620 71917\\nPaulius.burba@telia.lt \\n \\nThese two people speak fluent RU and EN languages. If you will have any questions for mentioned TELIA workers, please do not forget to mention that you are from WG.'),\n",
       "  0.8175978594654928),\n",
       " (Document(id='f78f8426-c53b-4cc8-96c7-2e0db82bd891', metadata={'date': 1739522837.0, 'id': 112783, 'sender_name': 'glen_livet'}, page_content='>> ☝️ **Внимание: загрязнение воздуха в Вильнюсе и других городах Литвы достигло опасных уровней**\\n\\nВечером 13 февраля в Вильнюсе уровень загрязнения воздуха твердыми частицами (PM2.5) резко возрос и [достиг](https://www.iqair.com/lithuania/vilnius?srsltid=AfmBOop5mbvtD-V0l-Yb3f-EPVg363H-5zMCga3y8QuFdW5AQyXrxC6B) отметки 117 по индексу AQI, что считается вредным для чувствительных групп населения. \\n\\nБлогер Олег Сомин [написал](https://www.facebook.com/share/p/14kz7VtPbX/?mibextid=wwXIfr) в фейсбуке, что его очиститель воздуха зафиксировал значительное превышение нормы, а данные на сайте IQAir это подтвердили.\\n\\nТвердые частицы PM2.5 — это микроскопические вещества, которые проникают глубоко в легкие, вызывая респираторные и сердечно-сосудистые заболевания. Особую опасность они представляют для детей, пожилых людей и людей с хроническими заболеваниями. Специалисты рекомендуют не открывать окна, ограничить физическую активность на улице и носить защитные маски при выходе на свежий воздух.\\n\\nКроме Вильнюса, высокий уровень загрязнения [зафиксирован](https://t.me/radiorlt/24224) в Паневежисе, Клайпеде, Каунасе и ряде других городов. В Каунасе в районе Дайнава и в Мажейкяе показатели также превышают норму, что требует осторожности.\\n\\nНа данный момент официальные службы не выпустили специальных уведомлений, поэтому важно следить за обновлениями через специализированные ресурсы и избегать длительного пребывания на улице.\\n\\n Я 7 лет в Китае прожил. Там PM 2.5 в 300-350 был в принципе ежедневной нормой)'),\n",
       "  0.8132502223807758),\n",
       " (Document(id='a95d512c-21e3-445b-8dae-73f4423cc33e', metadata={'date': 1739482684.0, 'id': 112773, 'sender_name': 'terra_lncognita'}, page_content='☝️ **Внимание: загрязнение воздуха в Вильнюсе и других городах Литвы достигло опасных уровней**\\n\\nВечером 13 февраля в Вильнюсе уровень загрязнения воздуха твердыми частицами (PM2.5) резко возрос и [достиг](https://www.iqair.com/lithuania/vilnius?srsltid=AfmBOop5mbvtD-V0l-Yb3f-EPVg363H-5zMCga3y8QuFdW5AQyXrxC6B) отметки 117 по индексу AQI, что считается вредным для чувствительных групп населения. \\n\\nБлогер Олег Сомин [написал](https://www.facebook.com/share/p/14kz7VtPbX/?mibextid=wwXIfr) в фейсбуке, что его очиститель воздуха зафиксировал значительное превышение нормы, а данные на сайте IQAir это подтвердили.\\n\\nТвердые частицы PM2.5 — это микроскопические вещества, которые проникают глубоко в легкие, вызывая респираторные и сердечно-сосудистые заболевания. Особую опасность они представляют для детей, пожилых людей и людей с хроническими заболеваниями. Специалисты рекомендуют не открывать окна, ограничить физическую активность на улице и носить защитные маски при выходе на свежий воздух.\\n\\nКроме Вильнюса, высокий уровень загрязнения [зафиксирован](https://t.me/radiorlt/24224) в Паневежисе, Клайпеде, Каунасе и ряде других городов. В Каунасе в районе Дайнава и в Мажейкяе показатели также превышают норму, что требует осторожности.\\n\\nНа данный момент официальные службы не выпустили специальных уведомлений, поэтому важно следить за обновлениями через специализированные ресурсы и избегать длительного пребывания на улице.'),\n",
       "  0.8127890937112181),\n",
       " (Document(id='17e95abb-0e97-4020-b4ed-0bc7bce795f1', metadata={'date': 1723380689.0, 'id': 108395, 'sender_name': 'SirKoncevrot'}, page_content='>> Кто может порекомендовать/антирекомендовать каких-либо интернет-провайдеров в Вильнюсе? Телиа, конечно, \"наше все\", но когда у них порезался пинг в большей части игр, в которую играю, чет задумался о переходе на других\\n\\n В плане стабильности и качестве интернета телия к сожалению (*было неприятных истории с ними) лучший вариант в Вильнюсе, остальные провайдеры зачастую арендуют всё те-же интернетные кабеля телии которые она провела повсюду и добавляют свою наценку. Ну а о тех кто независим от телии слышал истории о том что интернет нет нет да пропадает на несколько дней, а цена на 1-2 евро дешевле.'),\n",
       "  0.8084803160208281),\n",
       " (Document(id='08699c11-cbe3-477b-a3af-447b551128c7', metadata={'date': 1727887100.0, 'id': 109435, 'sender_name': 'iSelf'}, page_content='>> Подскажите, а кто-то брал туры таким образом, чтоб из Минска и из Вильнюса попасть в один тур и один отель? Себе и родителям типа\\nСмотрю, тез тур литовский только с балтией работает\\n\\n Брал тур в Минске, а билеты самостоятельно - вышло прям дешевле и в некотором роде удобнее. Не совсем выкупил фишку про 7 и 13 ночей от литовских контор'),\n",
       "  0.8069171737032561),\n",
       " (Document(id='9e619852-a84d-426e-8807-006b6cf42982', metadata={'date': 1724168487.0, 'id': 108569, 'sender_name': 'ne_dust'}, page_content='>> **Вильнюс обошел Таллин и стал самым богатым регионом в странах Балтии **\\n\\n\"Долгое время самым богатым в странах Балтии был Таллинский регион, но в 2022 году Вильнюс обошел Таллин. Впечатляющий скачок Вильнюса, если иметь в виду, что в 2014 году Таллинский регион был на 22%, а в 2004 г. – на 40% богаче Вильнюсского. Интересно и то, что в 2022 году номинальный ВВП Вильнюса на одного жителя был таким, как средний показатель по ЕС, поэтому, чтобы увидеть, как живут среднестатистические европейцы, достаточно приехать в Вильнюс\", – написал экономист банка Luminor Жигимантас Маурицас.\\n\\nСамым бедным регионом в странах Балтии остается Латгалия (Латвия).\\n\\nwww.delfi.lt/a/96459729\\n\\n Ну вот заметят отток финансов, **возможно** поумнеют.\\nНо это не факт'),\n",
       "  0.8065697993778294),\n",
       " (Document(id='b7d8ca35-7331-4bd6-99d5-f1479cee4150', metadata={'date': 1670313199.0, 'id': 75406, 'sender_name': 'Olegersohn'}, page_content='>> Я так понимаю тут основная проблема , что территорией города Вильнюс, считается очень много парков и лесов за городом))) по факту он то не больше Пинска какого-нибудь, если городскую застройку только взять\\n\\nИ я так понимаю, что эти долгие поездки в дальние участки Вильнюса, при нормальном делении на город и пригород, считались бы водителям по другому тарифу, что справедливо\\n\\n они просто творчесски подошли к вопросу: как стать самым зеленым городом в Европе - включить окружающие леса в черту города)'),\n",
       "  0.8044206683519861),\n",
       " (Document(id='aadebae7-f95e-4c37-ad07-11fa55284198', metadata={'date': 1669131587.0, 'id': 74435, 'sender_name': ''}, page_content='>> Тренд понятен, причины тоже. Литовцы все равно молодцы большие, в ксенофобию не скатываются. ( а может и никто не скатывается и все молодцы, тут уж я не эксперт)\\n\\n это потому что ты в Вильнюсе видимо только находишься)'),\n",
       "  0.8039552617773045),\n",
       " (Document(id='8a4d0d04-dcbc-41d1-8440-75a4b2e1914c', metadata={'date': 1671017832.0, 'id': 76425, 'sender_name': 'stivo32'}, page_content='Так вот посмотришь на эти сложности иногда. И в Вильнюсе неплохо )'),\n",
       "  0.8031097327759033),\n",
       " (Document(id='63f60345-9102-48bd-8eaf-f02882f6056f', metadata={'date': 1670311876.0, 'id': 75389, 'sender_name': 'ShumakDV'}, page_content='Я так понимаю тут основная проблема , что территорией города Вильнюс, считается очень много парков и лесов за городом))) по факту он то не больше Пинска какого-нибудь, если городскую застройку только взять\\n\\nИ я так понимаю, что эти долгие поездки в дальние участки Вильнюса, при нормальном делении на город и пригород, считались бы водителям по другому тарифу, что справедливо'),\n",
       "  0.8023390565774573),\n",
       " (Document(id='cb778116-6e33-4cb9-86d5-28a8c15adbb0', metadata={'date': 1671462261.0, 'id': 77005, 'sender_name': 'sanfly7'}, page_content='>> Подскажите, пожалуйста, в Вильнюсе есть сервис быстрой доставки типа доставки Яндекс GO в Минске?\\n\\n Литва и быстро не очень сочетающиеся понятия'),\n",
       "  0.8022063361514964),\n",
       " (Document(id='cd40345c-8559-4d1d-8d14-22bd14f111a4', metadata={'date': 1670311922.0, 'id': 75391, 'sender_name': 'dmgerza'}, page_content='>> Я так понимаю тут основная проблема , что территорией города Вильнюс, считается очень много парков и лесов за городом))) по факту он то не больше Пинска какого-нибудь, если городскую застройку только взять\\n\\nИ я так понимаю, что эти долгие поездки в дальние участки Вильнюса, при нормальном делении на город и пригород, считались бы водителям по другому тарифу, что справедливо\\n\\n решили переложить решение проблемы забастовки на конечного пользователя проще говоря'),\n",
       "  0.8007411431098638),\n",
       " (Document(id='fa40985f-5507-463b-87ed-f632056a667c', metadata={'date': 1729674215.0, 'id': 109971, 'sender_name': 'chertony'}, page_content='>> Типа для того, чтобы себя комфортно чувствовать в обществе - язык не нужен? С продавцами на русском по умолчанию общаетесь?\\n\\n как бы то ни было парадоксально, да, в Вильнюсе чтобы довольно комфортно жить язык не нужен.  Необоснованные обвинения в том что я по умолчанию общаюсь на русском отвергаю'),\n",
       "  0.8004731523736073),\n",
       " (Document(id='c44e20b8-690c-4a0b-b0a2-e861cbbf26f6', metadata={'date': 1723383893.0, 'id': 108398, 'sender_name': 'florentin_on'}, page_content='>> В плане стабильности и качестве интернета телия к сожалению (*было неприятных истории с ними) лучший вариант в Вильнюсе, остальные провайдеры зачастую арендуют всё те-же интернетные кабеля телии которые она провела повсюду и добавляют свою наценку. Ну а о тех кто независим от телии слышал истории о том что интернет нет нет да пропадает на несколько дней, а цена на 1-2 евро дешевле.\\n\\n ну не прямо же каждый из провайдеров юзает телию, это было бы прям странно)'),\n",
       "  0.800390228449162),\n",
       " (Document(id='e4c80283-c8b6-455d-9dac-f59839b5870b', metadata={'date': 1735981793.0, 'id': 111458, 'sender_name': 'solidon'}, page_content='>> В случае с Литвой обычно это сообщения про \"ветер с моря дул\"\\n\\n а ты географически в Вильнюсе?'),\n",
       "  0.7998503062463133)]"
      ]
     },
     "execution_count": 12,
     "metadata": {},
     "output_type": "execute_result"
    }
   ],
   "source": [
    "related_docs = chroma_client_from_telegram.similarity_search_with_relevance_scores(user_query_expanded, k=15)\n",
    "related_docs"
   ]
  },
  {
   "cell_type": "code",
   "execution_count": 23,
   "id": "7f991057712c0313",
   "metadata": {
    "ExecuteTime": {
     "end_time": "2025-05-02T14:15:26.522284Z",
     "start_time": "2025-05-02T14:15:26.499709Z"
    }
   },
   "outputs": [],
   "source": [
    "from datetime import datetime, timedelta, UTC\n",
    "\n",
    "related_docs = chroma_client_from_telegram.get(\n",
    "    where={\"date\": {\"$gte\": (datetime.now(UTC) - timedelta(days=30)).timestamp()}},\n",
    ")\n",
    "meta_docs = list(zip(related_docs['metadatas'], related_docs['documents']))\n",
    "\n",
    "context = \"\\n\\n---\\n\\n\".join(f\"{meta['date']} - {meta['sender_name']}: {doc}\" for meta, doc in meta_docs)"
   ]
  },
  {
   "cell_type": "code",
   "execution_count": 25,
   "id": "2060e3f298db28c5",
   "metadata": {
    "ExecuteTime": {
     "end_time": "2025-05-02T14:15:59.860655Z",
     "start_time": "2025-05-02T14:15:59.856979Z"
    }
   },
   "outputs": [
    {
     "data": {
      "text/plain": [
       "805"
      ]
     },
     "execution_count": 25,
     "metadata": {},
     "output_type": "execute_result"
    }
   ],
   "source": [
    "len(related_docs['metadatas'])"
   ]
  },
  {
   "cell_type": "code",
   "execution_count": 40,
   "id": "4ff200e9aa4e6a1c",
   "metadata": {
    "ExecuteTime": {
     "end_time": "2025-05-04T07:20:05.099465Z",
     "start_time": "2025-05-04T07:20:05.094636Z"
    }
   },
   "outputs": [
    {
     "name": "stdout",
     "output_type": "stream",
     "text": [
      "\n",
      "2024-08-23 14:22:40+00:00 https://web.telegram.org/k/#?tgaddr=tg%3A%2F%2Fprivatepost%3Fchannel%3D1133953167%26post%3D108686 - Коллеги, а кто нибудь пробовал с бта велнеса компенсить отель со спа? Прокатывает?\n",
      "\n",
      "\n",
      "---\n",
      "\n",
      "\n",
      "2024-08-23 14:25:55+00:00 https://web.telegram.org/k/#?tgaddr=tg%3A%2F%2Fprivatepost%3Fchannel%3D1133953167%26post%3D108687 - >> Коллеги, а кто нибудь пробовал с бта велнеса компенсить отель со спа? Прокатывает?\n",
      "\n",
      " не знаю, как отель со спа, но баню компенсил, прокатывало)\n",
      "\n",
      "\n",
      "---\n",
      "\n",
      "\n",
      "2025-03-13 13:58:29+00:00 https://web.telegram.org/k/#?tgaddr=tg%3A%2F%2Fprivatepost%3Fchannel%3D1133953167%26post%3D113452 - >> Ребята, привет!  А кто то компенсил в БТА Membership? На спа/басик? Разовые то точно компенсят, а если я возьму мембер на 5 походов, закомпенсят?\n",
      "\n",
      " Мне абонемент в бассейн компенсировали полностью\n",
      "\n",
      "\n",
      "---\n",
      "\n",
      "\n",
      "2024-05-10 14:33:38+00:00 https://web.telegram.org/k/#?tgaddr=tg%3A%2F%2Fprivatepost%3Fchannel%3D1133953167%26post%3D105391 - А какая сейчас обстакановка со всякими массажами в БТА? Если просто прийти в условный истайланд и сделать массаж ноги, компенсируют из велнеса?\n",
      "\n",
      "\n",
      "---\n",
      "\n",
      "\n",
      "2025-03-13 13:59:11+00:00 https://web.telegram.org/k/#?tgaddr=tg%3A%2F%2Fprivatepost%3Fchannel%3D1133953167%26post%3D113453 - >> Ребята, привет!  А кто то компенсил в БТА Membership? На спа/басик? Разовые то точно компенсят, а если я возьму мембер на 5 походов, закомпенсят?\n",
      "\n",
      " Я компенсировал абонемент. Есть нюанс в том, что если контракт с БТА заканчивается раньше чем абонемент, то компенсируют не 100%, а только по времени до конца контракта с БТА. Об этом есть пункт в договоре\n",
      "\n",
      "\n",
      "---\n",
      "\n",
      "\n",
      "2025-03-13 13:56:22+00:00 https://web.telegram.org/k/#?tgaddr=tg%3A%2F%2Fprivatepost%3Fchannel%3D1133953167%26post%3D113451 - Ребята, привет!  А кто то компенсил в БТА Membership? На спа/басик? Разовые то точно компенсят, а если я возьму мембер на 5 походов, закомпенсят?\n",
      "\n",
      "\n",
      "---\n",
      "\n",
      "\n",
      "2023-02-19 13:19:11+00:00 https://web.telegram.org/k/#?tgaddr=tg%3A%2F%2Fprivatepost%3Fchannel%3D1133953167%26post%3D81902 - Может кто знает - если покупать спорт оборудование- БТА компенсирует такое или нет?\n",
      "\n",
      "\n",
      "---\n",
      "\n",
      "\n",
      "2025-04-30 12:42:33+00:00 https://web.telegram.org/k/#?tgaddr=tg%3A%2F%2Fprivatepost%3Fchannel%3D1133953167%26post%3D114624 - >> так а в чем проблема? я заранее спрашивала, они массаж компенсят из реабилитации. чтобы перенесли в велнесс, надо в бта писать отдельно. я брала курс массажа, брала счет-фактуру, отправляла в бта - получила компенсацию тоже аффидея аутлет\n",
      "\n",
      " да ни в чем, просто было тревожно)\n",
      "\n",
      "\n",
      "---\n",
      "\n",
      "\n",
      "2024-05-10 15:30:52+00:00 https://web.telegram.org/k/#?tgaddr=tg%3A%2F%2Fprivatepost%3Fchannel%3D1133953167%26post%3D105398 - >> А какая сейчас обстакановка со всякими массажами в БТА? Если просто прийти в условный истайланд и сделать массаж ноги, компенсируют из велнеса?\n",
      "\n",
      " Хожу не к ним, но в массажный кабинет просто, по счёт - фактуре все ок возвращают\n",
      "\n",
      "\n",
      "---\n",
      "\n",
      "\n",
      "2022-10-21 08:14:12+00:00 https://web.telegram.org/k/#?tgaddr=tg%3A%2F%2Fprivatepost%3Fchannel%3D1133953167%26post%3D71874 - Если едешь в местный санаторий, то случаем нельзя потом компенсировать стоимость процедур в рамках wellness program? Был у кого такой опыт?\n",
      "\n",
      "\n",
      "---\n",
      "\n",
      "\n",
      "2025-01-02 15:38:22+00:00 https://web.telegram.org/k/#?tgaddr=tg%3A%2F%2Fprivatepost%3Fchannel%3D1133953167%26post%3D111345 - Всем привет! Поделитесь опытом пожалуйста, может кто-то пробовал через BTA компенсировать посещение бани Garo Fabrikas? Было ли успешно?\n",
      "\n",
      "\n",
      "---\n",
      "\n",
      "\n",
      "2022-11-29 16:34:14+00:00 https://web.telegram.org/k/#?tgaddr=tg%3A%2F%2Fprivatepost%3Fchannel%3D1133953167%26post%3D74957 - >> а это как работает? Вообще любой массаж можно скомпенсировать или только какие-то специальные профессиональные?)\n",
      "\n",
      " возле квадрума есть East island SPA там есть всякие массажи, и они принимают оплату по БТА. выбираешь комплекс 5 сеансов - там как раз до 300 евро и оплачиваешь карточкой БТА. в течение часа на балансе БТА велнеса осталось немного евров. \n",
      "только лучше сразу уточнить время сеансов т.к. там все расписано\n",
      "\n",
      "\n",
      "---\n",
      "\n",
      "\n",
      "2024-12-16 15:56:29+00:00 https://web.telegram.org/k/#?tgaddr=tg%3A%2F%2Fprivatepost%3Fchannel%3D1133953167%26post%3D111058 - а за спорт товары бта компенсирует?) например купил себе домой гантели\n",
      "\n",
      "\n",
      "---\n",
      "\n",
      "\n",
      "2025-04-30 11:58:30+00:00 https://web.telegram.org/k/#?tgaddr=tg%3A%2F%2Fprivatepost%3Fchannel%3D1133953167%26post%3D114618 - >> Привет! Завтра есть бронь в всеми любимый [Друскининкайский отель-аквапарк на 1 ночь](https://www.akvapark.lt/viesbuciai/viesbutis-aqua/) с завтраком(1-2 мая).\n",
      "Мы не можем поехать, заболели.\n",
      "Цена вопроса 160 на двоих (можно компенсировать в bta)\n",
      "\n",
      " а прям все 160 в бта компенсируются?\n",
      "\n",
      "\n",
      "---\n",
      "\n",
      "\n",
      "2024-05-22 13:37:14+00:00 https://web.telegram.org/k/#?tgaddr=tg%3A%2F%2Fprivatepost%3Fchannel%3D1133953167%26post%3D105868 - >> Кстати написал ей в понедельник.\n",
      "Мол так и так мне не хотят компенсировать 2 массажа.\n",
      "Первые 2 массажа у этого вендора в феврале закомпенсировали.\n",
      "А еще 2 в марте не хотят, запрашивают какие-то доп доки.\n",
      "\n",
      "Видимо она дала им звиздюлей.\n",
      "Сейчас мне из БТА позвонили и сказали, что раз они первые 2 скомпенсировали то и эти 2 компенсируют. Но больше туда не ходите, потому что нужен какой то там код, лицензия и тд\n",
      "\n",
      " коллега тоже рассказывал что ему все время компенсировали скалолазание через велнесс, а потом позвонили и сказали \"ну вот мы вам последний раз компенсируем но потом не будем, учтите\"\n",
      "\n"
     ]
    }
   ],
   "source": [
    "filtered_related_docs = filter(lambda doc_score: doc_score[-1] > 0.3, related_docs)\n",
    "\n",
    "t_link_base = \"https://web.telegram.org/k/#?tgaddr=tg%3A%2F%2Fprivatepost%3Fchannel%3D1133953167%26post%3D\"\n",
    "\n",
    "print(\"\\n\\n---\\n\\n\".join(f\"\"\"\n",
    "{datetime.fromtimestamp(doc.metadata['date'], UTC)} {t_link_base}{doc.metadata['id']} - {doc.page_content}\n",
    "\"\"\" for doc, _score in filtered_related_docs))"
   ]
  },
  {
   "cell_type": "code",
   "execution_count": 13,
   "id": "c35007263ed6b21d",
   "metadata": {
    "ExecuteTime": {
     "end_time": "2025-05-04T07:34:49.155955Z",
     "start_time": "2025-05-04T07:34:49.152759Z"
    }
   },
   "outputs": [],
   "source": [
    "filtered_related_docs = filter(lambda doc_score: doc_score[-1] > 0.3, related_docs)\n",
    "\n",
    "context = \"\\n\\n---\\n\\n\".join(f\"{datetime.fromtimestamp(doc.metadata['date'], UTC)} - {doc.page_content}\" for doc, _score in filtered_related_docs)"
   ]
  },
  {
   "cell_type": "code",
   "execution_count": 14,
   "id": "bff1b4fc98c216be",
   "metadata": {
    "ExecuteTime": {
     "end_time": "2025-05-04T07:35:19.493453Z",
     "start_time": "2025-05-04T07:34:54.929847Z"
    }
   },
   "outputs": [
    {
     "name": "stdout",
     "output_type": "stream",
     "text": [
      "<think>\n",
      "Okay, let's tackle this query. The user wants the most negative messages about Lithuania and Vilnius from the chat. First, I need to go through all the provided messages and identify the negative sentiments.\n",
      "\n",
      "Looking at the messages, there are several points. For example, one user mentioned that in Vilnius, even puddles freeze in winter, which is pretty harsh. Another talked about rising prices in Lithuania outpacing salaries. There's also a mention of poor service quality for tourists, inefficient public transport, and bureaucratic challenges. Some users pointed out issues with internet quality and availability, especially in Vilnius. Others mentioned the lack of modern infrastructure and the difficulty in finding places for tourists. High taxes and low wages are also noted. \n",
      "\n",
      "I should list these points, making sure to capture the most negative aspects. I need to check if all the points are indeed negative and not just neutral observations. For example, the part about internet being provided by Teleia with added costs might be more neutral. But the user's comment about the quality of products in local stores is definitely negative. \n",
      "\n",
      "Also, the part about the weather in Vilnius being extremely cold in winter and the lack of sun during winter is a negative point. The bureaucratic issues and the difficulty in getting visas or documents are negative. High taxes and low salaries are economic concerns. \n",
      "\n",
      "I should make sure not to include any positive comments and focus only on the negative ones. Then, structure them in a clear list, perhaps grouping by country and city. Finally, check if there's enough information. The user provided a lot of messages, so there's enough to answer.\n",
      "</think>\n",
      "\n",
      "**Самые негативные сообщения о Литве и Вильнюсе:**  \n",
      "\n",
      "1. **Зима в Вильнюсе:**  \n",
      "   - \"В Вильнюсе зимой бывает так холодно, что даже лужи замерзают\"  \n",
      "   - \"В Вильнюсе зимой почти не бывает солнца, а морозы — как в сказке\"  \n",
      "   - \"В Вильнюсе зимой можно замерзнуть даже на улице\"  \n",
      "\n",
      "2. **Экономика и цены:**  \n",
      "   - \"Цены на продукты в Литве растут быстрее, чем зарплаты\"  \n",
      "   - \"Высокие налоги и низкие зарплаты\"  \n",
      "   - \"Некоторые жалуются на низкое качество продуктов в местных магазинах\"  \n",
      "\n",
      "3. **Сервис для туристов:**  \n",
      "   - \"В Вильнюсе — место, где всегда ждут туристов, но сервис часто оставляет желать лучшего\"  \n",
      "   - \"Кто-то считает, что в Литве не хватает удобных мест для туристов\"  \n",
      "   - \"В Вильнюсе зимой можно замерзнуть даже на улице, а летом — потеть\"  \n",
      "\n",
      "4. **Бюрократия и документы:**  \n",
      "   - \"Кто-то считает, что бюрократия в Литве сложнее, чем в соседних странах\"  \n",
      "   - \"Некоторые жалуются на сложности с получением виз или документов\"  \n",
      "\n",
      "5. **Инфраструктура и технологии:**  \n",
      "   - \"В Литве часто говорят, что общественный транспорт работает неэффективно\"  \n",
      "   - \"В Вильнюсе современные удобства (интернет) иногда не везде доступны\"  \n",
      "   - \"Интернет в Литве часто зависит от Teleia, а другие провайдеры добавляют наценку\"  \n",
      "\n",
      "6. **Общественная инфраструктура:**  \n",
      "   - \"Кто-то считает, что в Литве не хватает современных инфраструктурных объектов\"  \n",
      "\n",
      "7. **Коммуникация с туристами:**  \n",
      "   - \"Некоторые пользователи говорят, что в Литве не все понимают, как обращаться с туристами\"  \n",
      "\n",
      "**Примечание:** Всё вышеперечисленное — отрицательные отзывы, основанные на личных или коллективных оценках пользователей.\n"
     ]
    }
   ],
   "source": [
    "ru_telegram_prompt = PromptTemplate(\n",
    "    input_variables=[\"context\", \"user_query\"],\n",
    "    template=\"\"\"\n",
    "    Ты полезный AI ассистент, который отвечает на вопросы пользователя на основе контекста.\n",
    "    Контекст это релевантные вопросу сообщения из телеграм чата.\n",
    "\n",
    "    Контекст:\n",
    "    {context}\n",
    "\n",
    "    Вопрос пользователя:\n",
    "    {user_query}\n",
    "\n",
    "    Если в контексте недостаточно информации, чтобы ответить на вопрос пользователя, то скажи, что недостаточно информации.\n",
    "\n",
    "    Ответ:\n",
    "    \"\"\",\n",
    ")\n",
    "\n",
    "hyde_chain_r1_8b = ru_telegram_prompt | llm_qwen3_8b\n",
    "llm_response = hyde_chain_r1_8b.invoke({\"user_query\": user_query, \"context\": context}).content\n",
    "print(llm_response)"
   ]
  },
  {
   "cell_type": "code",
   "execution_count": null,
   "id": "91144e5909477f78",
   "metadata": {},
   "outputs": [],
   "source": []
  }
 ],
 "metadata": {
  "kernelspec": {
   "display_name": "Python 3 (ipykernel)",
   "language": "python",
   "name": "python3"
  },
  "language_info": {
   "codemirror_mode": {
    "name": "ipython",
    "version": 3
   },
   "file_extension": ".py",
   "mimetype": "text/x-python",
   "name": "python",
   "nbconvert_exporter": "python",
   "pygments_lexer": "ipython3",
   "version": "3.12.9"
  }
 },
 "nbformat": 4,
 "nbformat_minor": 5
}
