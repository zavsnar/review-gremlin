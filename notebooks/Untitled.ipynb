{
 "cells": [
  {
   "cell_type": "code",
   "execution_count": 42,
   "id": "8f317781-b2c4-4d16-959f-bd9f46670712",
   "metadata": {},
   "outputs": [],
   "source": [
    "import os\n",
    "import sys\n",
    "app_path = os.path.abspath('..')\n",
    "sys.path.insert(0, app_path)\n",
    "\n",
    "import asyncio\n",
    "from telethon import TelegramClient\n",
    "from dotenv import load_dotenv\n",
    "\n",
    "from app.chroma_client import get_client\n",
    "\n",
    "# Load environment variables from .env file\n",
    "load_dotenv()\n",
    "\n",
    "# Replace with your own values from https://my.telegram.org/apps\n",
    "API_ID = os.getenv('TELEGRAM_API_ID')\n",
    "api_id_int = int(API_ID)\n",
    "API_HASH = os.getenv('TELEGRAM_API_HASH')\n",
    "PHONE_NUMBER = os.getenv('TELEGRAM_PHONE_NUMBER')\n",
    "SESSION_NAME = \"telegram_session\"\n",
    "\n",
    "# Replace with the username or ID of the target channel\n",
    "TARGET_CHANNEL = 'if_market_news' # e.g., 'durov' or -1001234567890\n",
    "\n",
    "client = TelegramClient(SESSION_NAME, api_id_int, API_HASH)\n",
    "\n",
    "chroma_client = get_client(f'telegram_{TARGET_CHANNEL}')"
   ]
  },
  {
   "cell_type": "code",
   "execution_count": 45,
   "id": "55201826-4a8d-4ba2-a0d0-e29f5e925922",
   "metadata": {
    "scrolled": true
   },
   "outputs": [
    {
     "data": {
      "text/plain": [
       "<telethon.tl.types.auth.SentCode at 0x324b5bb00>"
      ]
     },
     "execution_count": 45,
     "metadata": {},
     "output_type": "execute_result"
    }
   ],
   "source": [
    "await client.connect()\n",
    "\n",
    "await client.send_code_request(PHONE_NUMBER)"
   ]
  },
  {
   "cell_type": "code",
   "execution_count": 47,
   "id": "ad7aff9b-15cd-439f-bc73-6c67e4014aac",
   "metadata": {},
   "outputs": [
    {
     "ename": "OperationalError",
     "evalue": "database is locked",
     "output_type": "error",
     "traceback": [
      "\u001b[31m---------------------------------------------------------------------------\u001b[39m",
      "\u001b[31mOperationalError\u001b[39m                          Traceback (most recent call last)",
      "\u001b[36mCell\u001b[39m\u001b[36m \u001b[39m\u001b[32mIn[47]\u001b[39m\u001b[32m, line 1\u001b[39m\n\u001b[32m----> \u001b[39m\u001b[32m1\u001b[39m \u001b[38;5;28;01mawait\u001b[39;00m client.sign_in(PHONE_NUMBER, \u001b[33m'\u001b[39m\u001b[33m57662\u001b[39m\u001b[33m'\u001b[39m)\n",
      "\u001b[36mFile \u001b[39m\u001b[32m~/.pyenv/versions/3.12.9/envs/ai_pr_analyzer/lib/python3.12/site-packages/telethon/client/auth.py:327\u001b[39m, in \u001b[36mAuthMethods.sign_in\u001b[39m\u001b[34m(self, phone, code, password, bot_token, phone_code_hash)\u001b[39m\n\u001b[32m    270\u001b[39m \u001b[38;5;28;01masync\u001b[39;00m \u001b[38;5;28;01mdef\u001b[39;00m\u001b[38;5;250m \u001b[39m\u001b[34msign_in\u001b[39m(\n\u001b[32m    271\u001b[39m         \u001b[38;5;28mself\u001b[39m: \u001b[33m'\u001b[39m\u001b[33mTelegramClient\u001b[39m\u001b[33m'\u001b[39m,\n\u001b[32m    272\u001b[39m         phone: \u001b[38;5;28mstr\u001b[39m = \u001b[38;5;28;01mNone\u001b[39;00m,\n\u001b[32m   (...)\u001b[39m\u001b[32m    276\u001b[39m         bot_token: \u001b[38;5;28mstr\u001b[39m = \u001b[38;5;28;01mNone\u001b[39;00m,\n\u001b[32m    277\u001b[39m         phone_code_hash: \u001b[38;5;28mstr\u001b[39m = \u001b[38;5;28;01mNone\u001b[39;00m) -> \u001b[33m'\u001b[39m\u001b[33mtyping.Union[types.User, types.auth.SentCode]\u001b[39m\u001b[33m'\u001b[39m:\n\u001b[32m    278\u001b[39m \u001b[38;5;250m    \u001b[39m\u001b[33;03m\"\"\"\u001b[39;00m\n\u001b[32m    279\u001b[39m \u001b[33;03m    Logs in to Telegram to an existing user or bot account.\u001b[39;00m\n\u001b[32m    280\u001b[39m \n\u001b[32m   (...)\u001b[39m\u001b[32m    325\u001b[39m \u001b[33;03m            await client.sign_in(phone, code)\u001b[39;00m\n\u001b[32m    326\u001b[39m \u001b[33;03m    \"\"\"\u001b[39;00m\n\u001b[32m--> \u001b[39m\u001b[32m327\u001b[39m     me = \u001b[38;5;28;01mawait\u001b[39;00m \u001b[38;5;28mself\u001b[39m.get_me()\n\u001b[32m    328\u001b[39m     \u001b[38;5;28;01mif\u001b[39;00m me:\n\u001b[32m    329\u001b[39m         \u001b[38;5;28;01mreturn\u001b[39;00m me\n",
      "\u001b[36mFile \u001b[39m\u001b[32m~/.pyenv/versions/3.12.9/envs/ai_pr_analyzer/lib/python3.12/site-packages/telethon/client/users.py:170\u001b[39m, in \u001b[36mUserMethods.get_me\u001b[39m\u001b[34m(self, input_peer)\u001b[39m\n\u001b[32m    167\u001b[39m     \u001b[38;5;28;01mreturn\u001b[39;00m \u001b[38;5;28mself\u001b[39m._mb_entity_cache.get(\u001b[38;5;28mself\u001b[39m._mb_entity_cache.self_id)._as_input_peer()\n\u001b[32m    169\u001b[39m \u001b[38;5;28;01mtry\u001b[39;00m:\n\u001b[32m--> \u001b[39m\u001b[32m170\u001b[39m     me = (\u001b[38;5;28;01mawait\u001b[39;00m \u001b[38;5;28mself\u001b[39m(\n\u001b[32m    171\u001b[39m         functions.users.GetUsersRequest([types.InputUserSelf()])))[\u001b[32m0\u001b[39m]\n\u001b[32m    173\u001b[39m     \u001b[38;5;28;01mif\u001b[39;00m \u001b[38;5;129;01mnot\u001b[39;00m \u001b[38;5;28mself\u001b[39m._mb_entity_cache.self_id:\n\u001b[32m    174\u001b[39m         \u001b[38;5;28mself\u001b[39m._mb_entity_cache.set_self_user(me.id, me.bot, me.access_hash)\n",
      "\u001b[36mFile \u001b[39m\u001b[32m~/.pyenv/versions/3.12.9/envs/ai_pr_analyzer/lib/python3.12/site-packages/telethon/client/users.py:30\u001b[39m, in \u001b[36mUserMethods.__call__\u001b[39m\u001b[34m(self, request, ordered, flood_sleep_threshold)\u001b[39m\n\u001b[32m     29\u001b[39m \u001b[38;5;28;01masync\u001b[39;00m \u001b[38;5;28;01mdef\u001b[39;00m\u001b[38;5;250m \u001b[39m\u001b[34m__call__\u001b[39m(\u001b[38;5;28mself\u001b[39m: \u001b[33m'\u001b[39m\u001b[33mTelegramClient\u001b[39m\u001b[33m'\u001b[39m, request, ordered=\u001b[38;5;28;01mFalse\u001b[39;00m, flood_sleep_threshold=\u001b[38;5;28;01mNone\u001b[39;00m):\n\u001b[32m---> \u001b[39m\u001b[32m30\u001b[39m     \u001b[38;5;28;01mreturn\u001b[39;00m \u001b[38;5;28;01mawait\u001b[39;00m \u001b[38;5;28mself\u001b[39m._call(\u001b[38;5;28mself\u001b[39m._sender, request, ordered=ordered)\n",
      "\u001b[36mFile \u001b[39m\u001b[32m~/.pyenv/versions/3.12.9/envs/ai_pr_analyzer/lib/python3.12/site-packages/telethon/client/users.py:93\u001b[39m, in \u001b[36mUserMethods._call\u001b[39m\u001b[34m(self, sender, request, ordered, flood_sleep_threshold)\u001b[39m\n\u001b[32m     91\u001b[39m     \u001b[38;5;28;01melse\u001b[39;00m:\n\u001b[32m     92\u001b[39m         result = \u001b[38;5;28;01mawait\u001b[39;00m future\n\u001b[32m---> \u001b[39m\u001b[32m93\u001b[39m         \u001b[38;5;28;43mself\u001b[39;49m\u001b[43m.\u001b[49m\u001b[43msession\u001b[49m\u001b[43m.\u001b[49m\u001b[43mprocess_entities\u001b[49m\u001b[43m(\u001b[49m\u001b[43mresult\u001b[49m\u001b[43m)\u001b[49m\n\u001b[32m     94\u001b[39m         \u001b[38;5;28;01mreturn\u001b[39;00m result\n\u001b[32m     95\u001b[39m \u001b[38;5;28;01mexcept\u001b[39;00m (errors.ServerError, errors.RpcCallFailError,\n\u001b[32m     96\u001b[39m         errors.RpcMcgetFailError, errors.InterdcCallErrorError,\n\u001b[32m     97\u001b[39m         errors.TimedOutError,\n\u001b[32m     98\u001b[39m         errors.InterdcCallRichErrorError) \u001b[38;5;28;01mas\u001b[39;00m e:\n",
      "\u001b[36mFile \u001b[39m\u001b[32m~/.pyenv/versions/3.12.9/envs/ai_pr_analyzer/lib/python3.12/site-packages/telethon/sessions/sqlite.py:301\u001b[39m, in \u001b[36mSQLiteSession.process_entities\u001b[39m\u001b[34m(self, tlo)\u001b[39m\n\u001b[32m    299\u001b[39m     now_tup = (\u001b[38;5;28mint\u001b[39m(time.time()),)\n\u001b[32m    300\u001b[39m     rows = [row + now_tup \u001b[38;5;28;01mfor\u001b[39;00m row \u001b[38;5;129;01min\u001b[39;00m rows]\n\u001b[32m--> \u001b[39m\u001b[32m301\u001b[39m     \u001b[43mc\u001b[49m\u001b[43m.\u001b[49m\u001b[43mexecutemany\u001b[49m\u001b[43m(\u001b[49m\n\u001b[32m    302\u001b[39m \u001b[43m        \u001b[49m\u001b[33;43m'\u001b[39;49m\u001b[33;43minsert or replace into entities values (?,?,?,?,?,?)\u001b[39;49m\u001b[33;43m'\u001b[39;49m\u001b[43m,\u001b[49m\u001b[43m \u001b[49m\u001b[43mrows\u001b[49m\u001b[43m)\u001b[49m\n\u001b[32m    303\u001b[39m \u001b[38;5;28;01mfinally\u001b[39;00m:\n\u001b[32m    304\u001b[39m     c.close()\n",
      "\u001b[31mOperationalError\u001b[39m: database is locked"
     ]
    }
   ],
   "source": [
    "await client.sign_in(PHONE_NUMBER, '57662')"
   ]
  },
  {
   "cell_type": "code",
   "execution_count": 17,
   "id": "54709116-79be-470a-9afe-ebb75c58b436",
   "metadata": {},
   "outputs": [],
   "source": [
    "channel = await client.get_entity('prian_property')"
   ]
  },
  {
   "cell_type": "code",
   "execution_count": 32,
   "id": "963d0f92-1614-4eaa-bda4-c9d50ea26423",
   "metadata": {},
   "outputs": [
    {
     "ename": "OperationalError",
     "evalue": "database is locked",
     "output_type": "error",
     "traceback": [
      "\u001b[31m---------------------------------------------------------------------------\u001b[39m",
      "\u001b[31mOperationalError\u001b[39m                          Traceback (most recent call last)",
      "\u001b[36mCell\u001b[39m\u001b[36m \u001b[39m\u001b[32mIn[32]\u001b[39m\u001b[32m, line 4\u001b[39m\n\u001b[32m      1\u001b[39m messages_data = []\n\u001b[32m      2\u001b[39m CHAT_MESSAGES_LIMIT = \u001b[32m5\u001b[39m\n\u001b[32m----> \u001b[39m\u001b[32m4\u001b[39m \u001b[38;5;28;01masync\u001b[39;00m \u001b[38;5;28;01mfor\u001b[39;00m message \u001b[38;5;129;01min\u001b[39;00m client.iter_messages(channel, limit=CHAT_MESSAGES_LIMIT):\n\u001b[32m      5\u001b[39m     \u001b[38;5;66;03m# Process message object as needed\u001b[39;00m\n\u001b[32m      6\u001b[39m     \u001b[38;5;66;03m# print(f\"Message ID: {message.id}, Date: {message.date}, Text: {message.text[:50]}...\")\u001b[39;00m\n\u001b[32m      7\u001b[39m     messages_data.append({\n\u001b[32m      8\u001b[39m         \u001b[33m'\u001b[39m\u001b[33mtext\u001b[39m\u001b[33m'\u001b[39m: message.text,\n\u001b[32m      9\u001b[39m         \u001b[33m'\u001b[39m\u001b[33mmetadata\u001b[39m\u001b[33m'\u001b[39m: {\n\u001b[32m   (...)\u001b[39m\u001b[32m     14\u001b[39m         \u001b[38;5;66;03m# Add more fields as needed\u001b[39;00m\n\u001b[32m     15\u001b[39m     })\n\u001b[32m     16\u001b[39m messages_data[-\u001b[32m1\u001b[39m]\n",
      "\u001b[36mFile \u001b[39m\u001b[32m~/.pyenv/versions/3.12.9/envs/ai_pr_analyzer/lib/python3.12/site-packages/telethon/requestiter.py:74\u001b[39m, in \u001b[36mRequestIter.__anext__\u001b[39m\u001b[34m(self)\u001b[39m\n\u001b[32m     72\u001b[39m     \u001b[38;5;28mself\u001b[39m.index = \u001b[32m0\u001b[39m\n\u001b[32m     73\u001b[39m     \u001b[38;5;28mself\u001b[39m.buffer = []\n\u001b[32m---> \u001b[39m\u001b[32m74\u001b[39m     \u001b[38;5;28;01mif\u001b[39;00m \u001b[38;5;28;01mawait\u001b[39;00m \u001b[38;5;28mself\u001b[39m._load_next_chunk():\n\u001b[32m     75\u001b[39m         \u001b[38;5;28mself\u001b[39m.left = \u001b[38;5;28mlen\u001b[39m(\u001b[38;5;28mself\u001b[39m.buffer)\n\u001b[32m     77\u001b[39m \u001b[38;5;28;01mif\u001b[39;00m \u001b[38;5;129;01mnot\u001b[39;00m \u001b[38;5;28mself\u001b[39m.buffer:\n",
      "\u001b[36mFile \u001b[39m\u001b[32m~/.pyenv/versions/3.12.9/envs/ai_pr_analyzer/lib/python3.12/site-packages/telethon/client/messages.py:184\u001b[39m, in \u001b[36m_MessagesIter._load_next_chunk\u001b[39m\u001b[34m(self)\u001b[39m\n\u001b[32m    180\u001b[39m \u001b[38;5;28;01mif\u001b[39;00m \u001b[38;5;28mself\u001b[39m.reverse \u001b[38;5;129;01mand\u001b[39;00m \u001b[38;5;28mself\u001b[39m.request.limit != _MAX_CHUNK_SIZE:\n\u001b[32m    181\u001b[39m     \u001b[38;5;66;03m# Remember that we need -limit when going in reverse\u001b[39;00m\n\u001b[32m    182\u001b[39m     \u001b[38;5;28mself\u001b[39m.request.add_offset = \u001b[38;5;28mself\u001b[39m.add_offset - \u001b[38;5;28mself\u001b[39m.request.limit\n\u001b[32m--> \u001b[39m\u001b[32m184\u001b[39m r = \u001b[38;5;28;01mawait\u001b[39;00m \u001b[38;5;28mself\u001b[39m.client(\u001b[38;5;28mself\u001b[39m.request)\n\u001b[32m    185\u001b[39m \u001b[38;5;28mself\u001b[39m.total = \u001b[38;5;28mgetattr\u001b[39m(r, \u001b[33m'\u001b[39m\u001b[33mcount\u001b[39m\u001b[33m'\u001b[39m, \u001b[38;5;28mlen\u001b[39m(r.messages))\n\u001b[32m    187\u001b[39m entities = {utils.get_peer_id(x): x\n\u001b[32m    188\u001b[39m             \u001b[38;5;28;01mfor\u001b[39;00m x \u001b[38;5;129;01min\u001b[39;00m itertools.chain(r.users, r.chats)}\n",
      "\u001b[36mFile \u001b[39m\u001b[32m~/.pyenv/versions/3.12.9/envs/ai_pr_analyzer/lib/python3.12/site-packages/telethon/client/users.py:30\u001b[39m, in \u001b[36mUserMethods.__call__\u001b[39m\u001b[34m(self, request, ordered, flood_sleep_threshold)\u001b[39m\n\u001b[32m     29\u001b[39m \u001b[38;5;28;01masync\u001b[39;00m \u001b[38;5;28;01mdef\u001b[39;00m\u001b[38;5;250m \u001b[39m\u001b[34m__call__\u001b[39m(\u001b[38;5;28mself\u001b[39m: \u001b[33m'\u001b[39m\u001b[33mTelegramClient\u001b[39m\u001b[33m'\u001b[39m, request, ordered=\u001b[38;5;28;01mFalse\u001b[39;00m, flood_sleep_threshold=\u001b[38;5;28;01mNone\u001b[39;00m):\n\u001b[32m---> \u001b[39m\u001b[32m30\u001b[39m     \u001b[38;5;28;01mreturn\u001b[39;00m \u001b[38;5;28;01mawait\u001b[39;00m \u001b[38;5;28mself\u001b[39m._call(\u001b[38;5;28mself\u001b[39m._sender, request, ordered=ordered)\n",
      "\u001b[36mFile \u001b[39m\u001b[32m~/.pyenv/versions/3.12.9/envs/ai_pr_analyzer/lib/python3.12/site-packages/telethon/client/users.py:93\u001b[39m, in \u001b[36mUserMethods._call\u001b[39m\u001b[34m(self, sender, request, ordered, flood_sleep_threshold)\u001b[39m\n\u001b[32m     91\u001b[39m     \u001b[38;5;28;01melse\u001b[39;00m:\n\u001b[32m     92\u001b[39m         result = \u001b[38;5;28;01mawait\u001b[39;00m future\n\u001b[32m---> \u001b[39m\u001b[32m93\u001b[39m         \u001b[38;5;28;43mself\u001b[39;49m\u001b[43m.\u001b[49m\u001b[43msession\u001b[49m\u001b[43m.\u001b[49m\u001b[43mprocess_entities\u001b[49m\u001b[43m(\u001b[49m\u001b[43mresult\u001b[49m\u001b[43m)\u001b[49m\n\u001b[32m     94\u001b[39m         \u001b[38;5;28;01mreturn\u001b[39;00m result\n\u001b[32m     95\u001b[39m \u001b[38;5;28;01mexcept\u001b[39;00m (errors.ServerError, errors.RpcCallFailError,\n\u001b[32m     96\u001b[39m         errors.RpcMcgetFailError, errors.InterdcCallErrorError,\n\u001b[32m     97\u001b[39m         errors.TimedOutError,\n\u001b[32m     98\u001b[39m         errors.InterdcCallRichErrorError) \u001b[38;5;28;01mas\u001b[39;00m e:\n",
      "\u001b[36mFile \u001b[39m\u001b[32m~/.pyenv/versions/3.12.9/envs/ai_pr_analyzer/lib/python3.12/site-packages/telethon/sessions/sqlite.py:301\u001b[39m, in \u001b[36mSQLiteSession.process_entities\u001b[39m\u001b[34m(self, tlo)\u001b[39m\n\u001b[32m    299\u001b[39m     now_tup = (\u001b[38;5;28mint\u001b[39m(time.time()),)\n\u001b[32m    300\u001b[39m     rows = [row + now_tup \u001b[38;5;28;01mfor\u001b[39;00m row \u001b[38;5;129;01min\u001b[39;00m rows]\n\u001b[32m--> \u001b[39m\u001b[32m301\u001b[39m     \u001b[43mc\u001b[49m\u001b[43m.\u001b[49m\u001b[43mexecutemany\u001b[49m\u001b[43m(\u001b[49m\n\u001b[32m    302\u001b[39m \u001b[43m        \u001b[49m\u001b[33;43m'\u001b[39;49m\u001b[33;43minsert or replace into entities values (?,?,?,?,?,?)\u001b[39;49m\u001b[33;43m'\u001b[39;49m\u001b[43m,\u001b[49m\u001b[43m \u001b[49m\u001b[43mrows\u001b[49m\u001b[43m)\u001b[49m\n\u001b[32m    303\u001b[39m \u001b[38;5;28;01mfinally\u001b[39;00m:\n\u001b[32m    304\u001b[39m     c.close()\n",
      "\u001b[31mOperationalError\u001b[39m: database is locked"
     ]
    }
   ],
   "source": [
    "messages_data = []\n",
    "CHAT_MESSAGES_LIMIT = 100\n",
    "\n",
    "async for message in client.iter_messages(channel, limit=CHAT_MESSAGES_LIMIT):\n",
    "    # Process message object as needed\n",
    "    # print(f\"Message ID: {message.id}, Date: {message.date}, Text: {message.text[:50]}...\")\n",
    "    messages_data.append({\n",
    "        'text': message.text,\n",
    "        'metadata': {\n",
    "            'sender_name': message.sender.username,\n",
    "            'id': message.id,\n",
    "            'date': message.date.isoformat(),\n",
    "        }\n",
    "        # Add more fields as needed\n",
    "    })\n",
    "messages_data[-1]"
   ]
  },
  {
   "cell_type": "code",
   "execution_count": null,
   "id": "8e94a80c-2ce0-435d-9461-1301ef43a033",
   "metadata": {},
   "outputs": [],
   "source": [
    "from langchain_core.documents import Document\n",
    "\n",
    "def load_data_to_chroma(items: list[dict]):\n",
    "    documents = [\n",
    "        Document(page_content=item[\"text\"], metadata=item['metadata']) for item in items\n",
    "    ]\n",
    "    chroma_client.reset_collection()\n",
    "    chroma_client.add_documents(documents)\n",
    "    print(f\"Loaded {len(documents)} documents into ChromaDB.\")"
   ]
  },
  {
   "cell_type": "code",
   "execution_count": null,
   "id": "e259649c-1346-4c52-97de-5dc2a06cce08",
   "metadata": {},
   "outputs": [],
   "source": [
    "load_data_to_chroma(messages_data)"
   ]
  },
  {
   "cell_type": "code",
   "execution_count": 29,
   "id": "67b0bee8-287e-49a2-ae51-c2ba4127f9f2",
   "metadata": {},
   "outputs": [
    {
     "data": {
      "text/plain": [
       "[(Document(id='ce3fcf40-cd8f-4332-bbcf-7b4291f8332a', metadata={'date': '2025-04-30T15:34:01+00:00', 'id': 9467, 'sender_name': 'prian_property'}, page_content='🔥 **Самые важные (и популярные) посты апреля – на случай, если вы пропустили**\\n\\n**Недвижимость**\\n\\n🇪🇸 [Испания сейчас – одна из самых перспективных для инвестиций в недвижимость стран Европы](https://t.me/prian_property/9305)  \\n🇰🇭 [Жильё у моря до $50 000 – чем интересен Сиануквиль, главный курорт Камбоджи  ](https://t.me/prian_property/9323)\\n🇨🇾 [Оформить ПМЖ или просто купить недвижимость без получения статуса на Кипре? Что проще? ](https://t.me/prian_property/9340)\\n\\n**Иммиграция**\\n\\n🧰  [Вы знали про них? Редкие программы ВНЖ за инвестиции с перспективой натурализации в Европе! ](https://t.me/prian_property/9348)\\n🇹🇷 [Как стать турецким подданным в 2025 году? Актуальная памятка для желающих получить паспорт Турции ](https://t.me/prian_property/9350)\\n🇪🇸 [Adiós, «золотая виза»! И что теперь с ВНЖ в Испании? ](https://t.me/prian_property/9325)\\n\\n**Деньги**\\n\\n💸 [Российские налоговики отчитались о рекордном росте нарушений валютного законодательства ](https://t.me/prian_property/9351)\\n🇬🇪 [Открываем счет в банке Грузии – это просто, если вы уже там](https://t.me/prian_property/9374) \\n\\n**Поездки **\\n\\n🇹🇭 [Новые правила въезда в Таиланд заработают с 1 мая ](https://t.me/prian_property/9341)\\n🌏 [Где дешевле (и дороже всего!) отдыхать в 2025 году ](https://t.me/prian_property/9421)\\n❓ [В каких странах можно пить воду из-под крана? А в каких нельзя?](https://t.me/prian_property/9405)\\n\\n🟠 Подписывайтесь на @prian_property и следите за трендами рынка'),\n",
       "  0.21865722261976728),\n",
       " (Document(id='5085c6f9-8618-444e-823d-bf350d184f96', metadata={'date': '2025-04-30T11:48:01+00:00', 'id': 9466, 'sender_name': 'prian_property'}, page_content='🇻🇳 **А может, Вьетнам? Там сейчас бум на рынке**\\n\\nИнтерес к Вьетнаму \"взлетел\". Настолько, что его уже [именуют](https://www.vietnam-briefing.com/news/vietnam-real-estate-market-2025-prime-investment-destination-southeast-asia.html/) «главным направлением в Юго-Восточной Азии» в плане вложений «с прицелом на возврат». \\n\\n**Почему?** Вьетнам «набирает обороты» в ЮВА благодаря стремительному экономическому росту и развитию нормативно-правовой среды. \\n\\nЧитаем, «покупать стало проще и безопаснее»: недавние [реформы](https://prian.ru/news/iz-za-novogo-zakona-nedvizhimost-vetnama-rezko-podorozhaet-oficialnyy-prognoz.html) правительства в области земельного и жилищного права повысили прозрачность рынка, ну а спрос «подталкивает» активность строек и расширение ассортимента. \\n\\n✈️\\xa0 __Кстати, Россия в этом сезоне __[__ставит рекордное количество прямых авиарейсов__](https://t.me/prian_property/9163)__ во Вьетнам, так что удобно «съездить посмотреть одним глазком» самому, что и как. __\\n\\n**«Успешный успех» в цифрах:**\\n\\n➖В 2024 году в стране зафиксирован рост ВВП на 7,09% (в 2023-м – 5,5%). В 2025-м прогнозируют +6,5-6,6%, что укрепляет уверенность инвесторов в долгосрочной экономической стабильности Вьетнама.\\n\\n➖А еще в прошлом году страна получила $24,5 млрд прямых иностранных инвестиций, причем в первую очередь – в сферу недвижимости.\\n\\n➖В Ханое, по итогам 3 квартала 2024 года, цены на квартиры выросли на 22,3% за год, до $2547 за кв.м. Общий объем продаж квартир поднялся на 22,3% – это один из рекордных показателей за историю наблюдений. \\n\\n**Что «на руку» покупателям:**\\n\\nНовые законы о земле и жилье во Вьетнаме. В частности, [корректировка оценки земли](https://t.me/prian_property/9359), бОльшая ясность в отношении прав собственности на землю, утверждений проектов и правил иностранных инвестиций. Ещё там новые «золотые визы» обещают внедрить.\\n\\n🔜 [Присмотритесь к проектам во Вьетнаме](https://prian.ru/vietnam/?utm_source=telegram&utm_medium=post&utm_campaign=news) – там научились строить очень интересные комплексы на курортах и в крупных городах. И цены пока ниже, чем на похожие ЖК в Таиланде. \\n\\n#вьетнам'),\n",
       "  0.14314978022920566),\n",
       " (Document(id='1fc11faf-be50-4ea8-ad93-703e086c14ca', metadata={'date': '2025-04-30T09:11:01+00:00', 'id': 9458, 'sender_name': 'prian_property'}, page_content='🏖  **Пентхаус в Аланье – ваш дом у моря к началу сезона!**\\n\\nКурортный сезон в Турции фактически стартовал! А значит можно ожидать рост интереса к недвижимости у моря – последние годы было именно так. Если вы задумывались о покупке «дачи у моря», тянуть не стоит.\\n\\nВот пример [**квартиры**](https://prian.ru/price/turkey-15229-3905455.html?utm_source=telegram&utm_medium=post&utm_campaign=object) в топовом районе Аланьи.\\n\\n🟢 Новый ЖК 2023 года на улице Ататюрка. Рядом: магазины, супермаркеты, субботний рынок, кафе и прочие радости цивилизации. До пляжа – 500 метров.\\n\\n🟢На территории: Открытый бассейн, фитнесс, сауна, настольный теннис, детская площадка, беседка для отдыха.\\n\\n🟢Пентхаус (!!!) 110 кв.м  (2+1) с ремонтом, мебелью и техникой продаётся за €179 тыс.\\n\\n__Расходы на содержание придомовой территории – 500 лир($13)/год__\\n\\n⁉️ Дополнительную информацию предоставит компания [**Alanya Eiendom**](https://prian.ru/price/contact/turkey-15229-3905455.html?utm_source=telegram&utm_medium=post&utm_campaign=object)\\n\\n #объектдня #турция'),\n",
       "  0.13730789049319136),\n",
       " (Document(id='9d219bc4-615b-49f0-a894-7df31c6f4db6', metadata={'date': '2025-04-30T09:59:23+00:00', 'id': 9459, 'sender_name': 'prian_property'}, page_content='**Ваша «инвест-квартира» работает в минус. А вы всё ещё надеетесь на пассивный доход?**\\n\\nСредняя доходность от долгосрочной сдачи жилья в России в 2025 году – 7% в рублях.\\n\\nЗвучит неплохо…🧐пока вы не вычли расходы на ремонт, простои и обслуживание. А теперь сравните с официальной инфляцией – 8%.\\n\\n**Поздравляем: вы не зарабатываете. Вы теряете.** И это не только в России:\\nВ Германии доходность – 2-4%, Испания – до 6%, Таиланд – 8%, США – 4%. Разница только в одном – там вы хотя бы зарабатываете в валюте.\\n\\nА что, если вам покажут точку на карте, где можно зарабатывать __до 20% годовых в долларах__? И нет, это не рискованные стартапы и не крипта. Это – недвижимость в месте, которое вы точно  угадаете с первого раза: остров, куда ежегодно устремляются миллионы туристов. Где спрос на аренду в два раза превышает предложение. Где турпоток растёт на 20% в год, и это только начало.\\n\\nКонечно, это Бали. **Почему на это предложение нужно обратить внимание?**\\n\\nПотому что\\xa0– BREIG Property – лидер девелопмента на Бали. Это не посредники, а крупнейший застройщик на острове:\\n\\n🟠 Собственное производство и контроль на каждом этапе, 100 сотрудников в штате,  официальный партнёр Marriott\\n🟠 17 реализованных проектов, заполняемость – 90%+, гарантия на строения – до 7 лет\\n🟠 Полная комплектация объектов – вплоть до посуды\\n🟠 Страхование Zurich – на этапе стройки и после\\n🟠 Объекты от $90 000, первый взнос – от 25%, рассрочка, часть стоимости можно покрыть из дохода от аренды после запуска\\n\\nВы можете продолжать терять в рублях. А можете – начать зарабатывать в валюте уже сейчас.\\n\\n✅ **Если вам интересно это направление, но вы до сих не решили, во что именно вложиться,\\xa0 подпишитесь на **[**Telegram-канал**](https://t.me/breigbali)** BREIG Property и получите каталог недвижимости на Бали – **[**здесь**](https://breig-property.online/?utm_source=tg)\\n\\n#промо #бали #индонезия'),\n",
       "  0.07536537319161629)]"
      ]
     },
     "execution_count": 29,
     "metadata": {},
     "output_type": "execute_result"
    }
   ],
   "source": [
    "chroma_client.similarity_search_with_relevance_scores('Литва')"
   ]
  },
  {
   "cell_type": "code",
   "execution_count": null,
   "id": "70d6e313-17f2-4a21-a7ad-9e40cec2d338",
   "metadata": {},
   "outputs": [],
   "source": [
    "def load_data_to_chroma():\n",
    "    \"\"\"Loads data from MongoDB to ChromaDB.\"\"\"\n",
    "    print(\"Loading data from MongoDB to ChromaDB...\")\n",
    "    items = list(collection.find({}, {\"_id\": 0}))\n",
    "    documents = [\n",
    "        Document(page_content=item[\"text\"], metadata={}) for item in items\n",
    "    ]\n",
    "    if documents:\n",
    "        # Clear existing data in ChromaDB before loading\n",
    "        try:\n",
    "            chroma_client.reset_collection()\n",
    "            print(\"Cleared existing ChromaDB collection.\")\n",
    "        except:\n",
    "            print(\"No existing ChromaDB collection to clear.\")\n",
    "        \n",
    "        chroma_client.add_documents(documents)\n",
    "        print(f\"Loaded {len(documents)} documents into ChromaDB.\")\n",
    "\n",
    "        results = chroma_client.similarity_search(\"tests\")\n",
    "        print(1111, results)\n",
    "    else:\n",
    "        print(\"No documents found in MongoDB to load into ChromaDB.\")\n",
    "\n",
    "\n",
    "async def get_channel_messages(channel_username, limit=100):\n",
    "    \"\"\"\n",
    "    Connects to Telegram and fetches messages from a specific channel using Telethon.\n",
    "\n",
    "    Args:\n",
    "        channel_username (str): The username or ID of the channel.\n",
    "        limit (int): The maximum number of messages to fetch.\n",
    "\n",
    "    Returns:\n",
    "        list: A list of message objects, or None if connection fails.\n",
    "    \"\"\"\n",
    "    if not all([API_ID, API_HASH, PHONE_NUMBER]):\n",
    "        print(\"Error: TELEGRAM_API_ID, TELEGRAM_API_HASH, and TELEGRAM_PHONE_NUMBER must be set in .env file.\")\n",
    "        return None\n",
    "\n",
    "    # Convert API_ID to integer\n",
    "    try:\n",
    "        api_id_int = int(API_ID)\n",
    "    except ValueError:\n",
    "        print(\"Error: TELEGRAM_API_ID must be an integer.\")\n",
    "        return None\n",
    "\n",
    "    client = TelegramClient(SESSION_NAME, api_id_int, API_HASH)\n",
    "\n",
    "    messages_data = []\n",
    "    try:\n",
    "        print(\"Connecting to Telegram...\")\n",
    "        await client.connect()\n",
    "\n",
    "        if not await client.is_user_authorized():\n",
    "            print(\"First run: Sending code request...\")\n",
    "            await client.send_code_request(PHONE_NUMBER)\n",
    "            try:\n",
    "                code = input('Enter the code you received: ')\n",
    "                await client.sign_in(PHONE_NUMBER, code)\n",
    "            except Exception as e:\n",
    "                print(f\"Failed to sign in: {e}\")\n",
    "                await client.disconnect()\n",
    "                return None\n",
    "            print(\"Signed in successfully!\")\n",
    "\n",
    "        print(f\"Fetching messages from {channel_username}...\")\n",
    "        # Get the channel entity\n",
    "        try:\n",
    "            channel = await client.get_entity(channel_username)\n",
    "        except ValueError:\n",
    "             print(f\"Error: Could not find the channel or chat with username/ID '{channel_username}'. Please check the username/ID.\")\n",
    "             await client.disconnect()\n",
    "             return None\n",
    "        except Exception as e:\n",
    "            print(f\"An unexpected error occurred while getting channel entity: {e}\")\n",
    "            await client.disconnect()\n",
    "            return None\n",
    "\n",
    "\n",
    "        # Fetch messages\n",
    "        async for message in client.iter_messages(channel, limit=limit):\n",
    "            # Process message object as needed\n",
    "            # print(f\"Message ID: {message.id}, Date: {message.date}, Text: {message.text[:50]}...\")\n",
    "            messages_data.append({\n",
    "                'id': message.id,\n",
    "                'date': message.date.isoformat(),\n",
    "                'text': message.text,\n",
    "                'sender_id': message.sender_id,\n",
    "                # Add more fields as needed\n",
    "            })\n",
    "        print(f\"Fetched {len(messages_data)} messages.\")\n",
    "\n",
    "    except Exception as e:\n",
    "        print(f\"An error occurred: {e}\")\n",
    "        return None\n",
    "    finally:\n",
    "        if client.is_connected():\n",
    "            print(\"Disconnecting...\")\n",
    "            await client.disconnect()\n",
    "            print(\"Disconnected.\")\n",
    "\n",
    "    return messages_data\n",
    "\n",
    "async def main():\n",
    "    \"\"\"Main function to run the message fetching.\"\"\"\n",
    "    messages = await get_channel_messages(TARGET_CHANNEL, limit=10) # Fetch last 10 messages for testing\n",
    "    if messages:\n",
    "        print(\"\\n--- Fetched Messages ---\")\n",
    "        for msg in messages:\n",
    "            print(f\"ID: {msg['id']}, Date: {msg['date']}, Sender: {msg['sender_id']}, Text: {msg['text'][:100]}...\")\n",
    "        print(\"----------------------\\n\")\n",
    "    else:\n",
    "        print(\"Failed to fetch messages.\")\n",
    "\n",
    "if __name__ == \"__main__\":\n",
    "    # Use asyncio.run() in Python 3.7+\n",
    "    # For older versions, you might need loop = asyncio.get_event_loop(); loop.run_until_complete(main())\n",
    "    asyncio.run(main())"
   ]
  }
 ],
 "metadata": {
  "kernelspec": {
   "display_name": "Python 3 (ipykernel)",
   "language": "python",
   "name": "python3"
  },
  "language_info": {
   "codemirror_mode": {
    "name": "ipython",
    "version": 3
   },
   "file_extension": ".py",
   "mimetype": "text/x-python",
   "name": "python",
   "nbconvert_exporter": "python",
   "pygments_lexer": "ipython3",
   "version": "3.12.9"
  }
 },
 "nbformat": 4,
 "nbformat_minor": 5
}
