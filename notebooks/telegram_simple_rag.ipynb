{
 "cells": [
  {
   "cell_type": "code",
   "id": "8f317781-b2c4-4d16-959f-bd9f46670712",
   "metadata": {
    "jupyter": {
     "is_executing": true
    }
   },
   "source": [
    "import os\n",
    "import sys\n",
    "app_path = os.path.abspath('..')\n",
    "sys.path.insert(0, app_path)\n",
    "\n",
    "from datetime import datetime, UTC\n",
    "\n",
    "from langchain import PromptTemplate\n",
    "from langchain_ollama import ChatOllama\n",
    "\n",
    "from app.chroma_client import get_embeddings, get_client"
   ],
   "outputs": [],
   "execution_count": null
  },
  {
   "metadata": {},
   "cell_type": "code",
   "source": [
    "channel_name = 'go_to_vilnius'\n",
    "channel_id = -1133953167"
   ],
   "id": "2726e596170995ec",
   "outputs": [],
   "execution_count": null
  },
  {
   "cell_type": "code",
   "id": "c07b9ed61b941097",
   "metadata": {},
   "source": [
    "# ru_model_name = \"cointegrated/rubert-tiny2\"\n",
    "ru_model_name = \"intfloat/multilingual-e5-large\"\n",
    "embeddings = get_embeddings(ru_model_name)\n",
    "\n",
    "chroma_client_from_telegram = get_client(f'telegram_{channel_name}', embeddings)"
   ],
   "outputs": [],
   "execution_count": null
  },
  {
   "metadata": {},
   "cell_type": "code",
   "source": [
    "llm_qwen3_8b = ChatOllama(\n",
    "    model=\"qwen3:8b\",\n",
    ")"
   ],
   "id": "28b19e1229e17113",
   "outputs": [],
   "execution_count": null
  },
  {
   "metadata": {},
   "cell_type": "code",
   "source": [
    "user_query = \"Выведи самые токсичные сообщения в чате.\"\n",
    "user_query = \"Выведи самые позитивные сообщения о Литве и Вильнюсе в чате.\"\n",
    "# user_query = \"Можно ли компенсировать отель или аквапарк через велнес/БТА/бта/BTA?\"\n",
    "# user_query = \"Как получить детские деньги или компенсацию по уходу за ребенком.\""
   ],
   "id": "e297c8c001160326",
   "outputs": [],
   "execution_count": null
  },
  {
   "metadata": {},
   "cell_type": "code",
   "source": [
    "related_docs = chroma_client_from_telegram.similarity_search_with_relevance_scores(user_query, k=15)\n",
    "related_docs"
   ],
   "id": "8725e1806b105426",
   "outputs": [],
   "execution_count": null
  },
  {
   "metadata": {},
   "cell_type": "code",
   "source": [
    "filtered_related_docs = filter(lambda doc_score: doc_score[-1] > 0.3, related_docs)\n",
    "\n",
    "t_link_base = \"https://web.telegram.org/k/#?tgaddr=tg%3A%2F%2Fprivatepost%3Fchannel%3D1133953167%26post%3D\"\n",
    "\n",
    "print(\"\\n\\n---\\n\\n\".join(f\"\"\"\n",
    "{datetime.fromtimestamp(doc.metadata['date'], UTC)} {t_link_base}{doc.metadata['id']} - {doc.page_content}\n",
    "\"\"\" for doc, _score in filtered_related_docs))"
   ],
   "id": "4ff200e9aa4e6a1c",
   "outputs": [],
   "execution_count": null
  },
  {
   "metadata": {},
   "cell_type": "code",
   "source": [
    "filtered_related_docs = filter(lambda doc_score: doc_score[-1] > 0.3, related_docs)\n",
    "\n",
    "context = \"\\n\\n---\\n\\n\".join(f\"{datetime.fromtimestamp(doc.metadata['date'], UTC)} - {doc.page_content}\" for doc, _score in filtered_related_docs)"
   ],
   "id": "c35007263ed6b21d",
   "outputs": [],
   "execution_count": null
  },
  {
   "metadata": {},
   "cell_type": "code",
   "source": [
    "ru_telegram_prompt = PromptTemplate(\n",
    "    input_variables=[\"context\", \"user_query\"],\n",
    "    template=\"\"\"\n",
    "    Ты полезный AI ассистент, который отвечает на вопросы пользователя на основе контекста.\n",
    "    Контекст это релевантные вопросу сообщения из телеграм чата.\n",
    "\n",
    "    Контекст:\n",
    "    {context}\n",
    "\n",
    "    Вопрос пользователя:\n",
    "    {user_query}\n",
    "\n",
    "    Если в контексте недостаточно информации, чтобы ответить на вопрос пользователя, то скажи, что недостаточно информации.\n",
    "\n",
    "    Ответ:\n",
    "    \"\"\",\n",
    ")\n",
    "\n",
    "hyde_chain_r1_8b = ru_telegram_prompt | llm_qwen3_8b\n",
    "llm_response = hyde_chain_r1_8b.invoke({\"user_query\": user_query, \"context\": context}).content\n",
    "print(llm_response)"
   ],
   "id": "bff1b4fc98c216be",
   "outputs": [],
   "execution_count": null
  },
  {
   "metadata": {},
   "cell_type": "code",
   "source": "",
   "id": "91144e5909477f78",
   "outputs": [],
   "execution_count": null
  }
 ],
 "metadata": {
  "kernelspec": {
   "display_name": "Python 3 (ipykernel)",
   "language": "python",
   "name": "python3"
  },
  "language_info": {
   "codemirror_mode": {
    "name": "ipython",
    "version": 3
   },
   "file_extension": ".py",
   "mimetype": "text/x-python",
   "name": "python",
   "nbconvert_exporter": "python",
   "pygments_lexer": "ipython3",
   "version": "3.12.9"
  }
 },
 "nbformat": 4,
 "nbformat_minor": 5
}
