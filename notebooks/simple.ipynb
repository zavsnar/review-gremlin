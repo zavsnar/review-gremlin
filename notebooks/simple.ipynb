{
 "cells": [
  {
   "cell_type": "code",
   "execution_count": 1,
   "id": "d4171003",
   "metadata": {},
   "outputs": [],
   "source": [
    "import os\n",
    "import sys\n",
    "app_path = os.path.abspath('..')\n",
    "sys.path.insert(0, app_path)\n",
    "\n",
    "    \n",
    "from pymongo import MongoClient\n",
    "from langchain_core.documents import Document # Keep Document as it's used in the query function signature if needed later\n",
    "from langchain import PromptTemplate\n",
    "from langchain_ollama import ChatOllama\n",
    "\n",
    "from app.chroma_client import chroma_client"
   ]
  },
  {
   "cell_type": "code",
   "execution_count": 2,
   "id": "4a494bce-f8a1-479c-886c-f8cf3250becc",
   "metadata": {},
   "outputs": [],
   "source": [
    "MONGODB_URI = \"mongodb://127.0.0.1:27017/mydb\"  # Use the service name 'mongo'\n",
    "mongo_client = MongoClient(MONGODB_URI)\n",
    "mdb = mongo_client.mydb\n",
    "mongo_collection = mdb.mycollection"
   ]
  },
  {
   "cell_type": "code",
   "execution_count": 23,
   "id": "7d4828ce-e285-438a-8958-136d9a571f17",
   "metadata": {},
   "outputs": [
    {
     "name": "stdout",
     "output_type": "stream",
     "text": [
      "Score: 0.2624200534914286 - The performance tests need to be run.\n",
      " --- \n",
      "Score: 0.25351028342725135 - The unit tests are not covering all cases.\n",
      " --- \n",
      "Score: 0.1523568663291105 - The integration tests need to be updated.\n",
      " --- \n",
      "Score: 0.13731630721667554 - The test coverage for this file is low. Please add more tests.\n"
     ]
    }
   ],
   "source": [
    "query = \"Give comments about tests.\"\n",
    "\n",
    "results = chroma_client.similarity_search_with_relevance_scores(query)\n",
    "\n",
    "context_comments = \"\\n --- \\n\".join([f\"Score: {score} - {doc.page_content}\" for doc, score in results])\n",
    "print(context_comments)"
   ]
  },
  {
   "cell_type": "code",
   "execution_count": 25,
   "id": "93e89486-f1cd-4083-a3db-05c44a7c32d0",
   "metadata": {},
   "outputs": [
    {
     "name": "stdout",
     "output_type": "stream",
     "text": [
      "Score: -0.1470055802114063 - I'm worried about the security implications of this change.\n",
      " --- \n",
      "Score: -0.15432621111669076 - The user interface changes look good.\n",
      " --- \n",
      "Score: -0.15885391490125178 - This change looks good, but I'm concerned about the performance implications.\n",
      " --- \n",
      "Score: -0.15887608646643803 - I'm not convinced this change is necessary.\n"
     ]
    },
    {
     "name": "stderr",
     "output_type": "stream",
     "text": [
      "/var/folders/_g/24vfwvtn7638ygdrlqbgcpl80000gn/T/ipykernel_5737/2376696494.py:3: UserWarning: Relevance scores must be between 0 and 1, got [(Document(id='8b002e18-1d4d-45a2-aded-88f8cd111d2f', metadata={}, page_content=\"I'm worried about the security implications of this change.\"), -0.1470055802114063), (Document(id='fe94aab5-0138-4b6d-9e5e-7ded43981b33', metadata={}, page_content='The user interface changes look good.'), -0.15432621111669076), (Document(id='76de1f68-0dda-4cd1-a54a-20734a518a65', metadata={}, page_content=\"This change looks good, but I'm concerned about the performance implications.\"), -0.15885391490125178), (Document(id='9bfa75b7-83dc-40c3-8bc7-9d97422cffe1', metadata={}, page_content=\"I'm not convinced this change is necessary.\"), -0.15887608646643803)]\n",
      "  results = chroma_client.similarity_search_with_relevance_scores(query)\n"
     ]
    }
   ],
   "source": [
    "query = \"Give the most negative comments.\"\n",
    "\n",
    "results = chroma_client.similarity_search_with_relevance_scores(query)\n",
    "\n",
    "context_comments = \"\\n --- \\n\".join([f\"Score: {score} - {doc.page_content}\" for doc, score in results])\n",
    "print(context_comments)"
   ]
  },
  {
   "cell_type": "code",
   "execution_count": null,
   "id": "631cbd57-dffe-4df3-a176-dca8d312c349",
   "metadata": {},
   "outputs": [],
   "source": []
  }
 ],
 "metadata": {
  "kernelspec": {
   "display_name": "Python 3 (ipykernel)",
   "language": "python",
   "name": "python3"
  },
  "language_info": {
   "codemirror_mode": {
    "name": "ipython",
    "version": 3
   },
   "file_extension": ".py",
   "mimetype": "text/x-python",
   "name": "python",
   "nbconvert_exporter": "python",
   "pygments_lexer": "ipython3",
   "version": "3.12.9"
  }
 },
 "nbformat": 4,
 "nbformat_minor": 5
}
