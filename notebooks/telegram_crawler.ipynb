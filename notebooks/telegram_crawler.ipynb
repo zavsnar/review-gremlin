{
 "cells": [
  {
   "cell_type": "code",
   "id": "8f317781-b2c4-4d16-959f-bd9f46670712",
   "metadata": {
    "ExecuteTime": {
     "end_time": "2025-05-03T12:19:54.107475Z",
     "start_time": "2025-05-03T12:19:54.093695Z"
    }
   },
   "source": [
    "import os\n",
    "import sys\n",
    "app_path = os.path.abspath('..')\n",
    "sys.path.insert(0, app_path)\n",
    "\n",
    "from dotenv import load_dotenv\n",
    "\n",
    "from app.telegram_client import get_client_with_auth\n",
    "from app.chroma_client import get_embeddings, get_client, load_data_to_chroma\n",
    "\n",
    "\n",
    "load_dotenv()\n",
    "\n",
    "CHANNEL_NAME = os.getenv('TELEGRAM_CHAT_NAME')\n",
    "CHANNEL_ID = os.getenv('TELEGRAM_CHAT_ID')"
   ],
   "outputs": [],
   "execution_count": 11
  },
  {
   "cell_type": "code",
   "id": "55201826-4a8d-4ba2-a0d0-e29f5e925922",
   "metadata": {
    "scrolled": true,
    "ExecuteTime": {
     "end_time": "2025-05-03T12:19:59.202806Z",
     "start_time": "2025-05-03T12:19:58.826462Z"
    }
   },
   "source": "telegram_client = await get_client_with_auth()",
   "outputs": [],
   "execution_count": 12
  },
  {
   "cell_type": "code",
   "id": "963d0f92-1614-4eaa-bda4-c9d50ea26423",
   "metadata": {
    "ExecuteTime": {
     "end_time": "2025-05-03T12:20:00.390345Z",
     "start_time": "2025-05-03T12:20:00.384574Z"
    }
   },
   "source": [
    "from typing import Any\n",
    "from tqdm import tqdm\n",
    "from telethon.tl.types import PeerChannel\n",
    "\n",
    "CHAT_MESSAGES_LIMIT = 1000\n",
    "\n",
    "async def get_messages_from_channel(\n",
    "    telegram_client, channel_id: int | str, min_id: int = 0, max_id: int = 0, chunks: int = 10\n",
    ") -> dict[int, dict[str, Any]]:\n",
    "    messages_data = {}\n",
    "    if channel_id < 0:\n",
    "        channel_id = PeerChannel(channel_id)\n",
    "\n",
    "    channel = await telegram_client.get_entity(channel_id)\n",
    "    last_seen_message_id = max_id\n",
    "\n",
    "    for _i in tqdm(range(chunks), desc=\"Fetching chunks\", position=0, leave=False, colour='green'):\n",
    "        if all((last_seen_message_id, min_id)) and last_seen_message_id == min_id:\n",
    "            print(\"Reached last unseen message\")\n",
    "            break\n",
    "\n",
    "        async for message in telegram_client.iter_messages(\n",
    "            channel, min_id=min_id, offset_id=last_seen_message_id, limit=CHAT_MESSAGES_LIMIT\n",
    "        ):\n",
    "            if not message.text or len(message.text) < 10:\n",
    "                continue\n",
    "\n",
    "            message_text = message.text\n",
    "            if message.is_reply:\n",
    "                if message.reply_to_msg_id not in messages_data:\n",
    "                    original_message = await message.get_reply_message()\n",
    "                    if original_message:\n",
    "                        messages_data[original_message.id] = {\n",
    "                            'text': original_message.text,\n",
    "                            'metadata': {\n",
    "                                'sender_name': original_message.sender.username or '',\n",
    "                                'id': original_message.id,\n",
    "                                'date_str': original_message.date.isoformat(),\n",
    "                                'date': original_message.date.timestamp(),\n",
    "                            }\n",
    "                        }\n",
    "\n",
    "                original_message = messages_data.get(message.reply_to_msg_id)\n",
    "                if original_message:\n",
    "                    message_text = f'>> {original_message['text']}\\n\\n {message.text}'\n",
    "                else:\n",
    "                    message_text = f'>> [[ORIGINAL MESSAGE REMOVED]]\\n\\n {message.text}'\n",
    "\n",
    "            messages_data[message.id] = {\n",
    "                'text': message_text,\n",
    "                'metadata': {\n",
    "                    'sender_name': message.sender.username or '',\n",
    "                    'id': message.id,\n",
    "                    'date': message.date.timestamp(),\n",
    "                }\n",
    "            }\n",
    "\n",
    "        last_seen_message_id = message.id\n",
    "        if last_seen_message_id == 0:\n",
    "            break\n",
    "\n",
    "    return messages_data"
   ],
   "outputs": [],
   "execution_count": 13
  },
  {
   "cell_type": "code",
   "id": "c07b9ed61b941097",
   "metadata": {
    "ExecuteTime": {
     "end_time": "2025-05-03T12:20:32.758212Z",
     "start_time": "2025-05-03T12:20:29.538789Z"
    }
   },
   "source": [
    "# ru_model_name = \"cointegrated/rubert-tiny2\"\n",
    "ru_model_name = \"intfloat/multilingual-e5-large\"\n",
    "embeddings = get_embeddings(ru_model_name)\n",
    "\n",
    "chroma_client_from_telegram = get_client(f'telegram_{CHANNEL_NAME}', embeddings)"
   ],
   "outputs": [
    {
     "ename": "OutOfMemoryError",
     "evalue": "CUDA out of memory. Tried to allocate 978.00 MiB. GPU 0 has a total capacity of 8.00 GiB of which 4.35 GiB is free. Including non-PyTorch memory, this process has 17179869184.00 GiB memory in use. Of the allocated memory 2.49 GiB is allocated by PyTorch, and 47.46 MiB is reserved by PyTorch but unallocated. If reserved but unallocated memory is large try setting PYTORCH_CUDA_ALLOC_CONF=expandable_segments:True to avoid fragmentation.  See documentation for Memory Management  (https://pytorch.org/docs/stable/notes/cuda.html#environment-variables)",
     "output_type": "error",
     "traceback": [
      "\u001B[31m---------------------------------------------------------------------------\u001B[39m",
      "\u001B[31mOutOfMemoryError\u001B[39m                          Traceback (most recent call last)",
      "\u001B[36mCell\u001B[39m\u001B[36m \u001B[39m\u001B[32mIn[14]\u001B[39m\u001B[32m, line 3\u001B[39m\n\u001B[32m      1\u001B[39m \u001B[38;5;66;03m# ru_model_name = \"cointegrated/rubert-tiny2\"\u001B[39;00m\n\u001B[32m      2\u001B[39m ru_model_name = \u001B[33m\"\u001B[39m\u001B[33mintfloat/multilingual-e5-large\u001B[39m\u001B[33m\"\u001B[39m\n\u001B[32m----> \u001B[39m\u001B[32m3\u001B[39m embeddings = \u001B[43mget_embeddings\u001B[49m\u001B[43m(\u001B[49m\u001B[43mru_model_name\u001B[49m\u001B[43m)\u001B[49m\n\u001B[32m      5\u001B[39m chroma_client_from_telegram = get_client(\u001B[33mf\u001B[39m\u001B[33m'\u001B[39m\u001B[33mtelegram_\u001B[39m\u001B[38;5;132;01m{\u001B[39;00mCHANNEL_NAME\u001B[38;5;132;01m}\u001B[39;00m\u001B[33m'\u001B[39m, embeddings)\n",
      "\u001B[36mFile \u001B[39m\u001B[32m/mnt/d/projects/research/review-gremlin/app/chroma_client.py:21\u001B[39m, in \u001B[36mget_embeddings\u001B[39m\u001B[34m(model_name)\u001B[39m\n\u001B[32m     17\u001B[39m     embeddings = HuggingFaceEmbeddings(\n\u001B[32m     18\u001B[39m         model_name=model_name, model_kwargs={\u001B[33m'\u001B[39m\u001B[33mdevice\u001B[39m\u001B[33m'\u001B[39m: \u001B[33m'\u001B[39m\u001B[33mmps\u001B[39m\u001B[33m'\u001B[39m}\n\u001B[32m     19\u001B[39m     )\n\u001B[32m     20\u001B[39m \u001B[38;5;28;01melif\u001B[39;00m torch.backends.cuda.is_built():\n\u001B[32m---> \u001B[39m\u001B[32m21\u001B[39m     embeddings = \u001B[43mHuggingFaceEmbeddings\u001B[49m\u001B[43m(\u001B[49m\n\u001B[32m     22\u001B[39m \u001B[43m        \u001B[49m\u001B[43mmodel_name\u001B[49m\u001B[43m=\u001B[49m\u001B[43mmodel_name\u001B[49m\u001B[43m,\u001B[49m\u001B[43m \u001B[49m\u001B[43mmodel_kwargs\u001B[49m\u001B[43m=\u001B[49m\u001B[43m{\u001B[49m\u001B[33;43m'\u001B[39;49m\u001B[33;43mdevice\u001B[39;49m\u001B[33;43m'\u001B[39;49m\u001B[43m:\u001B[49m\u001B[43m \u001B[49m\u001B[33;43m'\u001B[39;49m\u001B[33;43mcuda\u001B[39;49m\u001B[33;43m'\u001B[39;49m\u001B[43m}\u001B[49m\n\u001B[32m     23\u001B[39m \u001B[43m    \u001B[49m\u001B[43m)\u001B[49m\n\u001B[32m     24\u001B[39m \u001B[38;5;28;01melse\u001B[39;00m:\n\u001B[32m     25\u001B[39m     embeddings = HuggingFaceEmbeddings(model_name=model_name)\n",
      "\u001B[36mFile \u001B[39m\u001B[32m~/.pyenv/versions/3.12.9/envs/review_gremlin/lib/python3.12/site-packages/langchain_huggingface/embeddings/huggingface.py:59\u001B[39m, in \u001B[36mHuggingFaceEmbeddings.__init__\u001B[39m\u001B[34m(self, **kwargs)\u001B[39m\n\u001B[32m     53\u001B[39m \u001B[38;5;28;01mexcept\u001B[39;00m \u001B[38;5;167;01mImportError\u001B[39;00m \u001B[38;5;28;01mas\u001B[39;00m exc:\n\u001B[32m     54\u001B[39m     \u001B[38;5;28;01mraise\u001B[39;00m \u001B[38;5;167;01mImportError\u001B[39;00m(\n\u001B[32m     55\u001B[39m         \u001B[33m\"\u001B[39m\u001B[33mCould not import sentence_transformers python package. \u001B[39m\u001B[33m\"\u001B[39m\n\u001B[32m     56\u001B[39m         \u001B[33m\"\u001B[39m\u001B[33mPlease install it with `pip install sentence-transformers`.\u001B[39m\u001B[33m\"\u001B[39m\n\u001B[32m     57\u001B[39m     ) \u001B[38;5;28;01mfrom\u001B[39;00m\u001B[38;5;250m \u001B[39m\u001B[34;01mexc\u001B[39;00m\n\u001B[32m---> \u001B[39m\u001B[32m59\u001B[39m \u001B[38;5;28mself\u001B[39m._client = \u001B[43msentence_transformers\u001B[49m\u001B[43m.\u001B[49m\u001B[43mSentenceTransformer\u001B[49m\u001B[43m(\u001B[49m\n\u001B[32m     60\u001B[39m \u001B[43m    \u001B[49m\u001B[38;5;28;43mself\u001B[39;49m\u001B[43m.\u001B[49m\u001B[43mmodel_name\u001B[49m\u001B[43m,\u001B[49m\u001B[43m \u001B[49m\u001B[43mcache_folder\u001B[49m\u001B[43m=\u001B[49m\u001B[38;5;28;43mself\u001B[39;49m\u001B[43m.\u001B[49m\u001B[43mcache_folder\u001B[49m\u001B[43m,\u001B[49m\u001B[43m \u001B[49m\u001B[43m*\u001B[49m\u001B[43m*\u001B[49m\u001B[38;5;28;43mself\u001B[39;49m\u001B[43m.\u001B[49m\u001B[43mmodel_kwargs\u001B[49m\n\u001B[32m     61\u001B[39m \u001B[43m\u001B[49m\u001B[43m)\u001B[49m\n",
      "\u001B[36mFile \u001B[39m\u001B[32m~/.pyenv/versions/3.12.9/envs/review_gremlin/lib/python3.12/site-packages/sentence_transformers/SentenceTransformer.py:348\u001B[39m, in \u001B[36mSentenceTransformer.__init__\u001B[39m\u001B[34m(self, model_name_or_path, modules, device, prompts, default_prompt_name, similarity_fn_name, cache_folder, trust_remote_code, revision, local_files_only, token, use_auth_token, truncate_dim, model_kwargs, tokenizer_kwargs, config_kwargs, model_card_data, backend)\u001B[39m\n\u001B[32m    345\u001B[39m \u001B[38;5;28;01mexcept\u001B[39;00m \u001B[38;5;167;01mStopIteration\u001B[39;00m:\n\u001B[32m    346\u001B[39m     \u001B[38;5;28;01mpass\u001B[39;00m\n\u001B[32m--> \u001B[39m\u001B[32m348\u001B[39m \u001B[38;5;28;43mself\u001B[39;49m\u001B[43m.\u001B[49m\u001B[43mto\u001B[49m\u001B[43m(\u001B[49m\u001B[43mdevice\u001B[49m\u001B[43m)\u001B[49m\n\u001B[32m    349\u001B[39m \u001B[38;5;28mself\u001B[39m.is_hpu_graph_enabled = \u001B[38;5;28;01mFalse\u001B[39;00m\n\u001B[32m    351\u001B[39m \u001B[38;5;28;01mif\u001B[39;00m \u001B[38;5;28mself\u001B[39m.default_prompt_name \u001B[38;5;129;01mis\u001B[39;00m \u001B[38;5;129;01mnot\u001B[39;00m \u001B[38;5;28;01mNone\u001B[39;00m \u001B[38;5;129;01mand\u001B[39;00m \u001B[38;5;28mself\u001B[39m.default_prompt_name \u001B[38;5;129;01mnot\u001B[39;00m \u001B[38;5;129;01min\u001B[39;00m \u001B[38;5;28mself\u001B[39m.prompts:\n",
      "\u001B[36mFile \u001B[39m\u001B[32m~/.pyenv/versions/3.12.9/envs/review_gremlin/lib/python3.12/site-packages/torch/nn/modules/module.py:1343\u001B[39m, in \u001B[36mModule.to\u001B[39m\u001B[34m(self, *args, **kwargs)\u001B[39m\n\u001B[32m   1340\u001B[39m         \u001B[38;5;28;01melse\u001B[39;00m:\n\u001B[32m   1341\u001B[39m             \u001B[38;5;28;01mraise\u001B[39;00m\n\u001B[32m-> \u001B[39m\u001B[32m1343\u001B[39m \u001B[38;5;28;01mreturn\u001B[39;00m \u001B[38;5;28;43mself\u001B[39;49m\u001B[43m.\u001B[49m\u001B[43m_apply\u001B[49m\u001B[43m(\u001B[49m\u001B[43mconvert\u001B[49m\u001B[43m)\u001B[49m\n",
      "\u001B[36mFile \u001B[39m\u001B[32m~/.pyenv/versions/3.12.9/envs/review_gremlin/lib/python3.12/site-packages/torch/nn/modules/module.py:903\u001B[39m, in \u001B[36mModule._apply\u001B[39m\u001B[34m(self, fn, recurse)\u001B[39m\n\u001B[32m    901\u001B[39m \u001B[38;5;28;01mif\u001B[39;00m recurse:\n\u001B[32m    902\u001B[39m     \u001B[38;5;28;01mfor\u001B[39;00m module \u001B[38;5;129;01min\u001B[39;00m \u001B[38;5;28mself\u001B[39m.children():\n\u001B[32m--> \u001B[39m\u001B[32m903\u001B[39m         \u001B[43mmodule\u001B[49m\u001B[43m.\u001B[49m\u001B[43m_apply\u001B[49m\u001B[43m(\u001B[49m\u001B[43mfn\u001B[49m\u001B[43m)\u001B[49m\n\u001B[32m    905\u001B[39m \u001B[38;5;28;01mdef\u001B[39;00m\u001B[38;5;250m \u001B[39m\u001B[34mcompute_should_use_set_data\u001B[39m(tensor, tensor_applied):\n\u001B[32m    906\u001B[39m     \u001B[38;5;28;01mif\u001B[39;00m torch._has_compatible_shallow_copy_type(tensor, tensor_applied):\n\u001B[32m    907\u001B[39m         \u001B[38;5;66;03m# If the new tensor has compatible tensor type as the existing tensor,\u001B[39;00m\n\u001B[32m    908\u001B[39m         \u001B[38;5;66;03m# the current behavior is to change the tensor in-place using `.data =`,\u001B[39;00m\n\u001B[32m   (...)\u001B[39m\u001B[32m    913\u001B[39m         \u001B[38;5;66;03m# global flag to let the user control whether they want the future\u001B[39;00m\n\u001B[32m    914\u001B[39m         \u001B[38;5;66;03m# behavior of overwriting the existing tensor or not.\u001B[39;00m\n",
      "\u001B[36mFile \u001B[39m\u001B[32m~/.pyenv/versions/3.12.9/envs/review_gremlin/lib/python3.12/site-packages/torch/nn/modules/module.py:903\u001B[39m, in \u001B[36mModule._apply\u001B[39m\u001B[34m(self, fn, recurse)\u001B[39m\n\u001B[32m    901\u001B[39m \u001B[38;5;28;01mif\u001B[39;00m recurse:\n\u001B[32m    902\u001B[39m     \u001B[38;5;28;01mfor\u001B[39;00m module \u001B[38;5;129;01min\u001B[39;00m \u001B[38;5;28mself\u001B[39m.children():\n\u001B[32m--> \u001B[39m\u001B[32m903\u001B[39m         \u001B[43mmodule\u001B[49m\u001B[43m.\u001B[49m\u001B[43m_apply\u001B[49m\u001B[43m(\u001B[49m\u001B[43mfn\u001B[49m\u001B[43m)\u001B[49m\n\u001B[32m    905\u001B[39m \u001B[38;5;28;01mdef\u001B[39;00m\u001B[38;5;250m \u001B[39m\u001B[34mcompute_should_use_set_data\u001B[39m(tensor, tensor_applied):\n\u001B[32m    906\u001B[39m     \u001B[38;5;28;01mif\u001B[39;00m torch._has_compatible_shallow_copy_type(tensor, tensor_applied):\n\u001B[32m    907\u001B[39m         \u001B[38;5;66;03m# If the new tensor has compatible tensor type as the existing tensor,\u001B[39;00m\n\u001B[32m    908\u001B[39m         \u001B[38;5;66;03m# the current behavior is to change the tensor in-place using `.data =`,\u001B[39;00m\n\u001B[32m   (...)\u001B[39m\u001B[32m    913\u001B[39m         \u001B[38;5;66;03m# global flag to let the user control whether they want the future\u001B[39;00m\n\u001B[32m    914\u001B[39m         \u001B[38;5;66;03m# behavior of overwriting the existing tensor or not.\u001B[39;00m\n",
      "    \u001B[31m[... skipping similar frames: Module._apply at line 903 (1 times)]\u001B[39m\n",
      "\u001B[36mFile \u001B[39m\u001B[32m~/.pyenv/versions/3.12.9/envs/review_gremlin/lib/python3.12/site-packages/torch/nn/modules/module.py:903\u001B[39m, in \u001B[36mModule._apply\u001B[39m\u001B[34m(self, fn, recurse)\u001B[39m\n\u001B[32m    901\u001B[39m \u001B[38;5;28;01mif\u001B[39;00m recurse:\n\u001B[32m    902\u001B[39m     \u001B[38;5;28;01mfor\u001B[39;00m module \u001B[38;5;129;01min\u001B[39;00m \u001B[38;5;28mself\u001B[39m.children():\n\u001B[32m--> \u001B[39m\u001B[32m903\u001B[39m         \u001B[43mmodule\u001B[49m\u001B[43m.\u001B[49m\u001B[43m_apply\u001B[49m\u001B[43m(\u001B[49m\u001B[43mfn\u001B[49m\u001B[43m)\u001B[49m\n\u001B[32m    905\u001B[39m \u001B[38;5;28;01mdef\u001B[39;00m\u001B[38;5;250m \u001B[39m\u001B[34mcompute_should_use_set_data\u001B[39m(tensor, tensor_applied):\n\u001B[32m    906\u001B[39m     \u001B[38;5;28;01mif\u001B[39;00m torch._has_compatible_shallow_copy_type(tensor, tensor_applied):\n\u001B[32m    907\u001B[39m         \u001B[38;5;66;03m# If the new tensor has compatible tensor type as the existing tensor,\u001B[39;00m\n\u001B[32m    908\u001B[39m         \u001B[38;5;66;03m# the current behavior is to change the tensor in-place using `.data =`,\u001B[39;00m\n\u001B[32m   (...)\u001B[39m\u001B[32m    913\u001B[39m         \u001B[38;5;66;03m# global flag to let the user control whether they want the future\u001B[39;00m\n\u001B[32m    914\u001B[39m         \u001B[38;5;66;03m# behavior of overwriting the existing tensor or not.\u001B[39;00m\n",
      "\u001B[36mFile \u001B[39m\u001B[32m~/.pyenv/versions/3.12.9/envs/review_gremlin/lib/python3.12/site-packages/torch/nn/modules/module.py:930\u001B[39m, in \u001B[36mModule._apply\u001B[39m\u001B[34m(self, fn, recurse)\u001B[39m\n\u001B[32m    926\u001B[39m \u001B[38;5;66;03m# Tensors stored in modules are graph leaves, and we don't want to\u001B[39;00m\n\u001B[32m    927\u001B[39m \u001B[38;5;66;03m# track autograd history of `param_applied`, so we have to use\u001B[39;00m\n\u001B[32m    928\u001B[39m \u001B[38;5;66;03m# `with torch.no_grad():`\u001B[39;00m\n\u001B[32m    929\u001B[39m \u001B[38;5;28;01mwith\u001B[39;00m torch.no_grad():\n\u001B[32m--> \u001B[39m\u001B[32m930\u001B[39m     param_applied = \u001B[43mfn\u001B[49m\u001B[43m(\u001B[49m\u001B[43mparam\u001B[49m\u001B[43m)\u001B[49m\n\u001B[32m    931\u001B[39m p_should_use_set_data = compute_should_use_set_data(param, param_applied)\n\u001B[32m    933\u001B[39m \u001B[38;5;66;03m# subclasses may have multiple child tensors so we need to use swap_tensors\u001B[39;00m\n",
      "\u001B[36mFile \u001B[39m\u001B[32m~/.pyenv/versions/3.12.9/envs/review_gremlin/lib/python3.12/site-packages/torch/nn/modules/module.py:1329\u001B[39m, in \u001B[36mModule.to.<locals>.convert\u001B[39m\u001B[34m(t)\u001B[39m\n\u001B[32m   1322\u001B[39m     \u001B[38;5;28;01mif\u001B[39;00m convert_to_format \u001B[38;5;129;01mis\u001B[39;00m \u001B[38;5;129;01mnot\u001B[39;00m \u001B[38;5;28;01mNone\u001B[39;00m \u001B[38;5;129;01mand\u001B[39;00m t.dim() \u001B[38;5;129;01min\u001B[39;00m (\u001B[32m4\u001B[39m, \u001B[32m5\u001B[39m):\n\u001B[32m   1323\u001B[39m         \u001B[38;5;28;01mreturn\u001B[39;00m t.to(\n\u001B[32m   1324\u001B[39m             device,\n\u001B[32m   1325\u001B[39m             dtype \u001B[38;5;28;01mif\u001B[39;00m t.is_floating_point() \u001B[38;5;129;01mor\u001B[39;00m t.is_complex() \u001B[38;5;28;01melse\u001B[39;00m \u001B[38;5;28;01mNone\u001B[39;00m,\n\u001B[32m   1326\u001B[39m             non_blocking,\n\u001B[32m   1327\u001B[39m             memory_format=convert_to_format,\n\u001B[32m   1328\u001B[39m         )\n\u001B[32m-> \u001B[39m\u001B[32m1329\u001B[39m     \u001B[38;5;28;01mreturn\u001B[39;00m \u001B[43mt\u001B[49m\u001B[43m.\u001B[49m\u001B[43mto\u001B[49m\u001B[43m(\u001B[49m\n\u001B[32m   1330\u001B[39m \u001B[43m        \u001B[49m\u001B[43mdevice\u001B[49m\u001B[43m,\u001B[49m\n\u001B[32m   1331\u001B[39m \u001B[43m        \u001B[49m\u001B[43mdtype\u001B[49m\u001B[43m \u001B[49m\u001B[38;5;28;43;01mif\u001B[39;49;00m\u001B[43m \u001B[49m\u001B[43mt\u001B[49m\u001B[43m.\u001B[49m\u001B[43mis_floating_point\u001B[49m\u001B[43m(\u001B[49m\u001B[43m)\u001B[49m\u001B[43m \u001B[49m\u001B[38;5;129;43;01mor\u001B[39;49;00m\u001B[43m \u001B[49m\u001B[43mt\u001B[49m\u001B[43m.\u001B[49m\u001B[43mis_complex\u001B[49m\u001B[43m(\u001B[49m\u001B[43m)\u001B[49m\u001B[43m \u001B[49m\u001B[38;5;28;43;01melse\u001B[39;49;00m\u001B[43m \u001B[49m\u001B[38;5;28;43;01mNone\u001B[39;49;00m\u001B[43m,\u001B[49m\n\u001B[32m   1332\u001B[39m \u001B[43m        \u001B[49m\u001B[43mnon_blocking\u001B[49m\u001B[43m,\u001B[49m\n\u001B[32m   1333\u001B[39m \u001B[43m    \u001B[49m\u001B[43m)\u001B[49m\n\u001B[32m   1334\u001B[39m \u001B[38;5;28;01mexcept\u001B[39;00m \u001B[38;5;167;01mNotImplementedError\u001B[39;00m \u001B[38;5;28;01mas\u001B[39;00m e:\n\u001B[32m   1335\u001B[39m     \u001B[38;5;28;01mif\u001B[39;00m \u001B[38;5;28mstr\u001B[39m(e) == \u001B[33m\"\u001B[39m\u001B[33mCannot copy out of meta tensor; no data!\u001B[39m\u001B[33m\"\u001B[39m:\n",
      "\u001B[31mOutOfMemoryError\u001B[39m: CUDA out of memory. Tried to allocate 978.00 MiB. GPU 0 has a total capacity of 8.00 GiB of which 4.35 GiB is free. Including non-PyTorch memory, this process has 17179869184.00 GiB memory in use. Of the allocated memory 2.49 GiB is allocated by PyTorch, and 47.46 MiB is reserved by PyTorch but unallocated. If reserved but unallocated memory is large try setting PYTORCH_CUDA_ALLOC_CONF=expandable_segments:True to avoid fragmentation.  See documentation for Memory Management  (https://pytorch.org/docs/stable/notes/cuda.html#environment-variables)"
     ]
    }
   ],
   "execution_count": 14
  },
  {
   "metadata": {
    "ExecuteTime": {
     "end_time": "2025-05-03T12:20:32.760577300Z",
     "start_time": "2025-05-03T12:12:14.043046Z"
    }
   },
   "cell_type": "code",
   "source": [
    "from langchain_chroma import Chroma\n",
    "from datetime import datetime, timedelta, UTC\n",
    "\n",
    "def get_last_seen_id_from_db(chroma_client: Chroma):\n",
    "    doc_dict = chroma_client.get(\n",
    "        where={\"date\": {\"$gte\": (datetime.now(UTC) - timedelta(days=30)).timestamp()}},\n",
    "        include=['metadatas'],\n",
    "    )\n",
    "    if not doc_dict['metadatas']:\n",
    "        return 0\n",
    "\n",
    "    return max(meta['id'] for meta in doc_dict['metadatas'])\n",
    "\n",
    "def get_earliest_message_id(chroma_client: Chroma):\n",
    "    doc_dict = chroma_client.get(include=['metadatas'])\n",
    "    if not doc_dict['metadatas']:\n",
    "        return 0\n",
    "\n",
    "    return min(meta['id'] for meta in doc_dict['metadatas'])\n",
    "\n",
    "async def get_early_messages_from_chat(channel_id, telegram_client, chroma_client: Chroma, chunks=10):\n",
    "    earliest_message_id = get_earliest_message_id(chroma_client)\n",
    "    print(\"Earliest seen id:\", earliest_message_id)\n",
    "    messages = await get_messages_from_channel(\n",
    "        telegram_client, channel_id, max_id=earliest_message_id, chunks=chunks\n",
    "    )\n",
    "    print(\"Got messages:\", len(messages))\n",
    "    return messages\n",
    "\n",
    "async def get_last_messages_from_chat(channel_id, telegram_client, chroma_client: Chroma, chunks=10):\n",
    "    last_seen_id = get_last_seen_id_from_db(chroma_client)\n",
    "    print(\"Last seen id:\", last_seen_id)\n",
    "    messages = await get_messages_from_channel(telegram_client, channel_id, min_id=last_seen_id, chunks=chunks)\n",
    "    print(\"Got messages:\", len(messages))\n",
    "    return messages"
   ],
   "id": "4a20bf214491fdc4",
   "outputs": [],
   "execution_count": 6
  },
  {
   "metadata": {
    "ExecuteTime": {
     "end_time": "2025-05-03T12:21:04.324140Z",
     "start_time": "2025-05-03T12:21:04.199224Z"
    }
   },
   "cell_type": "code",
   "source": [
    "new_messages = await get_last_messages_from_chat(\n",
    "    channel_id=CHANNEL_ID,\n",
    "    telegram_client=telegram_client,\n",
    "    chroma_client=chroma_client_from_telegram,\n",
    "    chunks=10\n",
    ")"
   ],
   "id": "77f01eb8bd86c1e3",
   "outputs": [
    {
     "ename": "NameError",
     "evalue": "name 'get_last_messages_from_chat' is not defined",
     "output_type": "error",
     "traceback": [
      "\u001B[31m---------------------------------------------------------------------------\u001B[39m",
      "\u001B[31mNameError\u001B[39m                                 Traceback (most recent call last)",
      "\u001B[36mCell\u001B[39m\u001B[36m \u001B[39m\u001B[32mIn[1]\u001B[39m\u001B[32m, line 1\u001B[39m\n\u001B[32m----> \u001B[39m\u001B[32m1\u001B[39m new_messages = \u001B[38;5;28;01mawait\u001B[39;00m \u001B[43mget_last_messages_from_chat\u001B[49m(\n\u001B[32m      2\u001B[39m     channel_id=CHANNEL_ID,\n\u001B[32m      3\u001B[39m     telegram_client=telegram_client,\n\u001B[32m      4\u001B[39m     chroma_client=chroma_client_from_telegram,\n\u001B[32m      5\u001B[39m     chunks=\u001B[32m10\u001B[39m\n\u001B[32m      6\u001B[39m )\n",
      "\u001B[31mNameError\u001B[39m: name 'get_last_messages_from_chat' is not defined"
     ]
    }
   ],
   "execution_count": 1
  },
  {
   "metadata": {
    "ExecuteTime": {
     "end_time": "2025-05-03T11:18:59.285252Z",
     "start_time": "2025-05-03T11:13:36.632778Z"
    }
   },
   "cell_type": "code",
   "source": [
    "new_messages = await get_early_messages_from_chat(\n",
    "    channel_id=CHANNEL_ID,\n",
    "    telegram_client=telegram_client,\n",
    "    chroma_client=chroma_client_from_telegram,\n",
    "    chunks=10\n",
    ")"
   ],
   "id": "8898e8b20bfe1503",
   "outputs": [
    {
     "name": "stdout",
     "output_type": "stream",
     "text": [
      "Earliest seen id: 80265\n"
     ]
    },
    {
     "name": "stderr",
     "output_type": "stream",
     "text": [
      "                                                                2.22s/it]"
     ]
    },
    {
     "name": "stdout",
     "output_type": "stream",
     "text": [
      "Got messages: 9141\n"
     ]
    },
    {
     "name": "stderr",
     "output_type": "stream",
     "text": [
      "\r"
     ]
    }
   ],
   "execution_count": 30
  },
  {
   "cell_type": "code",
   "id": "81f10ccfbddd2640",
   "metadata": {
    "ExecuteTime": {
     "end_time": "2025-05-03T12:18:25.774353Z",
     "start_time": "2025-05-03T12:18:25.770651Z"
    }
   },
   "source": [
    "print(len(new_messages))\n",
    "print(list(new_messages.values())[-1:])"
   ],
   "outputs": [
    {
     "name": "stdout",
     "output_type": "stream",
     "text": [
      "9279\n",
      "[{'text': 'Привет! Может, кто-то собирается в Беларусь в течение месяца может захватить пакет 5 кг?', 'metadata': {'sender_name': 'elli_l_elli', 'id': 104544, 'date': 1713462583.0}}]\n"
     ]
    }
   ],
   "execution_count": 9
  },
  {
   "cell_type": "code",
   "id": "6185e4f8b26c83d4",
   "metadata": {
    "ExecuteTime": {
     "end_time": "2025-05-03T11:26:47.938367Z",
     "start_time": "2025-05-03T11:25:27.833107Z"
    }
   },
   "source": "load_data_to_chroma(chroma_client_from_telegram, new_messages.values(), reset=False)",
   "outputs": [
    {
     "name": "stdout",
     "output_type": "stream",
     "text": [
      "Loaded 9089 documents into ChromaDB.\n"
     ]
    }
   ],
   "execution_count": 32
  },
  {
   "metadata": {
    "ExecuteTime": {
     "end_time": "2025-05-03T10:26:07.567922Z",
     "start_time": "2025-05-03T10:26:07.299604Z"
    }
   },
   "cell_type": "code",
   "source": [
    "from langchain import PromptTemplate\n",
    "from langchain_ollama import ChatOllama\n",
    "\n",
    "\n",
    "llm_qwen3_8b = ChatOllama(\n",
    "    model=\"qwen3:8b\",\n",
    ")"
   ],
   "id": "28b19e1229e17113",
   "outputs": [],
   "execution_count": 11
  },
  {
   "metadata": {
    "ExecuteTime": {
     "end_time": "2025-05-03T11:28:58.123868Z",
     "start_time": "2025-05-03T11:28:58.120232Z"
    }
   },
   "cell_type": "code",
   "source": [
    "user_query = \"Выведи самые токсичные сообщения в чате.\"\n",
    "user_query = \"Выведи самые позитивные сообщения в чате.\"\n",
    "user_query = \"Можно ли компенсировать отель или аквапарк через велнес БТА или BTA?\"\n",
    "user_query = \"Как получить детские деньги, компенсацию по уходу за ребенком.\""
   ],
   "id": "e297c8c001160326",
   "outputs": [],
   "execution_count": 35
  },
  {
   "metadata": {
    "ExecuteTime": {
     "end_time": "2025-05-03T08:45:44.882438Z",
     "start_time": "2025-05-03T08:45:21.147770Z"
    }
   },
   "cell_type": "code",
   "source": [
    "ru_telegram_prompt_expanding = PromptTemplate(\n",
    "    input_variables=[\"user_query\", \"n\"],\n",
    "    template=\"\"\"\n",
    "    Напиши {n} гипотетических ответов на запрос пользователя.\n",
    "    Не добавляй заголовков, авторов и другой дополнительной информации к твоим ответам.\n",
    "\n",
    "    Вопрос пользователя:\n",
    "    {user_query}\n",
    "\n",
    "    Гипотетические ответы:\n",
    "    \"\"\",\n",
    ")\n",
    "\n",
    "hyde_chain_r1_8b = ru_telegram_prompt_expanding | llm_qwen3_8b\n",
    "raw_hypothetical_answers = hyde_chain_r1_8b.invoke({\"user_query\": user_query, \"n\": 15}).content\n",
    "raw_hypothetical_answers"
   ],
   "id": "22ee47275f8e0136",
   "outputs": [
    {
     "data": {
      "text/plain": [
       "'<think>\\nХорошо, пользователь просит вывести самые позитивные сообщения в чате. Мне нужно придумать 15 гипотетических ответов. Сначала подумаю, что такое позитивные сообщения. Это, скорее всего, сообщения, которые выражают радость, вдохновение, поддержку, благодарность и т.д. Надо убедиться, что каждый ответ уникален и отражает разные аспекты позитива.\\n\\nМожет, начать с примеров конкретных фраз. Например, \"Пусть сегодня будет отличным днем!\" или \"Ты молодец, что нашел это!\" Это звучит позитивно. Нужно разнообразить структуру предложений, чтобы не было повторений. Возможно, использовать разные эмоции: вдохновение, надежда, благодарность, поддержка.\\n\\nВажно избегать общих фраз и сделать каждый ответ немного разным. Например, можно добавить что-то про достижения, природу, позитивные изменения. Также стоит учесть разные контексты: личные, профессиональные, общие. Например, \"Все будет хорошо, верю в тебя!\" или \"Ты уже сделал огромный шаг вперед!\".\\n\\nНужно проверить, чтобы ответы не были слишком общими и действительно передавали позитив. Может, добавить что-то про надежду на будущее или позитивные изменения. Также стоит использовать разные глаголы и структуры предложений, чтобы ответы выглядели разнообразно. Например, \"Пусть каждый день приносит тебе радость!\" или \"Ты способен на всё, ты сильнее, чем думаешь!\".\\n\\nВажно также убедиться, что нет повторяющихся фраз и каждый ответ уникален. Возможно, использовать метафоры или сравнения, например, \"Как солнце, которое согревает и вдохновляет!\" или \"Пусть твоя жизнь будет такой же яркой, как весна!\".\\n\\nТеперь проверю, чтобы все ответы соответствовали запросу и были гипотетическими, без дополнительной информации. Убедиться, что нет заголовков или авторов. Думаю, что получилось. Теперь составлю список из 15 вариантов, следя за разнообразием и позитивным настроением.\\n</think>\\n\\nПусть каждый день приносит тебе радость!  \\nТы молодец, что нашел это!  \\nВсе будет хорошо, верю в тебя!  \\nПусть твоя жизнь будет такой же яркой, как весна!  \\nТы способен на всё, ты сильнее, чем думаешь!  \\nПусть сегодня будет отличным днем!  \\nТвоя улыбка — лучший подарок, который можно сделать себе!  \\nВерь в свои силы, и всё получится!  \\nКаждый шаг вперед — это победа!  \\nПусть твои мечты сбываются, как в сказке!  \\nТы уже сделал огромный шаг вперед!  \\nКак солнце, которое согревает и вдохновляет!  \\nПусть твоя душа всегда будет наполнена светом!  \\nТы — вдохновение для всех вокруг!  \\nСпасибо, что делишься позитивом с нами!'"
      ]
     },
     "execution_count": 24,
     "metadata": {},
     "output_type": "execute_result"
    }
   ],
   "execution_count": 24
  },
  {
   "metadata": {
    "ExecuteTime": {
     "end_time": "2025-05-03T08:45:55.594666Z",
     "start_time": "2025-05-03T08:45:55.591827Z"
    }
   },
   "cell_type": "code",
   "source": "user_query = raw_hypothetical_answers.split('</think>', maxsplit=1)[-1]",
   "id": "6101aae10854f429",
   "outputs": [],
   "execution_count": 25
  },
  {
   "metadata": {
    "ExecuteTime": {
     "end_time": "2025-05-03T11:29:02.411347Z",
     "start_time": "2025-05-03T11:29:02.173248Z"
    }
   },
   "cell_type": "code",
   "source": [
    "related_docs = chroma_client_from_telegram.similarity_search_with_relevance_scores(user_query, k=15)\n",
    "related_docs"
   ],
   "id": "8725e1806b105426",
   "outputs": [
    {
     "data": {
      "text/plain": [
       "[(Document(id='685dd014-4a90-4aef-aaf0-88c0899b36ae', metadata={'date': 1666881304.0, 'id': 72554, 'sender_name': 'vasserling'}, page_content='Подскажите, что нажимать для получения пособия на детей?'),\n",
       "  0.8435551130124125),\n",
       " (Document(id='1e9d56c6-f056-4bf0-aaf3-a2d966ebdb59', metadata={'date': 1677788963.0, 'id': 82605, 'sender_name': 'vasserling'}, page_content='Подскажите, можно ли (и как) воспользоваться медстраховкой для ребенка?'),\n",
       "  0.8166180927515844),\n",
       " (Document(id='8e0dbac4-2079-4b2d-a901-d80da8c4b12f', metadata={'date': 1666860564.0, 'id': 72469, 'sender_name': 'radroxx'}, page_content='>> подать заявку на компенсацию 80 евро на детей\\n\\n И если ЗП позволяет можно податься на финансовую помощь от государства'),\n",
       "  0.8132342908720387),\n",
       " (Document(id='1f0bedc7-0fdd-4542-9a80-c0348db8e9ef', metadata={'date': 1724317551.0, 'id': 108634, 'sender_name': 'sharewax'}, page_content='счёт-фактуру просишь и отправляешь в компенсацию'),\n",
       "  0.8113701568358261),\n",
       " (Document(id='f427a233-b5d6-45c7-bc7f-b27765c4abf7', metadata={'date': 1718264314.0, 'id': 106511, 'sender_name': 'sPRf77'}, page_content='У кого дети ходят в гос детский садик - сколько денег вы платите в месяц?'),\n",
       "  0.8109107140402089),\n",
       " (Document(id='48dfbd03-c656-4c4d-839f-1a3491ab16bf', metadata={'date': 1675428122.0, 'id': 81177, 'sender_name': 'imleave'}, page_content='логинишься в свой, и там должен быть ребенок'),\n",
       "  0.8077717010568145),\n",
       " (Document(id='dacde196-00c3-4694-a1da-19431daef29a', metadata={'date': 1677789523.0, 'id': 82608, 'sender_name': 'sharewax'}, page_content='>> Подскажите, можно ли (и как) воспользоваться медстраховкой для ребенка?\\n\\n что именно интересует?'),\n",
       "  0.8027101806520199),\n",
       " (Document(id='2cf6919b-0206-4f5e-a5db-d2b14b017826', metadata={'date': 1666589468.0, 'id': 72101, 'sender_name': 'sharewax'}, page_content='о, прилетели детские деньги. (подавал заявление в августе, если шо)'),\n",
       "  0.8009736461996741),\n",
       " (Document(id='4e057f55-3fcf-4033-bf23-7664d604c8c0', metadata={'date': 1665904024.0, 'id': 71379, 'sender_name': 'stivo32'}, page_content='За свой счёт это около 80 евро прием. Потом просто через приложение запрос на компенсацию'),\n",
       "  0.800001170890558),\n",
       " (Document(id='cde665bb-0969-42be-87c9-362815e1c9f9', metadata={'date': 1666270554.0, 'id': 71842, 'sender_name': 'sPRf77'}, page_content='А потом можно усыновить - и получишь ребенка с паспортом ЕС'),\n",
       "  0.7990578612006114),\n",
       " (Document(id='0476f7a9-cba7-4b11-a305-3c9a9c5250ff', metadata={'date': 1666860511.0, 'id': 72466, 'sender_name': 'ShumakDV'}, page_content='>> И что там вообще после его получения делать? Декларировать жилье, заводить смарт айди?\\n\\n подать заявку на компенсацию 80 евро на детей'),\n",
       "  0.7989063432802147),\n",
       " (Document(id='2d218406-5ea8-47e5-8bd6-137dc113e00d', metadata={'date': 1673767246.0, 'id': 79434, 'sender_name': 'orehby'}, page_content='Ребята, а деньги на ребёнка (80 евро) в январе уже приходили кому ?'),\n",
       "  0.7988959119352083),\n",
       " (Document(id='194d892e-9431-427a-a681-8500f3540db6', metadata={'date': 1727941259.0, 'id': 109502, 'sender_name': 'dwarflord'}, page_content='если это декретный, то так и писать, отпуск по уходу за ребенком.'),\n",
       "  0.7980249262373065),\n",
       " (Document(id='ed9e4a94-3bfd-42eb-8a23-f7aa621a34cc', metadata={'date': 1741700076.0, 'id': 113418, 'sender_name': 'lxrx3456'}, page_content='для ребенка прямо в анкете нужно было указать сколько я на него буду тратить в месяц)'),\n",
       "  0.7965668138662235),\n",
       " (Document(id='c405e863-7c9f-4ca3-9d47-63dd345daf61', metadata={'date': 1666508324.0, 'id': 72064, 'sender_name': 'radroxx'}, page_content='Всем доброго утра, а подскажите, какой порядок действий что бы заменить ребёнку карточку BC ?'),\n",
       "  0.7948383505353676)]"
      ]
     },
     "execution_count": 36,
     "metadata": {},
     "output_type": "execute_result"
    }
   ],
   "execution_count": 36
  },
  {
   "metadata": {
    "ExecuteTime": {
     "end_time": "2025-05-02T14:15:26.522284Z",
     "start_time": "2025-05-02T14:15:26.499709Z"
    }
   },
   "cell_type": "code",
   "source": [
    "\n",
    "from datetime import datetime, timedelta, UTC\n",
    "\n",
    "related_docs = chroma_client_from_telegram.get(\n",
    "    where={\"date\": {\"$gte\": (datetime.now(UTC) - timedelta(days=30)).timestamp()}},\n",
    ")\n",
    "meta_docs = list(zip(related_docs['metadatas'], related_docs['documents']))\n",
    "\n",
    "context = \"\\n\\n---\\n\\n\".join(f\"{meta['date']} - {meta['sender_name']}: {doc}\" for meta, doc in meta_docs)"
   ],
   "id": "7f991057712c0313",
   "outputs": [],
   "execution_count": 23
  },
  {
   "metadata": {
    "ExecuteTime": {
     "end_time": "2025-05-02T14:15:59.860655Z",
     "start_time": "2025-05-02T14:15:59.856979Z"
    }
   },
   "cell_type": "code",
   "source": "len(related_docs['metadatas'])",
   "id": "2060e3f298db28c5",
   "outputs": [
    {
     "data": {
      "text/plain": [
       "805"
      ]
     },
     "execution_count": 25,
     "metadata": {},
     "output_type": "execute_result"
    }
   ],
   "execution_count": 25
  },
  {
   "metadata": {
    "ExecuteTime": {
     "end_time": "2025-05-03T11:30:47.942053Z",
     "start_time": "2025-05-03T11:30:47.936643Z"
    }
   },
   "cell_type": "code",
   "source": [
    "filtered_related_docs = filter(lambda doc_score: doc_score[-1] > 0.3, related_docs)\n",
    "\n",
    "t_link_base = \"https://web.telegram.org/k/#?tgaddr=tg%3A%2F%2Fprivatepost%3Fchannel%3D1133953167%26post%3D\"\n",
    "\n",
    "print(\"\\n\\n---\\n\\n\".join(f\"\"\"\n",
    "{doc.metadata['date']} {t_link_base}{doc.metadata['id']} - {doc.page_content}\n",
    "\"\"\" for doc, _score in filtered_related_docs))"
   ],
   "id": "4ff200e9aa4e6a1c",
   "outputs": [
    {
     "name": "stdout",
     "output_type": "stream",
     "text": [
      "\n",
      "1666881304.0 https://web.telegram.org/k/#?tgaddr=tg%3A%2F%2Fprivatepost%3Fchannel%3D1133953167%26post%3D72554 - Подскажите, что нажимать для получения пособия на детей?\n",
      "\n",
      "\n",
      "---\n",
      "\n",
      "\n",
      "1677788963.0 https://web.telegram.org/k/#?tgaddr=tg%3A%2F%2Fprivatepost%3Fchannel%3D1133953167%26post%3D82605 - Подскажите, можно ли (и как) воспользоваться медстраховкой для ребенка?\n",
      "\n",
      "\n",
      "---\n",
      "\n",
      "\n",
      "1666860564.0 https://web.telegram.org/k/#?tgaddr=tg%3A%2F%2Fprivatepost%3Fchannel%3D1133953167%26post%3D72469 - >> подать заявку на компенсацию 80 евро на детей\n",
      "\n",
      " И если ЗП позволяет можно податься на финансовую помощь от государства\n",
      "\n",
      "\n",
      "---\n",
      "\n",
      "\n",
      "1724317551.0 https://web.telegram.org/k/#?tgaddr=tg%3A%2F%2Fprivatepost%3Fchannel%3D1133953167%26post%3D108634 - счёт-фактуру просишь и отправляешь в компенсацию\n",
      "\n",
      "\n",
      "---\n",
      "\n",
      "\n",
      "1718264314.0 https://web.telegram.org/k/#?tgaddr=tg%3A%2F%2Fprivatepost%3Fchannel%3D1133953167%26post%3D106511 - У кого дети ходят в гос детский садик - сколько денег вы платите в месяц?\n",
      "\n",
      "\n",
      "---\n",
      "\n",
      "\n",
      "1675428122.0 https://web.telegram.org/k/#?tgaddr=tg%3A%2F%2Fprivatepost%3Fchannel%3D1133953167%26post%3D81177 - логинишься в свой, и там должен быть ребенок\n",
      "\n",
      "\n",
      "---\n",
      "\n",
      "\n",
      "1677789523.0 https://web.telegram.org/k/#?tgaddr=tg%3A%2F%2Fprivatepost%3Fchannel%3D1133953167%26post%3D82608 - >> Подскажите, можно ли (и как) воспользоваться медстраховкой для ребенка?\n",
      "\n",
      " что именно интересует?\n",
      "\n",
      "\n",
      "---\n",
      "\n",
      "\n",
      "1666589468.0 https://web.telegram.org/k/#?tgaddr=tg%3A%2F%2Fprivatepost%3Fchannel%3D1133953167%26post%3D72101 - о, прилетели детские деньги. (подавал заявление в августе, если шо)\n",
      "\n",
      "\n",
      "---\n",
      "\n",
      "\n",
      "1665904024.0 https://web.telegram.org/k/#?tgaddr=tg%3A%2F%2Fprivatepost%3Fchannel%3D1133953167%26post%3D71379 - За свой счёт это около 80 евро прием. Потом просто через приложение запрос на компенсацию\n",
      "\n",
      "\n",
      "---\n",
      "\n",
      "\n",
      "1666270554.0 https://web.telegram.org/k/#?tgaddr=tg%3A%2F%2Fprivatepost%3Fchannel%3D1133953167%26post%3D71842 - А потом можно усыновить - и получишь ребенка с паспортом ЕС\n",
      "\n",
      "\n",
      "---\n",
      "\n",
      "\n",
      "1666860511.0 https://web.telegram.org/k/#?tgaddr=tg%3A%2F%2Fprivatepost%3Fchannel%3D1133953167%26post%3D72466 - >> И что там вообще после его получения делать? Декларировать жилье, заводить смарт айди?\n",
      "\n",
      " подать заявку на компенсацию 80 евро на детей\n",
      "\n",
      "\n",
      "---\n",
      "\n",
      "\n",
      "1673767246.0 https://web.telegram.org/k/#?tgaddr=tg%3A%2F%2Fprivatepost%3Fchannel%3D1133953167%26post%3D79434 - Ребята, а деньги на ребёнка (80 евро) в январе уже приходили кому ?\n",
      "\n",
      "\n",
      "---\n",
      "\n",
      "\n",
      "1727941259.0 https://web.telegram.org/k/#?tgaddr=tg%3A%2F%2Fprivatepost%3Fchannel%3D1133953167%26post%3D109502 - если это декретный, то так и писать, отпуск по уходу за ребенком.\n",
      "\n",
      "\n",
      "---\n",
      "\n",
      "\n",
      "1741700076.0 https://web.telegram.org/k/#?tgaddr=tg%3A%2F%2Fprivatepost%3Fchannel%3D1133953167%26post%3D113418 - для ребенка прямо в анкете нужно было указать сколько я на него буду тратить в месяц)\n",
      "\n",
      "\n",
      "---\n",
      "\n",
      "\n",
      "1666508324.0 https://web.telegram.org/k/#?tgaddr=tg%3A%2F%2Fprivatepost%3Fchannel%3D1133953167%26post%3D72064 - Всем доброго утра, а подскажите, какой порядок действий что бы заменить ребёнку карточку BC ?\n",
      "\n"
     ]
    }
   ],
   "execution_count": 37
  },
  {
   "metadata": {
    "ExecuteTime": {
     "end_time": "2025-05-03T08:30:59.723072Z",
     "start_time": "2025-05-03T08:30:59.719209Z"
    }
   },
   "cell_type": "code",
   "source": [
    "filtered_related_docs = filter(lambda doc_score: doc_score[-1] > 0.3, related_docs)\n",
    "\n",
    "context = \"\\n\\n---\\n\\n\".join(f\"{doc.metadata['date']} - {doc.page_content}\" for doc, _score in filtered_related_docs)"
   ],
   "id": "c35007263ed6b21d",
   "outputs": [],
   "execution_count": 10
  },
  {
   "metadata": {
    "ExecuteTime": {
     "end_time": "2025-05-03T08:31:25.370961Z",
     "start_time": "2025-05-03T08:31:03.595632Z"
    }
   },
   "cell_type": "code",
   "source": [
    "# user_query = \"Здесь собраны последние сообщения из чата. Расскажи про основные темы и выводы.\"\n",
    "\n",
    "ru_telegram_prompt = PromptTemplate(\n",
    "    input_variables=[\"context\", \"user_query\"],\n",
    "    template=\"\"\"\n",
    "    Ты полезный AI ассистент, который отвечает на вопросы пользователя на основе контекста.\n",
    "    Контекст это релевантные вопросу сообщения из телеграм чата.\n",
    "\n",
    "    Контекст:\n",
    "    {context}\n",
    "\n",
    "    Вопрос пользователя:\n",
    "    {user_query}\n",
    "\n",
    "    Если в контексте недостаточно информации, чтобы ответить на вопрос пользователя, то скажи, что недостаточно информации.\n",
    "\n",
    "    Ответ:\n",
    "    \"\"\",\n",
    ")\n",
    "\n",
    "hyde_chain_r1_8b = ru_telegram_prompt | llm_qwen3_8b\n",
    "llm_response = hyde_chain_r1_8b.invoke({\"user_query\": user_query, \"context\": context}).content\n",
    "print(llm_response)"
   ],
   "id": "bff1b4fc98c216be",
   "outputs": [
    {
     "name": "stdout",
     "output_type": "stream",
     "text": [
      "<think>\n",
      "Okay, let's tackle this query. The user is asking for the best banyas or saunas. Looking at the context, there are a few mentions. First, someone suggested a place in Tarkai with a cabin on a lake, but it's an electric heater, so not great for heat. Then there's HBH Vilnius with 3 cottages that have saunas, but it's unclear if you can bring your own food. Another user mentioned Fitus.lt as a gym with a pool, which is expensive but has good facilities. There's also mention of Forum Palace for Thai boxing with a Belarusian trainer, but that's more about fitness than saunas. The user also asked about a 25-50m pool, but that's a different context.\n",
      "\n",
      "So, the main options are the Tarkai cabin and HBH cottages. The Tarkai one is nice but the heater isn't great. HBH has saunas but food policy is uncertain. The user wants a place for 10 people and to bring their own food. The Tarkai cabin might work if the heater is okay, but the HBH cottages might be better if they allow food. However, the info on food isn't clear. Since the user is looking for a group setting and their own food, maybe the HBH cottages are better, but the food policy is a question mark. The Tarkai option is a bit more remote. Maybe the user should check both options. Also, the other mentions are about gyms and pools, which aren't directly relevant. So the answer should list Tarkai and HBH, noting the uncertainties and the need to confirm food policies.\n",
      "</think>\n",
      "\n",
      "На основе контекста, вот рекомендации:\n",
      "\n",
      "1. **Тракай (домик на берегу озера)**  \n",
      "   - Плюсы: уютное место, возможность принять группу (до 10 человек), можно приносить свою еду.  \n",
      "   - Минусы: электропечь, поэтому не гарантирует сильного тепла.  \n",
      "\n",
      "2. **HBH Vilnius (домики с саунами)**  \n",
      "   - Плюсы: сауны, возможность аренды домика для группы.  \n",
      "   - Минусы: неясно, разрешено ли приносить собственную еду (официально — нет, но пользователи отмечают, что это возможно).  \n",
      "\n",
      "3. **Фитус (новый) / Форум (старый)**  \n",
      "   - Плюсы: современные спортзалы с бассейном, хорошая вентиляция, душевые и шкафчики.  \n",
      "   - Минусы: больше подходит для тренировок, чем для бани/сауны.  \n",
      "\n",
      "Если нужен именно банька/сауна с возможностью принести еду, **Тракай** и **HBH** — основные варианты. Рекомендуется уточнить детали по еде и инфраструктуре.\n"
     ]
    }
   ],
   "execution_count": 11
  },
  {
   "metadata": {},
   "cell_type": "code",
   "outputs": [],
   "execution_count": null,
   "source": "",
   "id": "91144e5909477f78"
  }
 ],
 "metadata": {
  "kernelspec": {
   "display_name": "Python 3 (ipykernel)",
   "language": "python",
   "name": "python3"
  },
  "language_info": {
   "codemirror_mode": {
    "name": "ipython",
    "version": 3
   },
   "file_extension": ".py",
   "mimetype": "text/x-python",
   "name": "python",
   "nbconvert_exporter": "python",
   "pygments_lexer": "ipython3",
   "version": "3.12.9"
  }
 },
 "nbformat": 4,
 "nbformat_minor": 5
}
