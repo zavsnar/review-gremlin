{
 "cells": [
  {
   "cell_type": "code",
   "execution_count": 2,
   "id": "8f317781-b2c4-4d16-959f-bd9f46670712",
   "metadata": {
    "ExecuteTime": {
     "end_time": "2025-05-03T12:19:54.107475Z",
     "start_time": "2025-05-03T12:19:54.093695Z"
    }
   },
   "outputs": [
    {
     "name": "stdout",
     "output_type": "stream",
     "text": [
      "Channel name is go_to_vilnius_e5\n",
      "Channel id is -1133953167\n"
     ]
    }
   ],
   "source": [
    "import os\n",
    "import sys\n",
    "app_path = os.path.abspath('..')\n",
    "sys.path.insert(0, app_path)\n",
    "\n",
    "from dotenv import load_dotenv\n",
    "\n",
    "from app.telegram_client import get_client_with_auth\n",
    "from app.chroma_client import get_embeddings, get_client, load_data_to_chroma\n",
    "\n",
    "\n",
    "load_dotenv()\n",
    "\n",
    "CHANNEL_NAME = os.getenv('TELEGRAM_CHAT_NAME')\n",
    "CHANNEL_ID = os.getenv('TELEGRAM_CHAT_ID')\n",
    "try:\n",
    "    CHANNEL_ID = int(CHANNEL_ID)\n",
    "except:\n",
    "    pass\n",
    "\n",
    "print(f'Channel name is {CHANNEL_NAME}')\n",
    "print(f'Channel id is {CHANNEL_ID}')"
   ]
  },
  {
   "cell_type": "code",
   "execution_count": 3,
   "id": "55201826-4a8d-4ba2-a0d0-e29f5e925922",
   "metadata": {
    "ExecuteTime": {
     "end_time": "2025-05-03T12:19:59.202806Z",
     "start_time": "2025-05-03T12:19:58.826462Z"
    },
    "scrolled": true
   },
   "outputs": [
    {
     "name": "stderr",
     "output_type": "stream",
     "text": [
      "Server sent a very old message with ID 7500594990775182337, ignoring (see FAQ for details)\n",
      "Server sent a very old message with ID 7500595128046645249, ignoring (see FAQ for details)\n"
     ]
    }
   ],
   "source": [
    "telegram_client = await get_client_with_auth()"
   ]
  },
  {
   "cell_type": "code",
   "execution_count": 4,
   "id": "963d0f92-1614-4eaa-bda4-c9d50ea26423",
   "metadata": {
    "ExecuteTime": {
     "end_time": "2025-05-03T12:20:00.390345Z",
     "start_time": "2025-05-03T12:20:00.384574Z"
    }
   },
   "outputs": [],
   "source": [
    "from typing import Any\n",
    "from tqdm import tqdm\n",
    "from telethon.tl.types import PeerChannel\n",
    "\n",
    "CHAT_MESSAGES_LIMIT = 1000\n",
    "\n",
    "async def get_messages_from_channel(\n",
    "    telegram_client, channel_id: int | str, min_id: int = 0, max_id: int = 0, chunks: int = 10\n",
    ") -> dict[int, dict[str, Any]]:\n",
    "    messages_data = {}\n",
    "    if channel_id < 0:\n",
    "        channel_id = PeerChannel(channel_id)\n",
    "\n",
    "    channel = await telegram_client.get_entity(channel_id)\n",
    "    last_seen_message_id = max_id\n",
    "\n",
    "    for _i in tqdm(range(chunks), desc=\"Fetching chunks\", position=0, leave=False, colour='green'):\n",
    "        if all((last_seen_message_id, min_id)) and last_seen_message_id == min_id:\n",
    "            print(\"Reached last unseen message\")\n",
    "            break\n",
    "\n",
    "        async for message in telegram_client.iter_messages(\n",
    "            channel, min_id=min_id, offset_id=last_seen_message_id, limit=CHAT_MESSAGES_LIMIT\n",
    "        ):\n",
    "            if not message.text or len(message.text) < 10:\n",
    "                continue\n",
    "\n",
    "            message_text = message.text\n",
    "            if message.is_reply:\n",
    "                if message.reply_to_msg_id not in messages_data:\n",
    "                    original_message = await message.get_reply_message()\n",
    "                    if original_message:\n",
    "                        messages_data[original_message.id] = {\n",
    "                            'text': original_message.text,\n",
    "                            'metadata': {\n",
    "                                'sender_name': original_message.sender.username or '',\n",
    "                                'id': original_message.id,\n",
    "                                'date_str': original_message.date.isoformat(),\n",
    "                                'date': original_message.date.timestamp(),\n",
    "                            }\n",
    "                        }\n",
    "\n",
    "                original_message = messages_data.get(message.reply_to_msg_id)\n",
    "                if original_message:\n",
    "                    message_text = f'>> {original_message['text']}\\n\\n {message.text}'\n",
    "                else:\n",
    "                    message_text = f'>> [[ORIGINAL MESSAGE REMOVED]]\\n\\n {message.text}'\n",
    "\n",
    "            messages_data[message.id] = {\n",
    "                'text': message_text,\n",
    "                'metadata': {\n",
    "                    'sender_name': message.sender.username or '',\n",
    "                    'id': message.id,\n",
    "                    'date': message.date.timestamp(),\n",
    "                }\n",
    "            }\n",
    "\n",
    "        last_seen_message_id = message.id\n",
    "        if last_seen_message_id == 0:\n",
    "            break\n",
    "\n",
    "    return messages_data"
   ]
  },
  {
   "cell_type": "code",
   "execution_count": 5,
   "id": "c07b9ed61b941097",
   "metadata": {
    "ExecuteTime": {
     "end_time": "2025-05-03T12:20:32.758212Z",
     "start_time": "2025-05-03T12:20:29.538789Z"
    }
   },
   "outputs": [
    {
     "data": {
      "application/vnd.jupyter.widget-view+json": {
       "model_id": "7ec47f0d9b324ca8abc1216052b6b510",
       "version_major": 2,
       "version_minor": 0
      },
      "text/plain": [
       "modules.json:   0%|          | 0.00/349 [00:00<?, ?B/s]"
      ]
     },
     "metadata": {},
     "output_type": "display_data"
    },
    {
     "data": {
      "application/vnd.jupyter.widget-view+json": {
       "model_id": "c14a070abd554bf5b9702f3efb3503c6",
       "version_major": 2,
       "version_minor": 0
      },
      "text/plain": [
       "config_sentence_transformers.json:   0%|          | 0.00/128 [00:00<?, ?B/s]"
      ]
     },
     "metadata": {},
     "output_type": "display_data"
    },
    {
     "data": {
      "application/vnd.jupyter.widget-view+json": {
       "model_id": "8be2dd52676e461e934aa32ee9e9fe77",
       "version_major": 2,
       "version_minor": 0
      },
      "text/plain": [
       "README.md:   0%|          | 0.00/140k [00:00<?, ?B/s]"
      ]
     },
     "metadata": {},
     "output_type": "display_data"
    },
    {
     "data": {
      "application/vnd.jupyter.widget-view+json": {
       "model_id": "7f4cb32d30324fe38ba3b989dbafa515",
       "version_major": 2,
       "version_minor": 0
      },
      "text/plain": [
       "sentence_xlm-roberta_config.json:   0%|          | 0.00/53.0 [00:00<?, ?B/s]"
      ]
     },
     "metadata": {},
     "output_type": "display_data"
    },
    {
     "data": {
      "application/vnd.jupyter.widget-view+json": {
       "model_id": "db05c8308e27439cb699ee3c45d5fdba",
       "version_major": 2,
       "version_minor": 0
      },
      "text/plain": [
       "config.json:   0%|          | 0.00/690 [00:00<?, ?B/s]"
      ]
     },
     "metadata": {},
     "output_type": "display_data"
    },
    {
     "data": {
      "application/vnd.jupyter.widget-view+json": {
       "model_id": "91fb566d80304dd98818fc622ac3d4e0",
       "version_major": 2,
       "version_minor": 0
      },
      "text/plain": [
       "model.safetensors:   0%|          | 0.00/1.12G [00:00<?, ?B/s]"
      ]
     },
     "metadata": {},
     "output_type": "display_data"
    },
    {
     "data": {
      "application/vnd.jupyter.widget-view+json": {
       "model_id": "24b2208948434134ad9cd315905b58e6",
       "version_major": 2,
       "version_minor": 0
      },
      "text/plain": [
       "tokenizer_config.json:   0%|          | 0.00/1.18k [00:00<?, ?B/s]"
      ]
     },
     "metadata": {},
     "output_type": "display_data"
    },
    {
     "data": {
      "application/vnd.jupyter.widget-view+json": {
       "model_id": "41b4e4959ef346deae29ac339cb30fa8",
       "version_major": 2,
       "version_minor": 0
      },
      "text/plain": [
       "sentencepiece.bpe.model:   0%|          | 0.00/5.07M [00:00<?, ?B/s]"
      ]
     },
     "metadata": {},
     "output_type": "display_data"
    },
    {
     "data": {
      "application/vnd.jupyter.widget-view+json": {
       "model_id": "1d9c4dc1a0c049559898035354fc10e9",
       "version_major": 2,
       "version_minor": 0
      },
      "text/plain": [
       "tokenizer.json:   0%|          | 0.00/17.1M [00:00<?, ?B/s]"
      ]
     },
     "metadata": {},
     "output_type": "display_data"
    },
    {
     "data": {
      "application/vnd.jupyter.widget-view+json": {
       "model_id": "b466f3590ae343e0a0b1deb76d1fdae9",
       "version_major": 2,
       "version_minor": 0
      },
      "text/plain": [
       "special_tokens_map.json:   0%|          | 0.00/964 [00:00<?, ?B/s]"
      ]
     },
     "metadata": {},
     "output_type": "display_data"
    },
    {
     "data": {
      "application/vnd.jupyter.widget-view+json": {
       "model_id": "484ac521e2814f0d8437e686733792e8",
       "version_major": 2,
       "version_minor": 0
      },
      "text/plain": [
       "config.json:   0%|          | 0.00/271 [00:00<?, ?B/s]"
      ]
     },
     "metadata": {},
     "output_type": "display_data"
    }
   ],
   "source": [
    "# ru_model_name = \"cointegrated/rubert-tiny2\"\n",
    "ru_model_name = \"intfloat/multilingual-e5-large-instruct\"\n",
    "# ru_model_name = \"sergeyzh/BERTA\"\n",
    "embeddings = get_embeddings(ru_model_name)\n",
    "\n",
    "chroma_client_from_telegram = get_client(f'telegram_{CHANNEL_NAME}', embeddings)"
   ]
  },
  {
   "cell_type": "code",
   "execution_count": 6,
   "id": "4a20bf214491fdc4",
   "metadata": {
    "ExecuteTime": {
     "end_time": "2025-05-03T12:20:32.760577300Z",
     "start_time": "2025-05-03T12:12:14.043046Z"
    }
   },
   "outputs": [],
   "source": [
    "from langchain_chroma import Chroma\n",
    "from datetime import datetime, timedelta, UTC\n",
    "\n",
    "def get_last_seen_id_from_db(chroma_client: Chroma):\n",
    "    doc_dict = chroma_client.get(\n",
    "        where={\"date\": {\"$gte\": (datetime.now(UTC) - timedelta(days=30)).timestamp()}},\n",
    "        include=['metadatas'],\n",
    "    )\n",
    "    if not doc_dict['metadatas']:\n",
    "        return 0\n",
    "\n",
    "    return max(meta['id'] for meta in doc_dict['metadatas'])\n",
    "\n",
    "def get_earliest_message_id(chroma_client: Chroma):\n",
    "    doc_dict = chroma_client.get(include=['metadatas'])\n",
    "    if not doc_dict['metadatas']:\n",
    "        return 0\n",
    "\n",
    "    return min(meta['id'] for meta in doc_dict['metadatas'])\n",
    "\n",
    "async def get_early_messages_from_chat(channel_id, telegram_client, chroma_client: Chroma, chunks=10):\n",
    "    earliest_message_id = get_earliest_message_id(chroma_client)\n",
    "    print(\"Earliest seen id:\", earliest_message_id)\n",
    "    messages = await get_messages_from_channel(\n",
    "        telegram_client, channel_id, max_id=earliest_message_id, chunks=chunks\n",
    "    )\n",
    "    print(\"Got messages:\", len(messages))\n",
    "    return messages\n",
    "\n",
    "async def get_last_messages_from_chat(channel_id, telegram_client, chroma_client: Chroma, chunks=10):\n",
    "    last_seen_id = get_last_seen_id_from_db(chroma_client)\n",
    "    print(\"Last seen id:\", last_seen_id)\n",
    "    messages = await get_messages_from_channel(telegram_client, channel_id, min_id=last_seen_id, chunks=chunks)\n",
    "    print(\"Got messages:\", len(messages))\n",
    "    return messages"
   ]
  },
  {
   "cell_type": "code",
   "execution_count": 7,
   "id": "77f01eb8bd86c1e3",
   "metadata": {
    "ExecuteTime": {
     "end_time": "2025-05-03T12:21:04.324140Z",
     "start_time": "2025-05-03T12:21:04.199224Z"
    }
   },
   "outputs": [
    {
     "name": "stdout",
     "output_type": "stream",
     "text": [
      "Last seen id: 0\n"
     ]
    },
    {
     "name": "stderr",
     "output_type": "stream",
     "text": [
      "                                                                                                                                                                                           2.78s/it]\u001b[0m"
     ]
    },
    {
     "name": "stdout",
     "output_type": "stream",
     "text": [
      "Got messages: 9282\n"
     ]
    },
    {
     "name": "stderr",
     "output_type": "stream",
     "text": []
    }
   ],
   "source": [
    "new_messages = await get_last_messages_from_chat(\n",
    "    channel_id=CHANNEL_ID,\n",
    "    telegram_client=telegram_client,\n",
    "    chroma_client=chroma_client_from_telegram,\n",
    "    chunks=10\n",
    ")"
   ]
  },
  {
   "cell_type": "code",
   "execution_count": 30,
   "id": "8898e8b20bfe1503",
   "metadata": {
    "ExecuteTime": {
     "end_time": "2025-05-03T11:18:59.285252Z",
     "start_time": "2025-05-03T11:13:36.632778Z"
    }
   },
   "outputs": [
    {
     "name": "stdout",
     "output_type": "stream",
     "text": [
      "Earliest seen id: 80265\n"
     ]
    },
    {
     "name": "stderr",
     "output_type": "stream",
     "text": [
      "                                                                2.22s/it]"
     ]
    },
    {
     "name": "stdout",
     "output_type": "stream",
     "text": [
      "Got messages: 9141\n"
     ]
    },
    {
     "name": "stderr",
     "output_type": "stream",
     "text": [
      "\r"
     ]
    }
   ],
   "source": [
    "new_messages = await get_early_messages_from_chat(\n",
    "    channel_id=CHANNEL_ID,\n",
    "    telegram_client=telegram_client,\n",
    "    chroma_client=chroma_client_from_telegram,\n",
    "    chunks=10\n",
    ")"
   ]
  },
  {
   "cell_type": "code",
   "execution_count": 8,
   "id": "81f10ccfbddd2640",
   "metadata": {
    "ExecuteTime": {
     "end_time": "2025-05-03T12:18:25.774353Z",
     "start_time": "2025-05-03T12:18:25.770651Z"
    }
   },
   "outputs": [
    {
     "name": "stdout",
     "output_type": "stream",
     "text": [
      "9282\n",
      "[{'text': 'как ни странно, на пигу много чего дешевле, чем на амазоне даже с бесплатной доставкой', 'metadata': {'sender_name': 'sPRf77', 'id': 104554, 'date_str': '2024-04-19T10:07:19+00:00', 'date': 1713521239.0}}]\n"
     ]
    }
   ],
   "source": [
    "print(len(new_messages))\n",
    "print(list(new_messages.values())[-1:])"
   ]
  },
  {
   "cell_type": "code",
   "execution_count": 9,
   "id": "6185e4f8b26c83d4",
   "metadata": {
    "ExecuteTime": {
     "end_time": "2025-05-03T11:26:47.938367Z",
     "start_time": "2025-05-03T11:25:27.833107Z"
    }
   },
   "outputs": [
    {
     "name": "stdout",
     "output_type": "stream",
     "text": [
      "Loaded 9245 documents into ChromaDB.\n"
     ]
    }
   ],
   "source": [
    "load_data_to_chroma(chroma_client_from_telegram, new_messages.values(), reset=True)"
   ]
  },
  {
   "cell_type": "code",
   "execution_count": 11,
   "id": "28b19e1229e17113",
   "metadata": {
    "ExecuteTime": {
     "end_time": "2025-05-03T10:26:07.567922Z",
     "start_time": "2025-05-03T10:26:07.299604Z"
    }
   },
   "outputs": [],
   "source": [
    "from langchain import PromptTemplate\n",
    "from langchain_ollama import ChatOllama\n",
    "\n",
    "\n",
    "llm_qwen3_8b = ChatOllama(\n",
    "    model=\"qwen3:8b\",\n",
    ")"
   ]
  },
  {
   "cell_type": "code",
   "execution_count": 46,
   "id": "e297c8c001160326",
   "metadata": {
    "ExecuteTime": {
     "end_time": "2025-05-03T11:28:58.123868Z",
     "start_time": "2025-05-03T11:28:58.120232Z"
    }
   },
   "outputs": [],
   "source": [
    "user_query = \"Выведи самые токсичные сообщения в чате.\"\n",
    "user_query = \"Выведи самые позитивные сообщения в чате.\"\n",
    "user_query = \"Выведи самые негативные сообщения в чате о Польше.\"\n",
    "# user_query = \"Можно ли компенсировать отель или аквапарк через велнес БТА/бта/BTA?\"\n",
    "# user_query = \"Какие лучшие бани или сауны?\"\n",
    "# user_query = \"Как получить детские деньги, компенсацию по уходу за ребенком.\""
   ]
  },
  {
   "cell_type": "code",
   "execution_count": 19,
   "id": "22ee47275f8e0136",
   "metadata": {
    "ExecuteTime": {
     "end_time": "2025-05-03T08:45:44.882438Z",
     "start_time": "2025-05-03T08:45:21.147770Z"
    }
   },
   "outputs": [
    {
     "ename": "NameError",
     "evalue": "name 'PromptTemplate' is not defined",
     "output_type": "error",
     "traceback": [
      "\u001b[31m---------------------------------------------------------------------------\u001b[39m",
      "\u001b[31mNameError\u001b[39m                                 Traceback (most recent call last)",
      "\u001b[36mCell\u001b[39m\u001b[36m \u001b[39m\u001b[32mIn[19]\u001b[39m\u001b[32m, line 1\u001b[39m\n\u001b[32m----> \u001b[39m\u001b[32m1\u001b[39m ru_telegram_prompt_expanding = \u001b[43mPromptTemplate\u001b[49m(\n\u001b[32m      2\u001b[39m     input_variables=[\u001b[33m\"\u001b[39m\u001b[33muser_query\u001b[39m\u001b[33m\"\u001b[39m, \u001b[33m\"\u001b[39m\u001b[33mn\u001b[39m\u001b[33m\"\u001b[39m],\n\u001b[32m      3\u001b[39m     template=\u001b[33m\"\"\"\u001b[39m\n\u001b[32m      4\u001b[39m \u001b[33m    Напиши \u001b[39m\u001b[38;5;132;01m{n}\u001b[39;00m\u001b[33m гипотетических ответов на запрос пользователя.\u001b[39m\n\u001b[32m      5\u001b[39m \u001b[33m    Не добавляй заголовков, авторов и другой дополнительной информации к твоим ответам.\u001b[39m\n\u001b[32m      6\u001b[39m \n\u001b[32m      7\u001b[39m \u001b[33m    Вопрос пользователя:\u001b[39m\n\u001b[32m      8\u001b[39m \u001b[33m    \u001b[39m\u001b[38;5;132;01m{user_query}\u001b[39;00m\n\u001b[32m      9\u001b[39m \n\u001b[32m     10\u001b[39m \u001b[33m    Гипотетические ответы:\u001b[39m\n\u001b[32m     11\u001b[39m \u001b[33m    \u001b[39m\u001b[33m\"\"\"\u001b[39m,\n\u001b[32m     12\u001b[39m )\n\u001b[32m     14\u001b[39m hyde_chain_r1_8b = ru_telegram_prompt_expanding | llm_qwen3_8b\n\u001b[32m     15\u001b[39m raw_hypothetical_answers = hyde_chain_r1_8b.invoke({\u001b[33m\"\u001b[39m\u001b[33muser_query\u001b[39m\u001b[33m\"\u001b[39m: user_query, \u001b[33m\"\u001b[39m\u001b[33mn\u001b[39m\u001b[33m\"\u001b[39m: \u001b[32m15\u001b[39m}).content\n",
      "\u001b[31mNameError\u001b[39m: name 'PromptTemplate' is not defined"
     ]
    }
   ],
   "source": [
    "ru_telegram_prompt_expanding = PromptTemplate(\n",
    "    input_variables=[\"user_query\", \"n\"],\n",
    "    template=\"\"\"\n",
    "    Напиши {n} гипотетических ответов на запрос пользователя.\n",
    "    Не добавляй заголовков, авторов и другой дополнительной информации к твоим ответам.\n",
    "\n",
    "    Вопрос пользователя:\n",
    "    {user_query}\n",
    "\n",
    "    Гипотетические ответы:\n",
    "    \"\"\",\n",
    ")\n",
    "\n",
    "hyde_chain_r1_8b = ru_telegram_prompt_expanding | llm_qwen3_8b\n",
    "raw_hypothetical_answers = hyde_chain_r1_8b.invoke({\"user_query\": user_query, \"n\": 15}).content\n",
    "raw_hypothetical_answers"
   ]
  },
  {
   "cell_type": "code",
   "execution_count": 25,
   "id": "6101aae10854f429",
   "metadata": {
    "ExecuteTime": {
     "end_time": "2025-05-03T08:45:55.594666Z",
     "start_time": "2025-05-03T08:45:55.591827Z"
    }
   },
   "outputs": [],
   "source": [
    "user_query = raw_hypothetical_answers.split('</think>', maxsplit=1)[-1]"
   ]
  },
  {
   "cell_type": "code",
   "execution_count": null,
   "id": "c188390d-b3c9-46a8-b187-b3c93fd9df3c",
   "metadata": {},
   "outputs": [],
   "source": [
    "Retrieve documents using embeddings multilingual-e5-large-instruct"
   ]
  },
  {
   "cell_type": "code",
   "execution_count": 45,
   "id": "3c4db91e-1f99-4569-bb2d-9ee5b3f461e8",
   "metadata": {
    "ExecuteTime": {
     "end_time": "2025-05-03T11:29:02.411347Z",
     "start_time": "2025-05-03T11:29:02.173248Z"
    },
    "scrolled": true
   },
   "outputs": [
    {
     "name": "stdout",
     "output_type": "stream",
     "text": [
      "\n",
      "0.7988519106253629 2024-07-16 09:00:45+00:00 https://web.telegram.org/k/#?tgaddr=tg%3A%2F%2Fprivatepost%3Fchannel%3D1133953167%26post%3D107464 - mnezaikin: >> в Польше не хотело работать\n",
      "\n",
      " В разных странах европы возникало. Такой вот роуминг)\n",
      "---\n",
      "0.7976308321303053 2024-07-16 08:53:23+00:00 https://web.telegram.org/k/#?tgaddr=tg%3A%2F%2Fprivatepost%3Fchannel%3D1133953167%26post%3D107461 - trialerx: в Польше не хотело работать\n",
      "---\n",
      "0.7956835845088293 2025-04-08 16:01:22+00:00 https://web.telegram.org/k/#?tgaddr=tg%3A%2F%2Fprivatepost%3Fchannel%3D1133953167%26post%3D113965 - Henkel1990: >> Ну значит дела не такие важные 🤷‍♂️\n",
      "Сидеть боятся сьездить решить свои вопросы из-за аннулирования внж такое себе. Литва аннулирует, Польша выдаст, ну\n",
      "\n",
      " А Польша что всем и каждому ВНЖ выдает?\n",
      "---\n",
      "0.793342158486655 2025-04-08 16:00:13+00:00 https://web.telegram.org/k/#?tgaddr=tg%3A%2F%2Fprivatepost%3Fchannel%3D1133953167%26post%3D113964 - dzyanislobka: >> Ну значит дела не такие важные 🤷‍♂️\n",
      "Сидеть боятся сьездить решить свои вопросы из-за аннулирования внж такое себе. Литва аннулирует, Польша выдаст, ну\n",
      "\n",
      " Сидеть бояться или бояться сидеть. Выбери свой вариант\n",
      "---\n",
      "0.7910225645320095 2024-08-06 13:33:01+00:00 https://web.telegram.org/k/#?tgaddr=tg%3A%2F%2Fprivatepost%3Fchannel%3D1133953167%26post%3D108247 - imleave: >> Литовский товарищ майор, срочно пмж этому господину! Он так рьяно защищает закручивание гаек!\n",
      "\n",
      " Мне кажется, тут наоборот,  комиссия по возвращению должна быть в восторге от уровня хейта к злым литовцам, которые ненавидят белорусов и всеми силами пытаются усложнить им жизнь.\n",
      "---\n",
      "0.7880385465840138 2024-04-25 08:23:36+00:00 https://web.telegram.org/k/#?tgaddr=tg%3A%2F%2Fprivatepost%3Fchannel%3D1133953167%26post%3D104772 - MariaMKMS: >> В посольстве очередь была 4 месяца на подачу, проще в Варшаву в паспорт сервис сгонять\n",
      "\n",
      " лучше в гданьск. Там вообще очередей не было на получения заграна.\n",
      "---\n",
      "0.7851786089580344 2024-08-07 12:39:14+00:00 https://web.telegram.org/k/#?tgaddr=tg%3A%2F%2Fprivatepost%3Fchannel%3D1133953167%26post%3D108289 - kklickklack: >> Кстати коллеги говорят, что такая херня с внесением налика именно в Литве.\n",
      "Мол в Польше банки не так привередливы и принимают кэш за милую душу.\n",
      "\n",
      " В Польше так-то и хату у некоторых застройщиков все еще можно купить за чемодан нала. И даже вопросов не будет\n",
      "---\n",
      "0.7847783614111508 2024-11-09 12:54:18+00:00 https://web.telegram.org/k/#?tgaddr=tg%3A%2F%2Fprivatepost%3Fchannel%3D1133953167%26post%3D110400 - sharewax: Больше 100к в Польше нельзя гражданам РБ РФ\n",
      "---\n",
      "0.7824043769485018 2025-04-08 16:02:25+00:00 https://web.telegram.org/k/#?tgaddr=tg%3A%2F%2Fprivatepost%3Fchannel%3D1133953167%26post%3D113966 - kklickklack: >> А Польша что всем и каждому ВНЖ выдает?\n",
      "\n",
      " При наличии деняк и/или офера не то что бы проблема. За красивые глаза нигде внж не дают\n",
      "---\n",
      "0.7798527435193796 2024-08-06 13:44:33+00:00 https://web.telegram.org/k/#?tgaddr=tg%3A%2F%2Fprivatepost%3Fchannel%3D1133953167%26post%3D108249 - terra_lncognita: >> Мне кажется, тут наоборот,  комиссия по возвращению должна быть в восторге от уровня хейта к злым литовцам, которые ненавидят белорусов и всеми силами пытаются усложнить им жизнь.\n",
      "\n",
      " а где хейт? вроде просто обсуждение новых мер и не более того.\n",
      "---\n",
      "0.7794097801415301 2025-02-07 10:18:05+00:00 https://web.telegram.org/k/#?tgaddr=tg%3A%2F%2Fprivatepost%3Fchannel%3D1133953167%26post%3D112682 - mnezaikin: >> Хотите как у Польше? 🤣\n",
      "\n",
      " ну будут жабки, чо плохого)\n",
      "---\n",
      "0.7791943254519423 2024-04-30 09:21:07+00:00 https://web.telegram.org/k/#?tgaddr=tg%3A%2F%2Fprivatepost%3Fchannel%3D1133953167%26post%3D104962 - HGDreamer: Лет 100 назад сам задел авто чужое, пару часов ждал владельца, отдал ему страховку и получил много благодарностей что дождался, и как-то там никто не гнал что страховка оформлена в РБ, если есть кейсы когда польская страховка это куча проблем, поделитесь\n",
      "---\n",
      "0.7787767976971692 2025-04-26 10:59:12+00:00 https://web.telegram.org/k/#?tgaddr=tg%3A%2F%2Fprivatepost%3Fchannel%3D1133953167%26post%3D114502 - LesleyKnife: >> Так срочно надо бежать в еврокомиссию и сообщать о нарушении санкций. Только чет не бегут\n",
      "\n",
      " я не про то, беларуские журналисты уверены, что никакого разделения Лесты и ВГ ирл не было\n",
      "---\n",
      "0.7784586100643363 2025-04-08 15:58:31+00:00 https://web.telegram.org/k/#?tgaddr=tg%3A%2F%2Fprivatepost%3Fchannel%3D1133953167%26post%3D113962 - kklickklack: >> Если в результате можно получить аннулирование внж и чем черт не шутит - запрет на въезд в ЕС. То волей неволей будешь подстраивать планы\n",
      "\n",
      " Ну значит дела не такие важные 🤷‍♂️\n",
      "Сидеть боятся сьездить решить свои вопросы из-за аннулирования внж такое себе. Литва аннулирует, Польша выдаст, ну\n",
      "---\n",
      "0.7780042459639644 2024-08-24 06:42:40+00:00 https://web.telegram.org/k/#?tgaddr=tg%3A%2F%2Fprivatepost%3Fchannel%3D1133953167%26post%3D108695 - : >> Плюсую. Вчера брали для осмотра авто. Супер по общению и работе. Нам, как не особо разбирающихся, ещё и много полезного просто рассказали 😅\n",
      "\n",
      " От души не рекомендую кормить местных подборщиков. Смысла смотреть местные литовские авто нет, выбор небольшой, по сравнению с той же соседней Польшей. Культура обслуживания никакая.\n",
      "\n",
      "Если вам нужен подбор авто в Польше, либо авто с европейских аукционов напрямую без посредников, обращайтесь, помогу.\n",
      "\n"
     ]
    }
   ],
   "source": [
    "query = f\"Instruct: Given a question, retrieve relevant documents that best answer the question\\nQuery: {user_query}\"\n",
    "related_docs = chroma_client_from_telegram.similarity_search_with_relevance_scores(query, k=15)\n",
    "\n",
    "t_link_base = \"https://web.telegram.org/k/#?tgaddr=tg%3A%2F%2Fprivatepost%3Fchannel%3D1133953167%26post%3D\"\n",
    "print(\"---\".join(f\"\"\"\n",
    "{score} {datetime.fromtimestamp(doc.metadata['date'], UTC)} {t_link_base}{doc.metadata['id']} - {doc.metadata['sender_name']}: {doc.page_content}\n",
    "\"\"\" for doc, score in related_docs))"
   ]
  },
  {
   "cell_type": "code",
   "execution_count": 16,
   "id": "8725e1806b105426",
   "metadata": {
    "ExecuteTime": {
     "end_time": "2025-05-03T11:29:02.411347Z",
     "start_time": "2025-05-03T11:29:02.173248Z"
    },
    "scrolled": true
   },
   "outputs": [
    {
     "data": {
      "text/plain": [
       "[(Document(id='553187b7-3f91-4e4f-82b2-2d44ed8e5dc5', metadata={'date': 1741009166.0, 'id': 113241, 'sender_name': 'mnezaikin'}, page_content='>> А что по твоим критериям хороший и в каком районе\\n\\n район не сильно влияет, пушто я на машине\\nХороший это \"не подвал и с хорошей вентиляцией, с хорошими тренажерами, есть душ и есть шкафчики\"'),\n",
       "  0.8179634412294763),\n",
       " (Document(id='17c37982-9b66-4fdb-948d-316afa86eb43', metadata={'date': 1741016441.0, 'id': 113257, 'sender_name': 'mnezaikin'}, page_content='>> Фитус (новый) и форум (старый). Они с басиком и спа, это главный плюс. До фитуса ехать, до форума ножками пройтись от офиса. Форум подуставший уже, но вентиляция там норм и шаговая доступность. Фитус классный, дорого-богато и хорошо, но ехать в час пик туда обратно такое себе удовольствие(( По цене примерно одинаковые. Контингент приятный и там и там\\n\\n огонь, спасибо за фидбэк!'),\n",
       "  0.8178154847177788),\n",
       " (Document(id='7d38b83e-7af7-4f4a-aa86-8aba8b65636e', metadata={'date': 1741009685.0, 'id': 113248, 'sender_name': 'mnezaikin'}, page_content='>> https://www.fitus.lt\\nДорого и с бассейном\\n\\n чото орно что даже весы включили в прайс)))'),\n",
       "  0.812859289287413),\n",
       " (Document(id='eef9c702-fa96-4310-bf58-6b5f95c6bd4e', metadata={'date': 1741012902.0, 'id': 113256, 'sender_name': 'kklickklack'}, page_content='>> район не сильно влияет, пушто я на машине\\nХороший это \"не подвал и с хорошей вентиляцией, с хорошими тренажерами, есть душ и есть шкафчики\"\\n\\n Фитус (новый) и форум (старый). Они с басиком и спа, это главный плюс. До фитуса ехать, до форума ножками пройтись от офиса. Форум подуставший уже, но вентиляция там норм и шаговая доступность. Фитус классный, дорого-богато и хорошо, но ехать в час пик туда обратно такое себе удовольствие(( По цене примерно одинаковые. Контингент приятный и там и там'),\n",
       "  0.8126942843754928),\n",
       " (Document(id='4ddc2893-3d37-42e5-a624-742caa2e7538', metadata={'date': 1714738667.0, 'id': 105161, 'sender_name': 'MinisterOfFreshness'}, page_content='подскажите бассейн для плавания хороший. желательно недалеко от панорамы или вокзала'),\n",
       "  0.8082602673247528),\n",
       " (Document(id='ce812466-5acc-4ca4-a5a3-66b7b8a06bd0', metadata={'date': 1732305351.0, 'id': 110715, 'sender_name': 'LaxanyT'}, page_content='>> Может порекомендуете баньку в городе или под Вильнюсом недалеко, чтобы принять человек 10 и можно было со своей едой быть? С холодами приходится думать о тепле 😁\\n\\n Можно в тракай съездить (вот этих ребят посмотрите https://ivanasmusagonga.lt/en/) \\nТам домик на берегу озера. Довольно приятное место. Но вроде электропечь. Супер жара ждать не стоит'),\n",
       "  0.8068947937266968),\n",
       " (Document(id='6ad9b8c7-db60-480d-ac6b-83f34f92de12', metadata={'date': 1732297978.0, 'id': 110711, 'sender_name': 'ne_dust'}, page_content='В HBH Vilnius есть 3 домика с саунами которые можно снять. Только хз можно ли там со своей едой\\n\\nhttps://maps.app.goo.gl/KpCY9D39VjqLK5mLA'),\n",
       "  0.8059366483460744),\n",
       " (Document(id='4cb5a11a-5c7d-4d31-91f4-306603d0cf74', metadata={'date': 1732301831.0, 'id': 110713, 'sender_name': 'Kostaslacostas'}, page_content='>> В HBH Vilnius есть 3 домика с саунами которые можно снять. Только хз можно ли там со своей едой\\n\\nhttps://maps.app.goo.gl/KpCY9D39VjqLK5mLA\\n\\n Официально -нет, но мы со своей едой ездили'),\n",
       "  0.8038434251147808),\n",
       " (Document(id='505685d6-9186-4338-94d4-ce95a1378f2c', metadata={'date': 1727777884.0, 'id': 109384, 'sender_name': 'XXXvoyne'}, page_content='>> ну gym+ вроде хотя бы обновляет оборудование и уборка делается. \\nв моем местном лемоне можно музей раритетов открывать уже.\\n\\n Ну номинально да,но они не очень юзер Френдли \\n\\nКак-то пришла туда , а у них горячую воду отключили \\nОб этом никто не написал нигде вообще : ни в самой душевой,ни на сайте\\n\\nХз,так ли в лемоне ,но как по мне,то пиздец какой-то'),\n",
       "  0.8030202128696661),\n",
       " (Document(id='c105463a-830a-4bd9-a932-d7267a7303b1', metadata={'date': 1714738861.0, 'id': 105162, 'sender_name': 'vit_sumatokhin'}, page_content='>> подскажите бассейн для плавания хороший. желательно недалеко от панорамы или вокзала\\n\\n Единственный 50-метровый бассейн в Вильнюсе. Там есть и 25 метров. Построили его только в феврале прошлого года, поэтому внутри все новое и хорошее.\\nБТА компенсирует в том числе и трехмесячный абонемент.\\nhttps://www.lazdynubaseinas.eu/'),\n",
       "  0.7965704806420439),\n",
       " (Document(id='1ea5f5a1-1da4-4eba-9221-d63891efc6ea', metadata={'date': 1746012488.0, 'id': 114615, 'sender_name': ''}, page_content='А аквапарк+сауна компенсится'),\n",
       "  0.7961338814383196),\n",
       " (Document(id='97290253-97f6-4bc5-abac-e6a00a3338e3', metadata={'date': 1714739003.0, 'id': 105163, 'sender_name': 'XXXvoyne'}, page_content='Уточню про лаздинай, что на сайте есть расписание и загрузка, и стоит обращать внимание, потому что могут быть закрыты дорожки или отдельный бассейн'),\n",
       "  0.7953114910567508),\n",
       " (Document(id='2df2295b-8cc6-461d-8d5b-d66d3f84ea6b', metadata={'date': 1745853399.0, 'id': 114581, 'sender_name': 'MinisterOfFreshness'}, page_content='посоветуйте бассейн по цене качеству в Вильнюсе? \\n25-50м'),\n",
       "  0.7948908233617635),\n",
       " (Document(id='f866aea6-7e83-41f2-9873-e33d6d4db72f', metadata={'date': 1741008761.0, 'id': 113239, 'sender_name': 'redhead_girl'}, page_content='>> А посоветуйте плиз хорошие спортзалы в Вильнюсе\\n\\n https://www.fitus.lt\\nДорого и с бассейном'),\n",
       "  0.7943809940087515),\n",
       " (Document(id='dbc54b3c-5423-46b8-a79b-a7b3e1ecf004', metadata={'date': 1746012981.0, 'id': 114616, 'sender_name': 'glen_livet'}, page_content='>> А аквапарк+сауна компенсится\\n\\n Гаро Фабрикас компенсили мне без вопросов'),\n",
       "  0.7931634558489689)]"
      ]
     },
     "execution_count": 16,
     "metadata": {},
     "output_type": "execute_result"
    }
   ],
   "source": [
    "related_docs = chroma_client_from_telegram.similarity_search_with_relevance_scores(f'search_query: {user_query}', k=15)\n",
    "related_docs"
   ]
  },
  {
   "cell_type": "code",
   "execution_count": 41,
   "id": "7f991057712c0313",
   "metadata": {
    "ExecuteTime": {
     "end_time": "2025-05-02T14:15:26.522284Z",
     "start_time": "2025-05-02T14:15:26.499709Z"
    }
   },
   "outputs": [],
   "source": [
    "\n",
    "from datetime import datetime, timedelta, UTC\n",
    "\n",
    "related_docs = chroma_client_from_telegram.get(\n",
    "    where={\"date\": {\"$gte\": (datetime.now(UTC) - timedelta(days=30)).timestamp()}},\n",
    ")\n",
    "meta_docs = list(zip(related_docs['metadatas'], related_docs['documents']))\n",
    "\n",
    "context = \"\\n\\n---\\n\\n\".join(f\"{meta['date']} - {meta['sender_name']}: {doc}\" for meta, doc in meta_docs)"
   ]
  },
  {
   "cell_type": "code",
   "execution_count": 42,
   "id": "2060e3f298db28c5",
   "metadata": {
    "ExecuteTime": {
     "end_time": "2025-05-02T14:15:59.860655Z",
     "start_time": "2025-05-02T14:15:59.856979Z"
    }
   },
   "outputs": [
    {
     "data": {
      "text/plain": [
       "778"
      ]
     },
     "execution_count": 42,
     "metadata": {},
     "output_type": "execute_result"
    }
   ],
   "source": [
    "len(related_docs['metadatas'])"
   ]
  },
  {
   "cell_type": "code",
   "execution_count": 43,
   "id": "4ff200e9aa4e6a1c",
   "metadata": {
    "ExecuteTime": {
     "end_time": "2025-05-03T11:30:47.942053Z",
     "start_time": "2025-05-03T11:30:47.936643Z"
    }
   },
   "outputs": [
    {
     "ename": "TypeError",
     "evalue": "'>' not supported between instances of 'str' and 'float'",
     "output_type": "error",
     "traceback": [
      "\u001b[31m---------------------------------------------------------------------------\u001b[39m",
      "\u001b[31mTypeError\u001b[39m                                 Traceback (most recent call last)",
      "\u001b[36mCell\u001b[39m\u001b[36m \u001b[39m\u001b[32mIn[43]\u001b[39m\u001b[32m, line 5\u001b[39m\n\u001b[32m      1\u001b[39m filtered_related_docs = \u001b[38;5;28mfilter\u001b[39m(\u001b[38;5;28;01mlambda\u001b[39;00m doc_score: doc_score[-\u001b[32m1\u001b[39m] > \u001b[32m0.3\u001b[39m, related_docs)\n\u001b[32m      3\u001b[39m t_link_base = \u001b[33m\"\u001b[39m\u001b[33mhttps://web.telegram.org/k/#?tgaddr=tg\u001b[39m\u001b[33m%\u001b[39m\u001b[33m3A\u001b[39m\u001b[38;5;132;01m%2F\u001b[39;00m\u001b[38;5;132;01m%2F\u001b[39;00m\u001b[33mprivatepost\u001b[39m\u001b[38;5;132;01m%3F\u001b[39;00m\u001b[33mchannel\u001b[39m\u001b[33m%\u001b[39m\u001b[33m3D1133953167\u001b[39m\u001b[33m%\u001b[39m\u001b[33m26post\u001b[39m\u001b[33m%\u001b[39m\u001b[33m3D\u001b[39m\u001b[33m\"\u001b[39m\n\u001b[32m----> \u001b[39m\u001b[32m5\u001b[39m \u001b[38;5;28mprint\u001b[39m(\u001b[33;43m\"\u001b[39;49m\u001b[38;5;130;43;01m\\n\u001b[39;49;00m\u001b[38;5;130;43;01m\\n\u001b[39;49;00m\u001b[33;43m---\u001b[39;49m\u001b[38;5;130;43;01m\\n\u001b[39;49;00m\u001b[38;5;130;43;01m\\n\u001b[39;49;00m\u001b[33;43m\"\u001b[39;49m\u001b[43m.\u001b[49m\u001b[43mjoin\u001b[49m\u001b[43m(\u001b[49m\u001b[33;43mf\u001b[39;49m\u001b[33;43m\"\"\"\u001b[39;49m\n\u001b[32m      6\u001b[39m \u001b[38;5;132;43;01m{\u001b[39;49;00m\u001b[43mdoc\u001b[49m\u001b[43m.\u001b[49m\u001b[43mmetadata\u001b[49m\u001b[43m[\u001b[49m\u001b[33;43m'\u001b[39;49m\u001b[33;43mdate\u001b[39;49m\u001b[33;43m'\u001b[39;49m\u001b[43m]\u001b[49m\u001b[38;5;132;43;01m}\u001b[39;49;00m\u001b[33;43m \u001b[39;49m\u001b[38;5;132;43;01m{\u001b[39;49;00m\u001b[43mt_link_base\u001b[49m\u001b[38;5;132;43;01m}\u001b[39;49;00m\u001b[38;5;132;43;01m{\u001b[39;49;00m\u001b[43mdoc\u001b[49m\u001b[43m.\u001b[49m\u001b[43mmetadata\u001b[49m\u001b[43m[\u001b[49m\u001b[33;43m'\u001b[39;49m\u001b[33;43mid\u001b[39;49m\u001b[33;43m'\u001b[39;49m\u001b[43m]\u001b[49m\u001b[38;5;132;43;01m}\u001b[39;49;00m\u001b[33;43m - \u001b[39;49m\u001b[38;5;132;43;01m{\u001b[39;49;00m\u001b[43mdoc\u001b[49m\u001b[43m.\u001b[49m\u001b[43mpage_content\u001b[49m\u001b[38;5;132;43;01m}\u001b[39;49;00m\n\u001b[32m      7\u001b[39m \u001b[33;43m\"\"\"\u001b[39;49m\u001b[43m \u001b[49m\u001b[38;5;28;43;01mfor\u001b[39;49;00m\u001b[43m \u001b[49m\u001b[43mdoc\u001b[49m\u001b[43m,\u001b[49m\u001b[43m \u001b[49m\u001b[43m_score\u001b[49m\u001b[43m \u001b[49m\u001b[38;5;129;43;01min\u001b[39;49;00m\u001b[43m \u001b[49m\u001b[43mfiltered_related_docs\u001b[49m\u001b[43m)\u001b[49m)\n",
      "\u001b[36mCell\u001b[39m\u001b[36m \u001b[39m\u001b[32mIn[43]\u001b[39m\u001b[32m, line 7\u001b[39m, in \u001b[36m<genexpr>\u001b[39m\u001b[34m(.0)\u001b[39m\n\u001b[32m      1\u001b[39m filtered_related_docs = \u001b[38;5;28mfilter\u001b[39m(\u001b[38;5;28;01mlambda\u001b[39;00m doc_score: doc_score[-\u001b[32m1\u001b[39m] > \u001b[32m0.3\u001b[39m, related_docs)\n\u001b[32m      3\u001b[39m t_link_base = \u001b[33m\"\u001b[39m\u001b[33mhttps://web.telegram.org/k/#?tgaddr=tg\u001b[39m\u001b[33m%\u001b[39m\u001b[33m3A\u001b[39m\u001b[38;5;132;01m%2F\u001b[39;00m\u001b[38;5;132;01m%2F\u001b[39;00m\u001b[33mprivatepost\u001b[39m\u001b[38;5;132;01m%3F\u001b[39;00m\u001b[33mchannel\u001b[39m\u001b[33m%\u001b[39m\u001b[33m3D1133953167\u001b[39m\u001b[33m%\u001b[39m\u001b[33m26post\u001b[39m\u001b[33m%\u001b[39m\u001b[33m3D\u001b[39m\u001b[33m\"\u001b[39m\n\u001b[32m      5\u001b[39m \u001b[38;5;28mprint\u001b[39m(\u001b[33m\"\u001b[39m\u001b[38;5;130;01m\\n\u001b[39;00m\u001b[38;5;130;01m\\n\u001b[39;00m\u001b[33m---\u001b[39m\u001b[38;5;130;01m\\n\u001b[39;00m\u001b[38;5;130;01m\\n\u001b[39;00m\u001b[33m\"\u001b[39m.join\u001b[43m(\u001b[49m\u001b[33;43mf\u001b[39;49m\u001b[33;43m\"\"\"\u001b[39;49m\n\u001b[32m      6\u001b[39m \u001b[38;5;132;43;01m{\u001b[39;49;00m\u001b[43mdoc\u001b[49m\u001b[43m.\u001b[49m\u001b[43mmetadata\u001b[49m\u001b[43m[\u001b[49m\u001b[33;43m'\u001b[39;49m\u001b[33;43mdate\u001b[39;49m\u001b[33;43m'\u001b[39;49m\u001b[43m]\u001b[49m\u001b[38;5;132;43;01m}\u001b[39;49;00m\u001b[33;43m \u001b[39;49m\u001b[38;5;132;43;01m{\u001b[39;49;00m\u001b[43mt_link_base\u001b[49m\u001b[38;5;132;43;01m}\u001b[39;49;00m\u001b[38;5;132;43;01m{\u001b[39;49;00m\u001b[43mdoc\u001b[49m\u001b[43m.\u001b[49m\u001b[43mmetadata\u001b[49m\u001b[43m[\u001b[49m\u001b[33;43m'\u001b[39;49m\u001b[33;43mid\u001b[39;49m\u001b[33;43m'\u001b[39;49m\u001b[43m]\u001b[49m\u001b[38;5;132;43;01m}\u001b[39;49;00m\u001b[33;43m - \u001b[39;49m\u001b[38;5;132;43;01m{\u001b[39;49;00m\u001b[43mdoc\u001b[49m\u001b[43m.\u001b[49m\u001b[43mpage_content\u001b[49m\u001b[38;5;132;43;01m}\u001b[39;49;00m\n\u001b[32m----> \u001b[39m\u001b[32m7\u001b[39m \u001b[33;43m\"\"\"\u001b[39;49m\u001b[43m \u001b[49m\u001b[38;5;28;43;01mfor\u001b[39;49;00m\u001b[43m \u001b[49m\u001b[43mdoc\u001b[49m\u001b[43m,\u001b[49m\u001b[43m \u001b[49m\u001b[43m_score\u001b[49m\u001b[43m \u001b[49m\u001b[38;5;129;43;01min\u001b[39;49;00m\u001b[43m \u001b[49m\u001b[43mfiltered_related_docs\u001b[49m\u001b[43m)\u001b[49m)\n",
      "\u001b[36mCell\u001b[39m\u001b[36m \u001b[39m\u001b[32mIn[43]\u001b[39m\u001b[32m, line 1\u001b[39m, in \u001b[36m<lambda>\u001b[39m\u001b[34m(doc_score)\u001b[39m\n\u001b[32m----> \u001b[39m\u001b[32m1\u001b[39m filtered_related_docs = \u001b[38;5;28mfilter\u001b[39m(\u001b[38;5;28;01mlambda\u001b[39;00m doc_score: \u001b[43mdoc_score\u001b[49m\u001b[43m[\u001b[49m\u001b[43m-\u001b[49m\u001b[32;43m1\u001b[39;49m\u001b[43m]\u001b[49m\u001b[43m \u001b[49m\u001b[43m>\u001b[49m\u001b[43m \u001b[49m\u001b[32;43m0.3\u001b[39;49m, related_docs)\n\u001b[32m      3\u001b[39m t_link_base = \u001b[33m\"\u001b[39m\u001b[33mhttps://web.telegram.org/k/#?tgaddr=tg\u001b[39m\u001b[33m%\u001b[39m\u001b[33m3A\u001b[39m\u001b[38;5;132;01m%2F\u001b[39;00m\u001b[38;5;132;01m%2F\u001b[39;00m\u001b[33mprivatepost\u001b[39m\u001b[38;5;132;01m%3F\u001b[39;00m\u001b[33mchannel\u001b[39m\u001b[33m%\u001b[39m\u001b[33m3D1133953167\u001b[39m\u001b[33m%\u001b[39m\u001b[33m26post\u001b[39m\u001b[33m%\u001b[39m\u001b[33m3D\u001b[39m\u001b[33m\"\u001b[39m\n\u001b[32m      5\u001b[39m \u001b[38;5;28mprint\u001b[39m(\u001b[33m\"\u001b[39m\u001b[38;5;130;01m\\n\u001b[39;00m\u001b[38;5;130;01m\\n\u001b[39;00m\u001b[33m---\u001b[39m\u001b[38;5;130;01m\\n\u001b[39;00m\u001b[38;5;130;01m\\n\u001b[39;00m\u001b[33m\"\u001b[39m.join(\u001b[33mf\u001b[39m\u001b[33m\"\"\"\u001b[39m\n\u001b[32m      6\u001b[39m \u001b[38;5;132;01m{\u001b[39;00mdoc.metadata[\u001b[33m'\u001b[39m\u001b[33mdate\u001b[39m\u001b[33m'\u001b[39m]\u001b[38;5;132;01m}\u001b[39;00m\u001b[33m \u001b[39m\u001b[38;5;132;01m{\u001b[39;00mt_link_base\u001b[38;5;132;01m}\u001b[39;00m\u001b[38;5;132;01m{\u001b[39;00mdoc.metadata[\u001b[33m'\u001b[39m\u001b[33mid\u001b[39m\u001b[33m'\u001b[39m]\u001b[38;5;132;01m}\u001b[39;00m\u001b[33m - \u001b[39m\u001b[38;5;132;01m{\u001b[39;00mdoc.page_content\u001b[38;5;132;01m}\u001b[39;00m\n\u001b[32m      7\u001b[39m \u001b[33m\"\"\"\u001b[39m \u001b[38;5;28;01mfor\u001b[39;00m doc, _score \u001b[38;5;129;01min\u001b[39;00m filtered_related_docs))\n",
      "\u001b[31mTypeError\u001b[39m: '>' not supported between instances of 'str' and 'float'"
     ]
    }
   ],
   "source": [
    "filtered_related_docs = filter(lambda doc_score: doc_score[-1] > 0.3, related_docs)\n",
    "\n",
    "t_link_base = \"https://web.telegram.org/k/#?tgaddr=tg%3A%2F%2Fprivatepost%3Fchannel%3D1133953167%26post%3D\"\n",
    "\n",
    "print(\"\\n\\n---\\n\\n\".join(f\"\"\"\n",
    "{doc.metadata['date']} {t_link_base}{doc.metadata['id']} - {doc.page_content}\n",
    "\"\"\" for doc, _score in filtered_related_docs))"
   ]
  },
  {
   "cell_type": "code",
   "execution_count": null,
   "id": "c35007263ed6b21d",
   "metadata": {
    "ExecuteTime": {
     "end_time": "2025-05-03T08:30:59.723072Z",
     "start_time": "2025-05-03T08:30:59.719209Z"
    }
   },
   "outputs": [],
   "source": [
    "filtered_related_docs = filter(lambda doc_score: doc_score[-1] > 0.3, related_docs)\n",
    "\n",
    "context = \"\\n\\n---\\n\\n\".join(f\"{doc.metadata['date']} - {doc.page_content}\" for doc, _score in filtered_related_docs)"
   ]
  },
  {
   "cell_type": "code",
   "execution_count": null,
   "id": "bff1b4fc98c216be",
   "metadata": {
    "ExecuteTime": {
     "end_time": "2025-05-03T08:31:25.370961Z",
     "start_time": "2025-05-03T08:31:03.595632Z"
    }
   },
   "outputs": [],
   "source": [
    "# user_query = \"Здесь собраны последние сообщения из чата. Расскажи про основные темы и выводы.\"\n",
    "\n",
    "ru_telegram_prompt = PromptTemplate(\n",
    "    input_variables=[\"context\", \"user_query\"],\n",
    "    template=\"\"\"\n",
    "    Ты полезный AI ассистент, который отвечает на вопросы пользователя на основе контекста.\n",
    "    Контекст это релевантные вопросу сообщения из телеграм чата.\n",
    "\n",
    "    Контекст:\n",
    "    {context}\n",
    "\n",
    "    Вопрос пользователя:\n",
    "    {user_query}\n",
    "\n",
    "    Если в контексте недостаточно информации, чтобы ответить на вопрос пользователя, то скажи, что недостаточно информации.\n",
    "\n",
    "    Ответ:\n",
    "    \"\"\",\n",
    ")\n",
    "\n",
    "hyde_chain_r1_8b = ru_telegram_prompt | llm_qwen3_8b\n",
    "llm_response = hyde_chain_r1_8b.invoke({\"user_query\": user_query, \"context\": context}).content\n",
    "print(llm_response)"
   ]
  },
  {
   "cell_type": "code",
   "execution_count": null,
   "id": "91144e5909477f78",
   "metadata": {},
   "outputs": [],
   "source": []
  },
  {
   "cell_type": "code",
   "execution_count": null,
   "id": "4f39b362-261d-4764-8bb3-bba38255775b",
   "metadata": {},
   "outputs": [],
   "source": []
  },
  {
   "cell_type": "code",
   "execution_count": null,
   "id": "7585d3dd-0173-40a0-a689-dbbae3c11e90",
   "metadata": {},
   "outputs": [],
   "source": []
  }
 ],
 "metadata": {
  "kernelspec": {
   "display_name": "Python 3 (ipykernel)",
   "language": "python",
   "name": "python3"
  },
  "language_info": {
   "codemirror_mode": {
    "name": "ipython",
    "version": 3
   },
   "file_extension": ".py",
   "mimetype": "text/x-python",
   "name": "python",
   "nbconvert_exporter": "python",
   "pygments_lexer": "ipython3",
   "version": "3.12.9"
  }
 },
 "nbformat": 4,
 "nbformat_minor": 5
}
